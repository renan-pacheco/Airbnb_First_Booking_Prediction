{
 "cells": [
  {
   "cell_type": "markdown",
   "id": "858f8c8e",
   "metadata": {
    "heading_collapsed": true,
    "id": "858f8c8e"
   },
   "source": [
    "# Airbnb's Business Question and Plan for Success"
   ]
  },
  {
   "cell_type": "markdown",
   "id": "c39171b1",
   "metadata": {
    "hidden": true,
    "id": "c39171b1"
   },
   "source": [
    "## Understanding the Business Question"
   ]
  },
  {
   "cell_type": "markdown",
   "id": "28d37740",
   "metadata": {
    "hidden": true,
    "id": "28d37740"
   },
   "source": [
    "-- The Objective of the Business Problem:\n",
    "\n",
    "    -- 1.0. Prediction of which country a new user's first booking destination will be upon using Airbnb.\n",
    "\n",
    "-- Proposal for Solution:\n",
    "\n",
    "-- "
   ]
  },
  {
   "cell_type": "markdown",
   "id": "2bfb4a01",
   "metadata": {
    "hidden": true,
    "id": "2bfb4a01"
   },
   "source": [
    "## The Business Planning"
   ]
  },
  {
   "cell_type": "code",
   "execution_count": null,
   "id": "1b539e05",
   "metadata": {
    "hidden": true,
    "id": "1b539e05"
   },
   "outputs": [],
   "source": []
  },
  {
   "cell_type": "markdown",
   "id": "948bf8ce",
   "metadata": {
    "id": "948bf8ce"
   },
   "source": [
    "# <font color = 'green'> ----- Cycle 1: First Sprint ----- </font>"
   ]
  },
  {
   "cell_type": "markdown",
   "id": "40ced25d",
   "metadata": {
    "id": "40ced25d"
   },
   "source": [
    "# 0. Imports "
   ]
  },
  {
   "cell_type": "markdown",
   "id": "289a618f",
   "metadata": {
    "id": "289a618f"
   },
   "source": [
    "## 0.1. Libraries:"
   ]
  },
  {
   "cell_type": "code",
   "execution_count": 1,
   "id": "SgyepwdtF44K",
   "metadata": {
    "ExecuteTime": {
     "end_time": "2022-03-21T15:46:53.989636Z",
     "start_time": "2022-03-21T15:46:46.705600Z"
    },
    "colab": {
     "base_uri": "https://localhost:8080/"
    },
    "executionInfo": {
     "elapsed": 20816,
     "status": "ok",
     "timestamp": 1647874256137,
     "user": {
      "displayName": "Renan Pacheco",
      "photoUrl": "https://lh3.googleusercontent.com/a-/AOh14GiRv7UuC3atWqKJu9tdNt8L6TW4viUyBcgTc6e1sw=s64",
      "userId": "12718092000337794607"
     },
     "user_tz": 180
    },
    "id": "SgyepwdtF44K",
    "outputId": "47e055b7-62d6-460b-d75f-4cc82e0761a2"
   },
   "outputs": [
    {
     "name": "stdout",
     "output_type": "stream",
     "text": [
      "Defaulting to user installation because normal site-packages is not writeable\n",
      "Requirement already satisfied: keras in /home/renanpacheco/.local/lib/python3.9/site-packages (2.8.0)\n",
      "\u001b[33mWARNING: You are using pip version 22.0.3; however, version 22.0.4 is available.\n",
      "You should consider upgrading via the '/usr/bin/python3 -m pip install --upgrade pip' command.\u001b[0m\u001b[33m\n",
      "\u001b[0mDefaulting to user installation because normal site-packages is not writeable\n",
      "Requirement already satisfied: tensorflow in /home/renanpacheco/.local/lib/python3.9/site-packages (2.8.0)\n",
      "Requirement already satisfied: grpcio<2.0,>=1.24.3 in /home/renanpacheco/.local/lib/python3.9/site-packages (from tensorflow) (1.44.0)\n",
      "Requirement already satisfied: six>=1.12.0 in /usr/lib/python3/dist-packages (from tensorflow) (1.16.0)\n",
      "Requirement already satisfied: setuptools in /usr/lib/python3/dist-packages (from tensorflow) (52.0.0)\n",
      "Requirement already satisfied: astunparse>=1.6.0 in /home/renanpacheco/.local/lib/python3.9/site-packages (from tensorflow) (1.6.3)\n",
      "Requirement already satisfied: google-pasta>=0.1.1 in /home/renanpacheco/.local/lib/python3.9/site-packages (from tensorflow) (0.2.0)\n",
      "Requirement already satisfied: opt-einsum>=2.3.2 in /home/renanpacheco/.local/lib/python3.9/site-packages (from tensorflow) (3.3.0)\n",
      "Requirement already satisfied: flatbuffers>=1.12 in /home/renanpacheco/.local/lib/python3.9/site-packages (from tensorflow) (2.0)\n",
      "Requirement already satisfied: gast>=0.2.1 in /home/renanpacheco/.local/lib/python3.9/site-packages (from tensorflow) (0.5.3)\n",
      "Requirement already satisfied: tensorboard<2.9,>=2.8 in /home/renanpacheco/.local/lib/python3.9/site-packages (from tensorflow) (2.8.0)\n",
      "Requirement already satisfied: wrapt>=1.11.0 in /home/renanpacheco/.local/lib/python3.9/site-packages (from tensorflow) (1.14.0)\n",
      "Requirement already satisfied: keras-preprocessing>=1.1.1 in /home/renanpacheco/.local/lib/python3.9/site-packages (from tensorflow) (1.1.2)\n",
      "Requirement already satisfied: libclang>=9.0.1 in /home/renanpacheco/.local/lib/python3.9/site-packages (from tensorflow) (13.0.0)\n",
      "Requirement already satisfied: absl-py>=0.4.0 in /home/renanpacheco/.local/lib/python3.9/site-packages (from tensorflow) (1.0.0)\n",
      "Requirement already satisfied: termcolor>=1.1.0 in /home/renanpacheco/.local/lib/python3.9/site-packages (from tensorflow) (1.1.0)\n",
      "Requirement already satisfied: typing-extensions>=3.6.6 in /home/renanpacheco/.local/lib/python3.9/site-packages (from tensorflow) (4.1.1)\n",
      "Requirement already satisfied: h5py>=2.9.0 in /home/renanpacheco/.local/lib/python3.9/site-packages (from tensorflow) (3.6.0)\n",
      "Requirement already satisfied: tensorflow-io-gcs-filesystem>=0.23.1 in /home/renanpacheco/.local/lib/python3.9/site-packages (from tensorflow) (0.24.0)\n",
      "Requirement already satisfied: keras<2.9,>=2.8.0rc0 in /home/renanpacheco/.local/lib/python3.9/site-packages (from tensorflow) (2.8.0)\n",
      "Requirement already satisfied: numpy>=1.20 in /home/renanpacheco/.local/lib/python3.9/site-packages (from tensorflow) (1.22.3)\n",
      "Requirement already satisfied: tf-estimator-nightly==2.8.0.dev2021122109 in /home/renanpacheco/.local/lib/python3.9/site-packages (from tensorflow) (2.8.0.dev2021122109)\n",
      "Requirement already satisfied: protobuf>=3.9.2 in /home/renanpacheco/.local/lib/python3.9/site-packages (from tensorflow) (3.19.4)\n",
      "Requirement already satisfied: wheel<1.0,>=0.23.0 in /usr/lib/python3/dist-packages (from astunparse>=1.6.0->tensorflow) (0.34.2)\n",
      "Requirement already satisfied: google-auth<3,>=1.6.3 in /home/renanpacheco/.local/lib/python3.9/site-packages (from tensorboard<2.9,>=2.8->tensorflow) (2.6.0)\n",
      "Requirement already satisfied: tensorboard-plugin-wit>=1.6.0 in /home/renanpacheco/.local/lib/python3.9/site-packages (from tensorboard<2.9,>=2.8->tensorflow) (1.8.1)\n",
      "Requirement already satisfied: requests<3,>=2.21.0 in /usr/lib/python3/dist-packages (from tensorboard<2.9,>=2.8->tensorflow) (2.25.1)\n",
      "Requirement already satisfied: werkzeug>=0.11.15 in /home/renanpacheco/.local/lib/python3.9/site-packages (from tensorboard<2.9,>=2.8->tensorflow) (2.0.3)\n",
      "Requirement already satisfied: markdown>=2.6.8 in /home/renanpacheco/.local/lib/python3.9/site-packages (from tensorboard<2.9,>=2.8->tensorflow) (3.3.6)\n",
      "Requirement already satisfied: tensorboard-data-server<0.7.0,>=0.6.0 in /home/renanpacheco/.local/lib/python3.9/site-packages (from tensorboard<2.9,>=2.8->tensorflow) (0.6.1)\n",
      "Requirement already satisfied: google-auth-oauthlib<0.5,>=0.4.1 in /home/renanpacheco/.local/lib/python3.9/site-packages (from tensorboard<2.9,>=2.8->tensorflow) (0.4.6)\n",
      "Requirement already satisfied: cachetools<6.0,>=2.0.0 in /home/renanpacheco/.local/lib/python3.9/site-packages (from google-auth<3,>=1.6.3->tensorboard<2.9,>=2.8->tensorflow) (5.0.0)\n",
      "Requirement already satisfied: pyasn1-modules>=0.2.1 in /home/renanpacheco/.local/lib/python3.9/site-packages (from google-auth<3,>=1.6.3->tensorboard<2.9,>=2.8->tensorflow) (0.2.8)\n",
      "Requirement already satisfied: rsa<5,>=3.1.4 in /home/renanpacheco/.local/lib/python3.9/site-packages (from google-auth<3,>=1.6.3->tensorboard<2.9,>=2.8->tensorflow) (4.8)\n",
      "Requirement already satisfied: requests-oauthlib>=0.7.0 in /home/renanpacheco/.local/lib/python3.9/site-packages (from google-auth-oauthlib<0.5,>=0.4.1->tensorboard<2.9,>=2.8->tensorflow) (1.3.1)\n",
      "Requirement already satisfied: importlib-metadata>=4.4 in /home/renanpacheco/.local/lib/python3.9/site-packages (from markdown>=2.6.8->tensorboard<2.9,>=2.8->tensorflow) (4.11.3)\n",
      "Requirement already satisfied: zipp>=0.5 in /home/renanpacheco/.local/lib/python3.9/site-packages (from importlib-metadata>=4.4->markdown>=2.6.8->tensorboard<2.9,>=2.8->tensorflow) (3.7.0)\n",
      "Requirement already satisfied: pyasn1<0.5.0,>=0.4.6 in /home/renanpacheco/.local/lib/python3.9/site-packages (from pyasn1-modules>=0.2.1->google-auth<3,>=1.6.3->tensorboard<2.9,>=2.8->tensorflow) (0.4.8)\n",
      "Requirement already satisfied: oauthlib>=3.0.0 in /home/renanpacheco/.local/lib/python3.9/site-packages (from requests-oauthlib>=0.7.0->google-auth-oauthlib<0.5,>=0.4.1->tensorboard<2.9,>=2.8->tensorflow) (3.2.0)\n",
      "\u001b[33mWARNING: You are using pip version 22.0.3; however, version 22.0.4 is available.\n",
      "You should consider upgrading via the '/usr/bin/python3 -m pip install --upgrade pip' command.\u001b[0m\u001b[33m\n",
      "\u001b[0mDefaulting to user installation because normal site-packages is not writeable\n",
      "Requirement already satisfied: scikit-plot in /home/renanpacheco/.local/lib/python3.9/site-packages (0.3.7)\n",
      "Requirement already satisfied: scikit-learn>=0.18 in /home/renanpacheco/.local/lib/python3.9/site-packages (from scikit-plot) (1.0.2)\n",
      "Requirement already satisfied: joblib>=0.10 in /home/renanpacheco/.local/lib/python3.9/site-packages (from scikit-plot) (1.1.0)\n",
      "Requirement already satisfied: scipy>=0.9 in /home/renanpacheco/.local/lib/python3.9/site-packages (from scikit-plot) (1.8.0)\n",
      "Requirement already satisfied: matplotlib>=1.4.0 in /home/renanpacheco/.local/lib/python3.9/site-packages (from scikit-plot) (3.5.1)\n",
      "Requirement already satisfied: pillow>=6.2.0 in /home/renanpacheco/.local/lib/python3.9/site-packages (from matplotlib>=1.4.0->scikit-plot) (9.0.0)\n",
      "Requirement already satisfied: fonttools>=4.22.0 in /home/renanpacheco/.local/lib/python3.9/site-packages (from matplotlib>=1.4.0->scikit-plot) (4.28.5)\n",
      "Requirement already satisfied: cycler>=0.10 in /home/renanpacheco/.local/lib/python3.9/site-packages (from matplotlib>=1.4.0->scikit-plot) (0.11.0)\n",
      "Requirement already satisfied: packaging>=20.0 in /home/renanpacheco/.local/lib/python3.9/site-packages (from matplotlib>=1.4.0->scikit-plot) (21.3)\n",
      "Requirement already satisfied: python-dateutil>=2.7 in /home/renanpacheco/.local/lib/python3.9/site-packages (from matplotlib>=1.4.0->scikit-plot) (2.8.2)\n",
      "Requirement already satisfied: numpy>=1.17 in /home/renanpacheco/.local/lib/python3.9/site-packages (from matplotlib>=1.4.0->scikit-plot) (1.22.3)\n",
      "Requirement already satisfied: pyparsing>=2.2.1 in /home/renanpacheco/.local/lib/python3.9/site-packages (from matplotlib>=1.4.0->scikit-plot) (3.0.6)\n",
      "Requirement already satisfied: kiwisolver>=1.0.1 in /home/renanpacheco/.local/lib/python3.9/site-packages (from matplotlib>=1.4.0->scikit-plot) (1.3.2)\n"
     ]
    },
    {
     "name": "stdout",
     "output_type": "stream",
     "text": [
      "Requirement already satisfied: threadpoolctl>=2.0.0 in /home/renanpacheco/.local/lib/python3.9/site-packages (from scikit-learn>=0.18->scikit-plot) (3.1.0)\n",
      "Requirement already satisfied: six>=1.5 in /usr/lib/python3/dist-packages (from python-dateutil>=2.7->matplotlib>=1.4.0->scikit-plot) (1.16.0)\n",
      "\u001b[33mWARNING: You are using pip version 22.0.3; however, version 22.0.4 is available.\n",
      "You should consider upgrading via the '/usr/bin/python3 -m pip install --upgrade pip' command.\u001b[0m\u001b[33m\n",
      "\u001b[0m"
     ]
    }
   ],
   "source": [
    "import sys\n",
    "\n",
    "!{sys.executable} -m pip install keras\n",
    "!{sys.executable} -m pip install tensorflow\n",
    "!{sys.executable} -m pip install scikit-plot"
   ]
  },
  {
   "cell_type": "code",
   "execution_count": 2,
   "id": "ea509435",
   "metadata": {
    "ExecuteTime": {
     "end_time": "2022-03-21T15:46:59.233482Z",
     "start_time": "2022-03-21T15:46:53.994460Z"
    },
    "executionInfo": {
     "elapsed": 9535,
     "status": "ok",
     "timestamp": 1647874265664,
     "user": {
      "displayName": "Renan Pacheco",
      "photoUrl": "https://lh3.googleusercontent.com/a-/AOh14GiRv7UuC3atWqKJu9tdNt8L6TW4viUyBcgTc6e1sw=s64",
      "userId": "12718092000337794607"
     },
     "user_tz": 180
    },
    "id": "ea509435"
   },
   "outputs": [
    {
     "name": "stderr",
     "output_type": "stream",
     "text": [
      "2022-03-21 12:46:56.641817: W tensorflow/stream_executor/platform/default/dso_loader.cc:64] Could not load dynamic library 'libcudart.so.11.0'; dlerror: libcudart.so.11.0: cannot open shared object file: No such file or directory\n",
      "2022-03-21 12:46:56.641850: I tensorflow/stream_executor/cuda/cudart_stub.cc:29] Ignore above cudart dlerror if you do not have a GPU set up on your machine.\n"
     ]
    }
   ],
   "source": [
    "import random\n",
    "\n",
    "import pandas  as pd\n",
    "import numpy   as np\n",
    "import seaborn as sns\n",
    "\n",
    "from IPython.core.display import HTML\n",
    "from datetime             import datetime, timedelta\n",
    "\n",
    "from matplotlib import pyplot as plt\n",
    "from scipy      import stats  as ss\n",
    "\n",
    "from sklearn import model_selection as ms\n",
    "from sklearn import preprocessing   as pp\n",
    "from sklearn import metrics         as m\n",
    "\n",
    "from scikitplot import metrics as mt\n",
    "\n",
    "from keras import models as ml\n",
    "from keras import layers as l"
   ]
  },
  {
   "cell_type": "markdown",
   "id": "062cb119",
   "metadata": {
    "id": "062cb119"
   },
   "source": [
    "## 0.2. Helper Functions"
   ]
  },
  {
   "cell_type": "code",
   "execution_count": 3,
   "id": "8305dff1",
   "metadata": {
    "ExecuteTime": {
     "end_time": "2022-03-21T15:46:59.245533Z",
     "start_time": "2022-03-21T15:46:59.236391Z"
    },
    "executionInfo": {
     "elapsed": 16,
     "status": "ok",
     "timestamp": 1647874265665,
     "user": {
      "displayName": "Renan Pacheco",
      "photoUrl": "https://lh3.googleusercontent.com/a-/AOh14GiRv7UuC3atWqKJu9tdNt8L6TW4viUyBcgTc6e1sw=s64",
      "userId": "12718092000337794607"
     },
     "user_tz": 180
    },
    "id": "8305dff1"
   },
   "outputs": [],
   "source": [
    "# Função auxiliar para construcão do layout:\n",
    "def jupyter_settings():\n",
    "    %matplotlib inline\n",
    "#     %matplotlib inline\n",
    "    \n",
    "    plt.style.use( 'bmh' )\n",
    "    plt.rcParams[ 'figure.figsize' ] = [12, 6]\n",
    "    plt.rcParams[ 'font.size' ] = 20\n",
    "    \n",
    "    display( HTML( '<style>.container { width:95% !important; }</style>' ) )\n",
    "    pd.options.display.max_columns = None\n",
    "    pd.options.display.max_rows = None\n",
    "    pd.set_option( 'display.expand_frame_repr', False )\n",
    "    \n",
    "    sns.set()"
   ]
  },
  {
   "cell_type": "code",
   "execution_count": 4,
   "id": "ae967363",
   "metadata": {
    "ExecuteTime": {
     "end_time": "2022-03-21T15:46:59.262309Z",
     "start_time": "2022-03-21T15:46:59.249174Z"
    },
    "colab": {
     "base_uri": "https://localhost:8080/",
     "height": 17
    },
    "executionInfo": {
     "elapsed": 16,
     "status": "ok",
     "timestamp": 1647874265666,
     "user": {
      "displayName": "Renan Pacheco",
      "photoUrl": "https://lh3.googleusercontent.com/a-/AOh14GiRv7UuC3atWqKJu9tdNt8L6TW4viUyBcgTc6e1sw=s64",
      "userId": "12718092000337794607"
     },
     "user_tz": 180
    },
    "id": "ae967363",
    "outputId": "28969d4d-6df6-470d-adce-a110845f62e5"
   },
   "outputs": [
    {
     "data": {
      "text/html": [
       "<style>.container { width:95% !important; }</style>"
      ],
      "text/plain": [
       "<IPython.core.display.HTML object>"
      ]
     },
     "metadata": {},
     "output_type": "display_data"
    }
   ],
   "source": [
    "jupyter_settings()"
   ]
  },
  {
   "cell_type": "code",
   "execution_count": 5,
   "id": "Vjp4zHQKoHCA",
   "metadata": {
    "ExecuteTime": {
     "end_time": "2022-03-21T15:46:59.272588Z",
     "start_time": "2022-03-21T15:46:59.266763Z"
    },
    "executionInfo": {
     "elapsed": 14,
     "status": "ok",
     "timestamp": 1647874265667,
     "user": {
      "displayName": "Renan Pacheco",
      "photoUrl": "https://lh3.googleusercontent.com/a-/AOh14GiRv7UuC3atWqKJu9tdNt8L6TW4viUyBcgTc6e1sw=s64",
      "userId": "12718092000337794607"
     },
     "user_tz": 180
    },
    "id": "Vjp4zHQKoHCA"
   },
   "outputs": [],
   "source": [
    "# Funcão de correlacão de variáveis categóricas, utilizando do método estatístico de Cramer's V:\n",
    "def cramer_v( x, y ):\n",
    "    \n",
    "    #Inicialmente, calcula-se a \"confusion matrix\"\n",
    "    cm = pd.crosstab( x, y ).values\n",
    "    \n",
    "    #Calcula-se as variáveis do método\n",
    "    chi2 = ss.chi2_contingency(cm)[0]\n",
    "    n = cm.sum()\n",
    "    r, k = cm.shape\n",
    "    \n",
    "    #Ao final, a funcão retorna a própria equacão de cramer's V\n",
    "    return np.sqrt( ( chi2/n )/( min(  k-1, r-1 ) ) )"
   ]
  },
  {
   "cell_type": "markdown",
   "id": "da94f7e7",
   "metadata": {
    "id": "da94f7e7"
   },
   "source": [
    "## 0.3. Loading the data"
   ]
  },
  {
   "cell_type": "code",
   "execution_count": 6,
   "id": "92b04387",
   "metadata": {
    "ExecuteTime": {
     "end_time": "2022-03-21T15:46:59.950571Z",
     "start_time": "2022-03-21T15:46:59.276085Z"
    },
    "executionInfo": {
     "elapsed": 546,
     "status": "ok",
     "timestamp": 1647874730629,
     "user": {
      "displayName": "Renan Pacheco",
      "photoUrl": "https://lh3.googleusercontent.com/a-/AOh14GiRv7UuC3atWqKJu9tdNt8L6TW4viUyBcgTc6e1sw=s64",
      "userId": "12718092000337794607"
     },
     "user_tz": 180
    },
    "id": "92b04387"
   },
   "outputs": [],
   "source": [
    "# Dataset for training the users inherent characteristics:\n",
    "df_users = pd.read_csv( 'datasets/training_users.csv', low_memory=True )"
   ]
  },
  {
   "cell_type": "code",
   "execution_count": 7,
   "id": "e79eac35",
   "metadata": {
    "ExecuteTime": {
     "end_time": "2022-03-21T15:47:14.970045Z",
     "start_time": "2022-03-21T15:46:59.952850Z"
    },
    "colab": {
     "base_uri": "https://localhost:8080/"
    },
    "executionInfo": {
     "elapsed": 22152,
     "status": "ok",
     "timestamp": 1647874291263,
     "user": {
      "displayName": "Renan Pacheco",
      "photoUrl": "https://lh3.googleusercontent.com/a-/AOh14GiRv7UuC3atWqKJu9tdNt8L6TW4viUyBcgTc6e1sw=s64",
      "userId": "12718092000337794607"
     },
     "user_tz": 180
    },
    "id": "e79eac35",
    "outputId": "17dd52d4-df20-4891-f9aa-747d934f541c"
   },
   "outputs": [
    {
     "name": "stdout",
     "output_type": "stream",
     "text": [
      "Data size for df_sessions: (10567737, 6)\n"
     ]
    },
    {
     "data": {
      "text/plain": [
       "user_id     action               \n",
       "00023iyk9l  show                     9\n",
       "            requested                5\n",
       "            dashboard                4\n",
       "            index                    4\n",
       "            personalize              4\n",
       "            similar_listings         3\n",
       "            ajax_refresh_subtotal    2\n",
       "            header_userpic           2\n",
       "            travel_plans_current     2\n",
       "            callback                 1\n",
       "            confirm_email            1\n",
       "            pending                  1\n",
       "            search_results           1\n",
       "dtype: int64"
      ]
     },
     "execution_count": 7,
     "metadata": {},
     "output_type": "execute_result"
    }
   ],
   "source": [
    "# Dataset for training the users behaviors upon using the platform:\n",
    "df_sessions = pd.read_csv( 'datasets/sessions.csv', low_memory=True )\n",
    "print( 'Data size for df_sessions: {}'.format(df_sessions.shape) )\n",
    "\n",
    "# Para o caso de se realizar um merge de ambos os datasets devido a GRANULARIDADE.\n",
    "\n",
    "# A fim de decidir qual granularidade deverá ser implementada no merge dos datasets, as seguintes questões devem ser consideradas:\n",
    "## A previsão é feita em funcão do usuário\n",
    "## A previsão é feita em funcão do usuário + evento ('action')\n",
    "\n",
    "# Exemplo: Retornar as acões realizadas por um usuário aleatório da plataforma durante o período em que esteve ativo:\n",
    "df_sessions[ df_sessions['user_id'] == '00023iyk9l' ][['user_id', 'action']].groupby('user_id').count()\n",
    "\n",
    "# Da mesma forma, a fim de retornar os valores referentes à todas as acões do usuário '00023iyk9l':\n",
    "df_sessions[ df_sessions['user_id'] == '00023iyk9l' ][['user_id', 'action']].value_counts()\n"
   ]
  },
  {
   "cell_type": "markdown",
   "id": "KupOCaZEP58c",
   "metadata": {
    "id": "KupOCaZEP58c"
   },
   "source": [
    "## 0.4. Defining the granularity for both datasets"
   ]
  },
  {
   "cell_type": "code",
   "execution_count": null,
   "id": "3imfAkPjQD48",
   "metadata": {
    "executionInfo": {
     "elapsed": 30,
     "status": "ok",
     "timestamp": 1647874291264,
     "user": {
      "displayName": "Renan Pacheco",
      "photoUrl": "https://lh3.googleusercontent.com/a-/AOh14GiRv7UuC3atWqKJu9tdNt8L6TW4viUyBcgTc6e1sw=s64",
      "userId": "12718092000337794607"
     },
     "user_tz": 180
    },
    "id": "3imfAkPjQD48"
   },
   "outputs": [],
   "source": []
  },
  {
   "cell_type": "markdown",
   "id": "ZbfqtdxtQEBB",
   "metadata": {
    "id": "ZbfqtdxtQEBB"
   },
   "source": [
    "## 0.5. Merging both dataset"
   ]
  },
  {
   "cell_type": "code",
   "execution_count": null,
   "id": "TcvPnTNaQEEX",
   "metadata": {
    "executionInfo": {
     "elapsed": 30,
     "status": "ok",
     "timestamp": 1647874291265,
     "user": {
      "displayName": "Renan Pacheco",
      "photoUrl": "https://lh3.googleusercontent.com/a-/AOh14GiRv7UuC3atWqKJu9tdNt8L6TW4viUyBcgTc6e1sw=s64",
      "userId": "12718092000337794607"
     },
     "user_tz": 180
    },
    "id": "TcvPnTNaQEEX"
   },
   "outputs": [],
   "source": []
  },
  {
   "cell_type": "markdown",
   "id": "ffb4afbf",
   "metadata": {
    "id": "ffb4afbf"
   },
   "source": [
    "# 1. Data Description"
   ]
  },
  {
   "cell_type": "code",
   "execution_count": 8,
   "id": "c_VWA6yc3mW7",
   "metadata": {
    "ExecuteTime": {
     "end_time": "2022-03-21T15:47:15.004832Z",
     "start_time": "2022-03-21T15:47:14.972470Z"
    },
    "executionInfo": {
     "elapsed": 512,
     "status": "ok",
     "timestamp": 1647874743123,
     "user": {
      "displayName": "Renan Pacheco",
      "photoUrl": "https://lh3.googleusercontent.com/a-/AOh14GiRv7UuC3atWqKJu9tdNt8L6TW4viUyBcgTc6e1sw=s64",
      "userId": "12718092000337794607"
     },
     "user_tz": 180
    },
    "id": "c_VWA6yc3mW7"
   },
   "outputs": [],
   "source": [
    "df1 = df_users.copy()"
   ]
  },
  {
   "cell_type": "markdown",
   "id": "iKRvsv9HSbR_",
   "metadata": {
    "id": "iKRvsv9HSbR_"
   },
   "source": [
    "## 1.1. Data Dimensions"
   ]
  },
  {
   "cell_type": "code",
   "execution_count": 9,
   "id": "4Jbx3hSGSbVh",
   "metadata": {
    "ExecuteTime": {
     "end_time": "2022-03-21T15:47:15.013108Z",
     "start_time": "2022-03-21T15:47:15.007873Z"
    },
    "colab": {
     "base_uri": "https://localhost:8080/"
    },
    "executionInfo": {
     "elapsed": 396,
     "status": "ok",
     "timestamp": 1647874747613,
     "user": {
      "displayName": "Renan Pacheco",
      "photoUrl": "https://lh3.googleusercontent.com/a-/AOh14GiRv7UuC3atWqKJu9tdNt8L6TW4viUyBcgTc6e1sw=s64",
      "userId": "12718092000337794607"
     },
     "user_tz": 180
    },
    "id": "4Jbx3hSGSbVh",
    "outputId": "6b5258e2-20cc-4bf0-ec02-9109f76ee5ec"
   },
   "outputs": [
    {
     "name": "stdout",
     "output_type": "stream",
     "text": [
      "Data size for df_users: \n",
      "\n",
      "Number of rows = 213451 \n",
      "Number of columns = 16\n"
     ]
    }
   ],
   "source": [
    "# Data dimensions for the 'users.csv' dataset:\n",
    "print( 'Data size for df_users: \\n\\nNumber of rows = {} \\nNumber of columns = {}'.format(df_users.shape[0],df_users.shape[1]) )"
   ]
  },
  {
   "cell_type": "code",
   "execution_count": 10,
   "id": "Sd3HRjDISb27",
   "metadata": {
    "ExecuteTime": {
     "end_time": "2022-03-21T15:47:15.023231Z",
     "start_time": "2022-03-21T15:47:15.018283Z"
    },
    "colab": {
     "base_uri": "https://localhost:8080/"
    },
    "executionInfo": {
     "elapsed": 417,
     "status": "ok",
     "timestamp": 1647874673089,
     "user": {
      "displayName": "Renan Pacheco",
      "photoUrl": "https://lh3.googleusercontent.com/a-/AOh14GiRv7UuC3atWqKJu9tdNt8L6TW4viUyBcgTc6e1sw=s64",
      "userId": "12718092000337794607"
     },
     "user_tz": 180
    },
    "id": "Sd3HRjDISb27",
    "outputId": "f8001850-8681-49b4-e2ca-057327942442"
   },
   "outputs": [
    {
     "name": "stdout",
     "output_type": "stream",
     "text": [
      "Data size for df_sessions: \n",
      "\n",
      "Number of rows = 10567737 \n",
      "Number of columns = 6\n"
     ]
    }
   ],
   "source": [
    "# Printing the size of the sessions dataset:\n",
    "print( 'Data size for df_sessions: \\n\\nNumber of rows = {} \\nNumber of columns = {}'.format(df_sessions.shape[0],df_sessions.shape[1]) )"
   ]
  },
  {
   "cell_type": "markdown",
   "id": "nbyckuCX3557",
   "metadata": {
    "id": "nbyckuCX3557"
   },
   "source": [
    "## 1.2. Data Types"
   ]
  },
  {
   "cell_type": "code",
   "execution_count": 11,
   "id": "oNxQxuPY4B4M",
   "metadata": {
    "ExecuteTime": {
     "end_time": "2022-03-21T15:47:15.033904Z",
     "start_time": "2022-03-21T15:47:15.025833Z"
    },
    "colab": {
     "base_uri": "https://localhost:8080/"
    },
    "executionInfo": {
     "elapsed": 414,
     "status": "ok",
     "timestamp": 1647874757051,
     "user": {
      "displayName": "Renan Pacheco",
      "photoUrl": "https://lh3.googleusercontent.com/a-/AOh14GiRv7UuC3atWqKJu9tdNt8L6TW4viUyBcgTc6e1sw=s64",
      "userId": "12718092000337794607"
     },
     "user_tz": 180
    },
    "id": "oNxQxuPY4B4M",
    "outputId": "ec28f94f-aa50-444a-ce5e-b70010e4762f"
   },
   "outputs": [
    {
     "data": {
      "text/plain": [
       "id                          object\n",
       "date_account_created        object\n",
       "timestamp_first_active       int64\n",
       "date_first_booking          object\n",
       "gender                      object\n",
       "age                        float64\n",
       "signup_method               object\n",
       "signup_flow                  int64\n",
       "language                    object\n",
       "affiliate_channel           object\n",
       "affiliate_provider          object\n",
       "first_affiliate_tracked     object\n",
       "signup_app                  object\n",
       "first_device_type           object\n",
       "first_browser               object\n",
       "country_destination         object\n",
       "dtype: object"
      ]
     },
     "execution_count": 11,
     "metadata": {},
     "output_type": "execute_result"
    }
   ],
   "source": [
    "df_users.dtypes"
   ]
  },
  {
   "cell_type": "code",
   "execution_count": 12,
   "id": "I98HUz7NSJ5p",
   "metadata": {
    "ExecuteTime": {
     "end_time": "2022-03-21T15:47:15.043988Z",
     "start_time": "2022-03-21T15:47:15.036633Z"
    },
    "colab": {
     "base_uri": "https://localhost:8080/"
    },
    "executionInfo": {
     "elapsed": 26,
     "status": "ok",
     "timestamp": 1647874291271,
     "user": {
      "displayName": "Renan Pacheco",
      "photoUrl": "https://lh3.googleusercontent.com/a-/AOh14GiRv7UuC3atWqKJu9tdNt8L6TW4viUyBcgTc6e1sw=s64",
      "userId": "12718092000337794607"
     },
     "user_tz": 180
    },
    "id": "I98HUz7NSJ5p",
    "outputId": "7b0ee58b-b6dc-4885-8454-cfcd775ff529"
   },
   "outputs": [
    {
     "data": {
      "text/plain": [
       "user_id           object\n",
       "action            object\n",
       "action_type       object\n",
       "action_detail     object\n",
       "device_type       object\n",
       "secs_elapsed     float64\n",
       "dtype: object"
      ]
     },
     "execution_count": 12,
     "metadata": {},
     "output_type": "execute_result"
    }
   ],
   "source": [
    "df_sessions.dtypes"
   ]
  },
  {
   "cell_type": "code",
   "execution_count": 13,
   "id": "cwb1LNT-6oyl",
   "metadata": {
    "ExecuteTime": {
     "end_time": "2022-03-21T15:47:15.075831Z",
     "start_time": "2022-03-21T15:47:15.047709Z"
    },
    "colab": {
     "base_uri": "https://localhost:8080/",
     "height": 551
    },
    "executionInfo": {
     "elapsed": 409,
     "status": "ok",
     "timestamp": 1647874761663,
     "user": {
      "displayName": "Renan Pacheco",
      "photoUrl": "https://lh3.googleusercontent.com/a-/AOh14GiRv7UuC3atWqKJu9tdNt8L6TW4viUyBcgTc6e1sw=s64",
      "userId": "12718092000337794607"
     },
     "user_tz": 180
    },
    "id": "cwb1LNT-6oyl",
    "outputId": "6979c2e7-3705-41c2-b940-a4bf843a7f14"
   },
   "outputs": [
    {
     "data": {
      "text/html": [
       "<div>\n",
       "<style scoped>\n",
       "    .dataframe tbody tr th:only-of-type {\n",
       "        vertical-align: middle;\n",
       "    }\n",
       "\n",
       "    .dataframe tbody tr th {\n",
       "        vertical-align: top;\n",
       "    }\n",
       "\n",
       "    .dataframe thead th {\n",
       "        text-align: right;\n",
       "    }\n",
       "</style>\n",
       "<table border=\"1\" class=\"dataframe\">\n",
       "  <thead>\n",
       "    <tr style=\"text-align: right;\">\n",
       "      <th></th>\n",
       "      <th>136053</th>\n",
       "    </tr>\n",
       "  </thead>\n",
       "  <tbody>\n",
       "    <tr>\n",
       "      <th>id</th>\n",
       "      <td>6lij499lpu</td>\n",
       "    </tr>\n",
       "    <tr>\n",
       "      <th>date_account_created</th>\n",
       "      <td>2013-12-28</td>\n",
       "    </tr>\n",
       "    <tr>\n",
       "      <th>timestamp_first_active</th>\n",
       "      <td>20131228202039</td>\n",
       "    </tr>\n",
       "    <tr>\n",
       "      <th>date_first_booking</th>\n",
       "      <td>NaN</td>\n",
       "    </tr>\n",
       "    <tr>\n",
       "      <th>gender</th>\n",
       "      <td>MALE</td>\n",
       "    </tr>\n",
       "    <tr>\n",
       "      <th>age</th>\n",
       "      <td>29.0</td>\n",
       "    </tr>\n",
       "    <tr>\n",
       "      <th>signup_method</th>\n",
       "      <td>facebook</td>\n",
       "    </tr>\n",
       "    <tr>\n",
       "      <th>signup_flow</th>\n",
       "      <td>12</td>\n",
       "    </tr>\n",
       "    <tr>\n",
       "      <th>language</th>\n",
       "      <td>en</td>\n",
       "    </tr>\n",
       "    <tr>\n",
       "      <th>affiliate_channel</th>\n",
       "      <td>api</td>\n",
       "    </tr>\n",
       "    <tr>\n",
       "      <th>affiliate_provider</th>\n",
       "      <td>other</td>\n",
       "    </tr>\n",
       "    <tr>\n",
       "      <th>first_affiliate_tracked</th>\n",
       "      <td>untracked</td>\n",
       "    </tr>\n",
       "    <tr>\n",
       "      <th>signup_app</th>\n",
       "      <td>iOS</td>\n",
       "    </tr>\n",
       "    <tr>\n",
       "      <th>first_device_type</th>\n",
       "      <td>iPhone</td>\n",
       "    </tr>\n",
       "    <tr>\n",
       "      <th>first_browser</th>\n",
       "      <td>-unknown-</td>\n",
       "    </tr>\n",
       "    <tr>\n",
       "      <th>country_destination</th>\n",
       "      <td>NDF</td>\n",
       "    </tr>\n",
       "  </tbody>\n",
       "</table>\n",
       "</div>"
      ],
      "text/plain": [
       "                                 136053\n",
       "id                           6lij499lpu\n",
       "date_account_created         2013-12-28\n",
       "timestamp_first_active   20131228202039\n",
       "date_first_booking                  NaN\n",
       "gender                             MALE\n",
       "age                                29.0\n",
       "signup_method                  facebook\n",
       "signup_flow                          12\n",
       "language                             en\n",
       "affiliate_channel                   api\n",
       "affiliate_provider                other\n",
       "first_affiliate_tracked       untracked\n",
       "signup_app                          iOS\n",
       "first_device_type                iPhone\n",
       "first_browser                 -unknown-\n",
       "country_destination                 NDF"
      ]
     },
     "execution_count": 13,
     "metadata": {},
     "output_type": "execute_result"
    }
   ],
   "source": [
    "df1.sample().T"
   ]
  },
  {
   "cell_type": "markdown",
   "id": "Krf_KZMQ4CAe",
   "metadata": {
    "id": "Krf_KZMQ4CAe"
   },
   "source": [
    "## 1.3. Checking for presence of NA data"
   ]
  },
  {
   "cell_type": "markdown",
   "id": "GXh6wnPzK9HU",
   "metadata": {
    "id": "GXh6wnPzK9HU"
   },
   "source": [
    "### 1.3.1. Checking the 'users.csv' dataset"
   ]
  },
  {
   "cell_type": "code",
   "execution_count": 14,
   "id": "L0u6uQ53WR9u",
   "metadata": {
    "ExecuteTime": {
     "end_time": "2022-03-21T15:47:15.305372Z",
     "start_time": "2022-03-21T15:47:15.078520Z"
    },
    "colab": {
     "base_uri": "https://localhost:8080/"
    },
    "executionInfo": {
     "elapsed": 372,
     "status": "ok",
     "timestamp": 1647874802516,
     "user": {
      "displayName": "Renan Pacheco",
      "photoUrl": "https://lh3.googleusercontent.com/a-/AOh14GiRv7UuC3atWqKJu9tdNt8L6TW4viUyBcgTc6e1sw=s64",
      "userId": "12718092000337794607"
     },
     "user_tz": 180
    },
    "id": "L0u6uQ53WR9u",
    "outputId": "8db43c33-4172-49be-eb9e-bab971925855"
   },
   "outputs": [
    {
     "data": {
      "text/plain": [
       "id                         0.000000\n",
       "date_account_created       0.000000\n",
       "timestamp_first_active     0.000000\n",
       "date_first_booking         0.583473\n",
       "gender                     0.000000\n",
       "age                        0.412226\n",
       "signup_method              0.000000\n",
       "signup_flow                0.000000\n",
       "language                   0.000000\n",
       "affiliate_channel          0.000000\n",
       "affiliate_provider         0.000000\n",
       "first_affiliate_tracked    0.028414\n",
       "signup_app                 0.000000\n",
       "first_device_type          0.000000\n",
       "first_browser              0.000000\n",
       "country_destination        0.000000\n",
       "dtype: float64"
      ]
     },
     "execution_count": 14,
     "metadata": {},
     "output_type": "execute_result"
    }
   ],
   "source": [
    "df1.isna().sum() / len(df1)"
   ]
  },
  {
   "cell_type": "code",
   "execution_count": 15,
   "id": "eZqOIQ9dWofK",
   "metadata": {
    "ExecuteTime": {
     "end_time": "2022-03-21T15:47:15.385968Z",
     "start_time": "2022-03-21T15:47:15.307466Z"
    },
    "colab": {
     "base_uri": "https://localhost:8080/"
    },
    "executionInfo": {
     "elapsed": 412,
     "status": "ok",
     "timestamp": 1647874819615,
     "user": {
      "displayName": "Renan Pacheco",
      "photoUrl": "https://lh3.googleusercontent.com/a-/AOh14GiRv7UuC3atWqKJu9tdNt8L6TW4viUyBcgTc6e1sw=s64",
      "userId": "12718092000337794607"
     },
     "user_tz": 180
    },
    "id": "eZqOIQ9dWofK",
    "outputId": "d67ee048-07ee-4264-ce5b-7e1216115810"
   },
   "outputs": [
    {
     "data": {
      "text/plain": [
       "NDF    1.0\n",
       "Name: country_destination, dtype: float64"
      ]
     },
     "execution_count": 15,
     "metadata": {},
     "output_type": "execute_result"
    }
   ],
   "source": [
    "# Checking the reason to why there are 58% of missing data (NA) within the 'date_first_booking' feature:\n",
    "aux = df1[ df1['date_first_booking'].isna() ]   #returns only 'date_first_booking' containing NA values.\n",
    "aux['country_destination'].value_counts(normalize=True)"
   ]
  },
  {
   "cell_type": "markdown",
   "id": "XySYkhbGXyzI",
   "metadata": {
    "id": "XySYkhbGXyzI"
   },
   "source": [
    "The snippet above shows that 100% of the users who did not make any bookings on their first use of the platform represent 100% of all the 'country_destination' feature which possesses 'NDF' (No destination found) value. This is due the fact that people who browsed on the platform and didn't book any place are the same people who have no country destination.\n",
    "\n",
    "However, the time the user took from the moment they entered the website to the moment they made their first booking is an important variable.\n",
    "\n"
   ]
  },
  {
   "cell_type": "code",
   "execution_count": 16,
   "id": "Zu7Jn_-b4CHr",
   "metadata": {
    "ExecuteTime": {
     "end_time": "2022-03-21T15:47:15.443551Z",
     "start_time": "2022-03-21T15:47:15.388857Z"
    },
    "colab": {
     "base_uri": "https://localhost:8080/"
    },
    "executionInfo": {
     "elapsed": 414,
     "status": "ok",
     "timestamp": 1647874858835,
     "user": {
      "displayName": "Renan Pacheco",
      "photoUrl": "https://lh3.googleusercontent.com/a-/AOh14GiRv7UuC3atWqKJu9tdNt8L6TW4viUyBcgTc6e1sw=s64",
      "userId": "12718092000337794607"
     },
     "user_tz": 180
    },
    "id": "Zu7Jn_-b4CHr",
    "outputId": "60ce2def-9b42-4549-ea64-7693c4595d0e"
   },
   "outputs": [
    {
     "data": {
      "text/plain": [
       "Timestamp('2015-06-29 00:00:00')"
      ]
     },
     "execution_count": 16,
     "metadata": {},
     "output_type": "execute_result"
    }
   ],
   "source": [
    "# Maximum date which one can project the date (Since the raw dataset is not updated!):\n",
    "pd.to_datetime(df1['date_first_booking']).max()"
   ]
  },
  {
   "cell_type": "code",
   "execution_count": 17,
   "id": "yQ__On4A_sD9",
   "metadata": {
    "ExecuteTime": {
     "end_time": "2022-03-21T15:47:15.521907Z",
     "start_time": "2022-03-21T15:47:15.446249Z"
    },
    "executionInfo": {
     "elapsed": 421,
     "status": "ok",
     "timestamp": 1647874854234,
     "user": {
      "displayName": "Renan Pacheco",
      "photoUrl": "https://lh3.googleusercontent.com/a-/AOh14GiRv7UuC3atWqKJu9tdNt8L6TW4viUyBcgTc6e1sw=s64",
      "userId": "12718092000337794607"
     },
     "user_tz": 180
    },
    "id": "yQ__On4A_sD9"
   },
   "outputs": [],
   "source": [
    "# 'date_first_booking' -> date of first booking\n",
    "date_first_booking_max = pd.to_datetime(df1['date_first_booking']).max().strftime('%Y-%m-%d')\n",
    "df1['date_first_booking'] = df1['date_first_booking'].fillna(date_first_booking_max)"
   ]
  },
  {
   "cell_type": "code",
   "execution_count": 18,
   "id": "kcmcEEHfdpNc",
   "metadata": {
    "ExecuteTime": {
     "end_time": "2022-03-21T15:47:15.573313Z",
     "start_time": "2022-03-21T15:47:15.524317Z"
    },
    "colab": {
     "base_uri": "https://localhost:8080/"
    },
    "executionInfo": {
     "elapsed": 400,
     "status": "ok",
     "timestamp": 1647874933691,
     "user": {
      "displayName": "Renan Pacheco",
      "photoUrl": "https://lh3.googleusercontent.com/a-/AOh14GiRv7UuC3atWqKJu9tdNt8L6TW4viUyBcgTc6e1sw=s64",
      "userId": "12718092000337794607"
     },
     "user_tz": 180
    },
    "id": "kcmcEEHfdpNc",
    "outputId": "79aa2e6d-0897-4583-ac1a-3b91b5a41af1"
   },
   "outputs": [
    {
     "data": {
      "text/plain": [
       "NDF      0.768428\n",
       "US       0.156529\n",
       "other    0.028617\n",
       "FR       0.014888\n",
       "IT       0.009081\n",
       "GB       0.006251\n",
       "ES       0.006171\n",
       "CA       0.003989\n",
       "DE       0.002387\n",
       "NL       0.001818\n",
       "AU       0.001171\n",
       "PT       0.000671\n",
       "Name: country_destination, dtype: float64"
      ]
     },
     "execution_count": 18,
     "metadata": {},
     "output_type": "execute_result"
    }
   ],
   "source": [
    "# 'age':\n",
    "aux = df1[df1['age'].isna()]\n",
    "aux['country_destination'].value_counts(normalize=True)"
   ]
  },
  {
   "cell_type": "markdown",
   "id": "bi3DKjGroURf",
   "metadata": {
    "id": "bi3DKjGroURf"
   },
   "source": [
    "In this case, one is necessary to visualize how the 'age' feature is distributed (18 <= 'age' <= 65) within the variable 'country_destination', as follows..."
   ]
  },
  {
   "cell_type": "code",
   "execution_count": 19,
   "id": "7oZYYyy6dxlX",
   "metadata": {
    "ExecuteTime": {
     "end_time": "2022-03-21T15:47:16.861992Z",
     "start_time": "2022-03-21T15:47:15.575603Z"
    },
    "colab": {
     "base_uri": "https://localhost:8080/",
     "height": 449
    },
    "executionInfo": {
     "elapsed": 1558,
     "status": "ok",
     "timestamp": 1647874957361,
     "user": {
      "displayName": "Renan Pacheco",
      "photoUrl": "https://lh3.googleusercontent.com/a-/AOh14GiRv7UuC3atWqKJu9tdNt8L6TW4viUyBcgTc6e1sw=s64",
      "userId": "12718092000337794607"
     },
     "user_tz": 180
    },
    "id": "7oZYYyy6dxlX",
    "outputId": "b6a898f0-44ec-47f7-a121-f62107b5f314"
   },
   "outputs": [
    {
     "name": "stderr",
     "output_type": "stream",
     "text": [
      "/home/renanpacheco/.local/lib/python3.9/site-packages/seaborn/distributions.py:2619: FutureWarning: `distplot` is a deprecated function and will be removed in a future version. Please adapt your code to use either `displot` (a figure-level function with similar flexibility) or `histplot` (an axes-level function for histograms).\n",
      "  warnings.warn(msg, FutureWarning)\n"
     ]
    },
    {
     "data": {
      "image/png": "[encoded data removed]",
      "text/plain": [
       "<Figure size 864x432 with 1 Axes>"
      ]
     },
     "metadata": {},
     "output_type": "display_data"
    }
   ],
   "source": [
    "sns.distplot(df1[df1['age'] <= 65]['age']);"
   ]
  },
  {
   "cell_type": "markdown",
   "id": "_GMySC1apkoR",
   "metadata": {
    "id": "_GMySC1apkoR"
   },
   "source": [
    "As the plot above suggests, the distribution of the ages within the dataset suggests a gaussian distribution, even though it possesses a significant tale at the end and a skewness towards the ages ranging between 20 and 30 years old.\n",
    "\n",
    "Due to this, in case of substituting the missing data (NA) by the average of these data plus its correspondent standard deviation, there is no bias on the analysis. \n",
    "\n"
   ]
  },
  {
   "cell_type": "code",
   "execution_count": 20,
   "id": "n7eZENkNqM5_",
   "metadata": {
    "ExecuteTime": {
     "end_time": "2022-03-21T15:47:16.873788Z",
     "start_time": "2022-03-21T15:47:16.864578Z"
    },
    "colab": {
     "base_uri": "https://localhost:8080/"
    },
    "executionInfo": {
     "elapsed": 416,
     "status": "ok",
     "timestamp": 1647875022575,
     "user": {
      "displayName": "Renan Pacheco",
      "photoUrl": "https://lh3.googleusercontent.com/a-/AOh14GiRv7UuC3atWqKJu9tdNt8L6TW4viUyBcgTc6e1sw=s64",
      "userId": "12718092000337794607"
     },
     "user_tz": 180
    },
    "id": "n7eZENkNqM5_",
    "outputId": "73b1e7d9-2a78-40ee-c9c8-8bbacc86603c"
   },
   "outputs": [
    {
     "data": {
      "text/plain": [
       "50"
      ]
     },
     "execution_count": 20,
     "metadata": {},
     "output_type": "execute_result"
    }
   ],
   "source": [
    "age_avg = int( round(df1['age'].mean()) )\n",
    "age_avg\n"
   ]
  },
  {
   "cell_type": "code",
   "execution_count": 21,
   "id": "Y7SLUTXNAUhN",
   "metadata": {
    "ExecuteTime": {
     "end_time": "2022-03-21T15:47:16.883591Z",
     "start_time": "2022-03-21T15:47:16.875854Z"
    },
    "executionInfo": {
     "elapsed": 393,
     "status": "ok",
     "timestamp": 1647875026749,
     "user": {
      "displayName": "Renan Pacheco",
      "photoUrl": "https://lh3.googleusercontent.com/a-/AOh14GiRv7UuC3atWqKJu9tdNt8L6TW4viUyBcgTc6e1sw=s64",
      "userId": "12718092000337794607"
     },
     "user_tz": 180
    },
    "id": "Y7SLUTXNAUhN"
   },
   "outputs": [],
   "source": [
    "df1['age'] = df1['age'].fillna(age_avg)"
   ]
  },
  {
   "cell_type": "code",
   "execution_count": 22,
   "id": "H4aDHABtdpWL",
   "metadata": {
    "ExecuteTime": {
     "end_time": "2022-03-21T15:47:16.909211Z",
     "start_time": "2022-03-21T15:47:16.886076Z"
    },
    "colab": {
     "base_uri": "https://localhost:8080/"
    },
    "executionInfo": {
     "elapsed": 519,
     "status": "ok",
     "timestamp": 1647875047770,
     "user": {
      "displayName": "Renan Pacheco",
      "photoUrl": "https://lh3.googleusercontent.com/a-/AOh14GiRv7UuC3atWqKJu9tdNt8L6TW4viUyBcgTc6e1sw=s64",
      "userId": "12718092000337794607"
     },
     "user_tz": 180
    },
    "id": "H4aDHABtdpWL",
    "outputId": "ac6d9dee-5b40-4bc9-c9fa-dabef2a8f3a4"
   },
   "outputs": [
    {
     "data": {
      "text/plain": [
       "0            untracked\n",
       "5                  omg\n",
       "12                 NaN\n",
       "13              linked\n",
       "79       tracked-other\n",
       "257            product\n",
       "6270         marketing\n",
       "11184        local ops\n",
       "Name: first_affiliate_tracked, dtype: object"
      ]
     },
     "execution_count": 22,
     "metadata": {},
     "output_type": "execute_result"
    }
   ],
   "source": [
    "## 'first_affiliate_tracked' ->  whats the first marketing the user interacted with before the signing up:\n",
    "df1['first_affiliate_tracked'].drop_duplicates()\n"
   ]
  },
  {
   "cell_type": "markdown",
   "id": "DUWgWZtId-SA",
   "metadata": {
    "id": "DUWgWZtId-SA"
   },
   "source": [
    "The percentage of missing data (NA) regarding the 'first_affiliate_tracked' is about 3%, considering the totality of missing data throughout the raw dataset. \n",
    "\n",
    "When inputing data in categorical features, in order to replace missing data, it's common to use the frequency associated with each parameter. But this has a huge impact, once it could crease a biased analysis.\n",
    "\n",
    "Due to this, **the 'first_affiliate_tracked' will not be considered in this cycle of the CRISP** and other features will be used throughout the Cross Validation process."
   ]
  },
  {
   "cell_type": "code",
   "execution_count": 23,
   "id": "AD1ye49hw1Cj",
   "metadata": {
    "ExecuteTime": {
     "end_time": "2022-03-21T15:47:17.197945Z",
     "start_time": "2022-03-21T15:47:16.912402Z"
    },
    "colab": {
     "base_uri": "https://localhost:8080/"
    },
    "executionInfo": {
     "elapsed": 412,
     "status": "ok",
     "timestamp": 1647875071308,
     "user": {
      "displayName": "Renan Pacheco",
      "photoUrl": "https://lh3.googleusercontent.com/a-/AOh14GiRv7UuC3atWqKJu9tdNt8L6TW4viUyBcgTc6e1sw=s64",
      "userId": "12718092000337794607"
     },
     "user_tz": 180
    },
    "id": "AD1ye49hw1Cj",
    "outputId": "22c3f4b5-49ba-4fd0-f335-f37c80093dcc"
   },
   "outputs": [
    {
     "data": {
      "text/plain": [
       "id                         0.0\n",
       "date_account_created       0.0\n",
       "timestamp_first_active     0.0\n",
       "date_first_booking         0.0\n",
       "gender                     0.0\n",
       "age                        0.0\n",
       "signup_method              0.0\n",
       "signup_flow                0.0\n",
       "language                   0.0\n",
       "affiliate_channel          0.0\n",
       "affiliate_provider         0.0\n",
       "first_affiliate_tracked    0.0\n",
       "signup_app                 0.0\n",
       "first_device_type          0.0\n",
       "first_browser              0.0\n",
       "country_destination        0.0\n",
       "dtype: float64"
      ]
     },
     "execution_count": 23,
     "metadata": {},
     "output_type": "execute_result"
    }
   ],
   "source": [
    "df1 = df1[~df1['first_affiliate_tracked'].isna()]\n",
    "\n",
    "df1.isna().sum() / len(df1)"
   ]
  },
  {
   "cell_type": "markdown",
   "id": "Qkt8G5Bnw1Ga",
   "metadata": {
    "id": "Qkt8G5Bnw1Ga"
   },
   "source": [
    "### 1.3.2. Checking the 'sessions.csv' dataset"
   ]
  },
  {
   "cell_type": "code",
   "execution_count": 24,
   "id": "_JtOMSG6LL-f",
   "metadata": {
    "ExecuteTime": {
     "end_time": "2022-03-21T15:47:21.514471Z",
     "start_time": "2022-03-21T15:47:17.200549Z"
    },
    "colab": {
     "base_uri": "https://localhost:8080/"
    },
    "executionInfo": {
     "elapsed": 3071,
     "status": "ok",
     "timestamp": 1647874297995,
     "user": {
      "displayName": "Renan Pacheco",
      "photoUrl": "https://lh3.googleusercontent.com/a-/AOh14GiRv7UuC3atWqKJu9tdNt8L6TW4viUyBcgTc6e1sw=s64",
      "userId": "12718092000337794607"
     },
     "user_tz": 180
    },
    "id": "_JtOMSG6LL-f",
    "outputId": "1bf49c00-be2d-42eb-9417-2c1f4da1b51d"
   },
   "outputs": [
    {
     "data": {
      "text/plain": [
       "user_id          0.003264\n",
       "action           0.007535\n",
       "action_type      0.106570\n",
       "action_detail    0.106570\n",
       "device_type      0.000000\n",
       "secs_elapsed     0.012872\n",
       "dtype: float64"
      ]
     },
     "execution_count": 24,
     "metadata": {},
     "output_type": "execute_result"
    }
   ],
   "source": [
    "df_sessions.isna().sum() / len(df_sessions)"
   ]
  },
  {
   "cell_type": "markdown",
   "id": "-d8PpzeaLMCA",
   "metadata": {
    "id": "-d8PpzeaLMCA"
   },
   "source": [
    " Checking the above dataset, it' possible to make a few assumptions:\n",
    "\n",
    "- Even though the 'user_id' has only 3% of missing data, it is key for connecting both datasets 'users.csv' and 'sessions.csv' and thus, it cannot be replaced by any other data. It has to be dropped out.\n",
    "\n",
    "- Both features 'action_type' and 'action_detail' has the same amount of missing data, which could be presumed that both are intrinsically correlated. It thus needs to be further analysed."
   ]
  },
  {
   "cell_type": "code",
   "execution_count": 25,
   "id": "KrcxkiDiLllc",
   "metadata": {
    "ExecuteTime": {
     "end_time": "2022-03-21T15:47:32.802693Z",
     "start_time": "2022-03-21T15:47:21.517713Z"
    },
    "colab": {
     "base_uri": "https://localhost:8080/"
    },
    "executionInfo": {
     "elapsed": 5553,
     "status": "ok",
     "timestamp": 1647874303543,
     "user": {
      "displayName": "Renan Pacheco",
      "photoUrl": "https://lh3.googleusercontent.com/a-/AOh14GiRv7UuC3atWqKJu9tdNt8L6TW4viUyBcgTc6e1sw=s64",
      "userId": "12718092000337794607"
     },
     "user_tz": 180
    },
    "id": "KrcxkiDiLllc",
    "outputId": "b695f852-3be8-415e-e751-d8d2b6682529"
   },
   "outputs": [
    {
     "data": {
      "text/plain": [
       "user_id          0.000000\n",
       "action           0.000000\n",
       "action_type      0.000000\n",
       "action_detail    0.000000\n",
       "device_type      0.000000\n",
       "secs_elapsed     0.012526\n",
       "dtype: float64"
      ]
     },
     "execution_count": 25,
     "metadata": {},
     "output_type": "execute_result"
    }
   ],
   "source": [
    "# user_id (0.3%)\n",
    "df_sessions = df_sessions[~df_sessions['user_id'].isna()]\n",
    "\n",
    "# action (0.7%)\n",
    "df_sessions = df_sessions[~df_sessions['action'].isna()]\n",
    "\n",
    "# action_type (11%)\n",
    "df_sessions = df_sessions[~df_sessions['action_type'].isna()]\n",
    "\n",
    "# action_detail (11%)\n",
    "df_sessions = df_sessions[~df_sessions['action_detail'].isna()]\n",
    "\n",
    "df_sessions.isna().sum() / len(df_sessions)"
   ]
  },
  {
   "cell_type": "markdown",
   "id": "uEYBK4vJO3gX",
   "metadata": {
    "id": "uEYBK4vJO3gX"
   },
   "source": [
    "For the 'time_elapsed' feature, an analysis could be done..."
   ]
  },
  {
   "cell_type": "code",
   "execution_count": 26,
   "id": "kZc9PmtWOOnY",
   "metadata": {
    "ExecuteTime": {
     "end_time": "2022-03-21T15:47:35.406647Z",
     "start_time": "2022-03-21T15:47:32.805684Z"
    },
    "colab": {
     "base_uri": "https://localhost:8080/",
     "height": 466
    },
    "executionInfo": {
     "elapsed": 1861,
     "status": "ok",
     "timestamp": 1647874305381,
     "user": {
      "displayName": "Renan Pacheco",
      "photoUrl": "https://lh3.googleusercontent.com/a-/AOh14GiRv7UuC3atWqKJu9tdNt8L6TW4viUyBcgTc6e1sw=s64",
      "userId": "12718092000337794607"
     },
     "user_tz": 180
    },
    "id": "kZc9PmtWOOnY",
    "outputId": "9f3f5a06-c60f-42e9-c1cd-59c0c1dcae95"
   },
   "outputs": [
    {
     "name": "stderr",
     "output_type": "stream",
     "text": [
      "/home/renanpacheco/.local/lib/python3.9/site-packages/seaborn/distributions.py:2619: FutureWarning: `distplot` is a deprecated function and will be removed in a future version. Please adapt your code to use either `displot` (a figure-level function with similar flexibility) or `histplot` (an axes-level function for histograms).\n",
      "  warnings.warn(msg, FutureWarning)\n"
     ]
    },
    {
     "data": {
      "text/plain": [
       "<AxesSubplot:xlabel='secs_elapsed', ylabel='Density'>"
      ]
     },
     "execution_count": 26,
     "metadata": {},
     "output_type": "execute_result"
    },
    {
     "data": {
      "image/png": "[encoded data removed]",
      "text/plain": [
       "<Figure size 864x432 with 1 Axes>"
      ]
     },
     "metadata": {},
     "output_type": "display_data"
    }
   ],
   "source": [
    "# sns.distplot( df_sessions['secs_elapsed'].sample(100000) );\n",
    "\n",
    "aux = df_sessions[df_sessions['secs_elapsed'] < 0.25e6]\n",
    "\n",
    "sns.distplot( aux['secs_elapsed'].sample(100000) )"
   ]
  },
  {
   "cell_type": "code",
   "execution_count": 27,
   "id": "outWn5ZHPu_p",
   "metadata": {
    "ExecuteTime": {
     "end_time": "2022-03-21T15:47:35.451246Z",
     "start_time": "2022-03-21T15:47:35.409496Z"
    },
    "colab": {
     "base_uri": "https://localhost:8080/"
    },
    "executionInfo": {
     "elapsed": 15,
     "status": "ok",
     "timestamp": 1647874305383,
     "user": {
      "displayName": "Renan Pacheco",
      "photoUrl": "https://lh3.googleusercontent.com/a-/AOh14GiRv7UuC3atWqKJu9tdNt8L6TW4viUyBcgTc6e1sw=s64",
      "userId": "12718092000337794607"
     },
     "user_tz": 180
    },
    "id": "outWn5ZHPu_p",
    "outputId": "b58319c2-5a43-4edc-83a8-b372dbf1c4a5"
   },
   "outputs": [
    {
     "data": {
      "text/plain": [
       "11483.754623783343"
      ]
     },
     "execution_count": 27,
     "metadata": {},
     "output_type": "execute_result"
    }
   ],
   "source": [
    "aux['secs_elapsed'].mean()"
   ]
  },
  {
   "cell_type": "code",
   "execution_count": 28,
   "id": "pK6h0pCxLloX",
   "metadata": {
    "ExecuteTime": {
     "end_time": "2022-03-21T15:47:40.033197Z",
     "start_time": "2022-03-21T15:47:35.460864Z"
    },
    "colab": {
     "base_uri": "https://localhost:8080/"
    },
    "executionInfo": {
     "elapsed": 2255,
     "status": "ok",
     "timestamp": 1647874307628,
     "user": {
      "displayName": "Renan Pacheco",
      "photoUrl": "https://lh3.googleusercontent.com/a-/AOh14GiRv7UuC3atWqKJu9tdNt8L6TW4viUyBcgTc6e1sw=s64",
      "userId": "12718092000337794607"
     },
     "user_tz": 180
    },
    "id": "pK6h0pCxLloX",
    "outputId": "90c3476f-2667-442c-e8a0-a8d73b753cf7"
   },
   "outputs": [
    {
     "data": {
      "text/plain": [
       "user_id          0.0\n",
       "action           0.0\n",
       "action_type      0.0\n",
       "action_detail    0.0\n",
       "device_type      0.0\n",
       "secs_elapsed     0.0\n",
       "dtype: float64"
      ]
     },
     "execution_count": 28,
     "metadata": {},
     "output_type": "execute_result"
    }
   ],
   "source": [
    "# secs_elapsed (1.2%)\n",
    "df_sessions = df_sessions[~df_sessions['secs_elapsed'].isna()]\n",
    "\n",
    "df_sessions.isna().sum() / len(df_sessions)"
   ]
  },
  {
   "cell_type": "markdown",
   "id": "SPfP7Y144CME",
   "metadata": {
    "id": "SPfP7Y144CME"
   },
   "source": [
    "## 1.4. Changing the Data Types"
   ]
  },
  {
   "cell_type": "code",
   "execution_count": 29,
   "id": "q-v01Nj28RCL",
   "metadata": {
    "ExecuteTime": {
     "end_time": "2022-03-21T15:47:40.041919Z",
     "start_time": "2022-03-21T15:47:40.035477Z"
    },
    "colab": {
     "base_uri": "https://localhost:8080/"
    },
    "executionInfo": {
     "elapsed": 414,
     "status": "ok",
     "timestamp": 1647875185797,
     "user": {
      "displayName": "Renan Pacheco",
      "photoUrl": "https://lh3.googleusercontent.com/a-/AOh14GiRv7UuC3atWqKJu9tdNt8L6TW4viUyBcgTc6e1sw=s64",
      "userId": "12718092000337794607"
     },
     "user_tz": 180
    },
    "id": "q-v01Nj28RCL",
    "outputId": "a820882f-52d3-4816-ac46-b5dc6f266f39"
   },
   "outputs": [
    {
     "name": "stdout",
     "output_type": "stream",
     "text": [
      "Number of total columns before NA dropping for df1: 16\n",
      "Number of total rows before NA dropping for df1: 213451\n",
      "\n",
      "Number of total columns after NA dropping for df1: 16\n",
      "Number of total rows after NA dropping for df1: 207386\n"
     ]
    }
   ],
   "source": [
    "## Num primeiro momento (1º ciclo CRISP), valores NA não serão considerados durante a análise do modelo. Isso porque o objetivo é atingir velocidade \n",
    "## na apresentação dos resultados iniciais. Caso as variáveis 'date_first_booking', 'age' e 'first_affliate_tracked', em um 2º ciclo do projeto, sejam interessante \n",
    "## para a modelagem, então estes serão introduzidos como features relevantes para a análise.\n",
    "\n",
    "# Shape of dataframe containing NA data:\n",
    "print( 'Number of total columns before NA dropping for df1: {}'.format( df_users.shape[1] ) )\n",
    "print( 'Number of total rows before NA dropping for df1: {}'.format( df_users.shape[0] ) )\n",
    "\n",
    "# # Removing missing values (Containing NA):\n",
    "# df1 = df1.dropna()\n",
    "\n",
    "# Shape of dataframe after removing NA data:\n",
    "print( '\\nNumber of total columns after NA dropping for df1: {}'.format( df1.shape[1] ) )\n",
    "print( 'Number of total rows after NA dropping for df1: {}'.format( df1.shape[0] ) )"
   ]
  },
  {
   "cell_type": "code",
   "execution_count": 30,
   "id": "5_BCIcvK-BF7",
   "metadata": {
    "ExecuteTime": {
     "end_time": "2022-03-21T15:47:40.055103Z",
     "start_time": "2022-03-21T15:47:40.045076Z"
    },
    "colab": {
     "base_uri": "https://localhost:8080/"
    },
    "executionInfo": {
     "elapsed": 414,
     "status": "ok",
     "timestamp": 1647875194809,
     "user": {
      "displayName": "Renan Pacheco",
      "photoUrl": "https://lh3.googleusercontent.com/a-/AOh14GiRv7UuC3atWqKJu9tdNt8L6TW4viUyBcgTc6e1sw=s64",
      "userId": "12718092000337794607"
     },
     "user_tz": 180
    },
    "id": "5_BCIcvK-BF7",
    "outputId": "a57c4c01-f023-4ecd-d29e-04a7cf8c15b5"
   },
   "outputs": [
    {
     "data": {
      "text/plain": [
       "id                          object\n",
       "date_account_created        object\n",
       "timestamp_first_active       int64\n",
       "date_first_booking          object\n",
       "gender                      object\n",
       "age                        float64\n",
       "signup_method               object\n",
       "signup_flow                  int64\n",
       "language                    object\n",
       "affiliate_channel           object\n",
       "affiliate_provider          object\n",
       "first_affiliate_tracked     object\n",
       "signup_app                  object\n",
       "first_device_type           object\n",
       "first_browser               object\n",
       "country_destination         object\n",
       "dtype: object"
      ]
     },
     "execution_count": 30,
     "metadata": {},
     "output_type": "execute_result"
    }
   ],
   "source": [
    "df1.dtypes"
   ]
  },
  {
   "cell_type": "code",
   "execution_count": 31,
   "id": "T33twBvk4CPo",
   "metadata": {
    "ExecuteTime": {
     "end_time": "2022-03-21T15:47:41.244264Z",
     "start_time": "2022-03-21T15:47:40.058418Z"
    },
    "executionInfo": {
     "elapsed": 1135,
     "status": "ok",
     "timestamp": 1647875227169,
     "user": {
      "displayName": "Renan Pacheco",
      "photoUrl": "https://lh3.googleusercontent.com/a-/AOh14GiRv7UuC3atWqKJu9tdNt8L6TW4viUyBcgTc6e1sw=s64",
      "userId": "12718092000337794607"
     },
     "user_tz": 180
    },
    "id": "T33twBvk4CPo"
   },
   "outputs": [],
   "source": [
    "# Date which the account was created ('date_account_created'):\n",
    "df1['date_account_created'] = pd.to_datetime( df1['date_account_created'] )\n",
    "\n",
    "# Timestamp that the user was active the first time ('timestamp_first_active'):\n",
    "df1['timestamp_first_active'] = pd.to_datetime( df1['timestamp_first_active'], format = '%Y%m%d%H%M%S' )\n",
    "\n",
    "## (In this case, it'll be necessary to not only change from 'int64' to 'datetime', but also to divide into an actual date pattern)\n",
    "\n",
    "# Date for when the user booked the first time ('date_first_booking'):\n",
    "df1['date_first_booking'] = pd.to_datetime( df1['date_first_booking'] )\n",
    "\n",
    "# Age:\n",
    "df1['age'] = df1['age'].astype( int )\n"
   ]
  },
  {
   "cell_type": "code",
   "execution_count": 32,
   "id": "MGp12gvU_MfC",
   "metadata": {
    "ExecuteTime": {
     "end_time": "2022-03-21T15:47:41.254655Z",
     "start_time": "2022-03-21T15:47:41.247070Z"
    },
    "colab": {
     "base_uri": "https://localhost:8080/"
    },
    "executionInfo": {
     "elapsed": 418,
     "status": "ok",
     "timestamp": 1647875229831,
     "user": {
      "displayName": "Renan Pacheco",
      "photoUrl": "https://lh3.googleusercontent.com/a-/AOh14GiRv7UuC3atWqKJu9tdNt8L6TW4viUyBcgTc6e1sw=s64",
      "userId": "12718092000337794607"
     },
     "user_tz": 180
    },
    "id": "MGp12gvU_MfC",
    "outputId": "e836ccb4-9640-48f8-9f7b-0b70ae72112a"
   },
   "outputs": [
    {
     "data": {
      "text/plain": [
       "id                                 object\n",
       "date_account_created       datetime64[ns]\n",
       "timestamp_first_active     datetime64[ns]\n",
       "date_first_booking         datetime64[ns]\n",
       "gender                             object\n",
       "age                                 int64\n",
       "signup_method                      object\n",
       "signup_flow                         int64\n",
       "language                           object\n",
       "affiliate_channel                  object\n",
       "affiliate_provider                 object\n",
       "first_affiliate_tracked            object\n",
       "signup_app                         object\n",
       "first_device_type                  object\n",
       "first_browser                      object\n",
       "country_destination                object\n",
       "dtype: object"
      ]
     },
     "execution_count": 32,
     "metadata": {},
     "output_type": "execute_result"
    }
   ],
   "source": [
    "df1.dtypes"
   ]
  },
  {
   "cell_type": "markdown",
   "id": "zDlQrOMY4T5M",
   "metadata": {
    "id": "zDlQrOMY4T5M"
   },
   "source": [
    "## 1.5. Checking of Balanced Data"
   ]
  },
  {
   "cell_type": "code",
   "execution_count": 33,
   "id": "WNb5L-zh4Up3",
   "metadata": {
    "ExecuteTime": {
     "end_time": "2022-03-21T15:47:41.289199Z",
     "start_time": "2022-03-21T15:47:41.257627Z"
    },
    "colab": {
     "base_uri": "https://localhost:8080/"
    },
    "executionInfo": {
     "elapsed": 412,
     "status": "ok",
     "timestamp": 1647875242534,
     "user": {
      "displayName": "Renan Pacheco",
      "photoUrl": "https://lh3.googleusercontent.com/a-/AOh14GiRv7UuC3atWqKJu9tdNt8L6TW4viUyBcgTc6e1sw=s64",
      "userId": "12718092000337794607"
     },
     "user_tz": 180
    },
    "id": "WNb5L-zh4Up3",
    "outputId": "8a66940b-7610-4a49-f490-55abb311d412"
   },
   "outputs": [
    {
     "data": {
      "text/plain": [
       "NDF      0.579673\n",
       "US       0.294461\n",
       "other    0.048128\n",
       "FR       0.023623\n",
       "IT       0.013458\n",
       "GB       0.011066\n",
       "ES       0.010671\n",
       "CA       0.006707\n",
       "DE       0.005020\n",
       "NL       0.003621\n",
       "AU       0.002541\n",
       "PT       0.001032\n",
       "Name: country_destination, dtype: float64"
      ]
     },
     "execution_count": 33,
     "metadata": {},
     "output_type": "execute_result"
    }
   ],
   "source": [
    "df1['country_destination'].value_counts( normalize=True )"
   ]
  },
  {
   "cell_type": "markdown",
   "id": "Jpj4Knx7FwPq",
   "metadata": {
    "id": "Jpj4Knx7FwPq"
   },
   "source": [
    "## 1.6. Analysis of Descriptive Statistics"
   ]
  },
  {
   "cell_type": "markdown",
   "id": "eWOvONHpFwXe",
   "metadata": {
    "id": "eWOvONHpFwXe"
   },
   "source": [
    "### 1.6.1. Numerical variables\n"
   ]
  },
  {
   "cell_type": "markdown",
   "id": "gqbhfj6SgfeN",
   "metadata": {
    "id": "gqbhfj6SgfeN"
   },
   "source": [
    "#### 1.6.1.1. Numerical variables - users.csv"
   ]
  },
  {
   "cell_type": "code",
   "execution_count": 34,
   "id": "Lexsbyu7HT6V",
   "metadata": {
    "ExecuteTime": {
     "end_time": "2022-03-21T15:47:41.334298Z",
     "start_time": "2022-03-21T15:47:41.292088Z"
    },
    "executionInfo": {
     "elapsed": 14,
     "status": "ok",
     "timestamp": 1647874308663,
     "user": {
      "displayName": "Renan Pacheco",
      "photoUrl": "https://lh3.googleusercontent.com/a-/AOh14GiRv7UuC3atWqKJu9tdNt8L6TW4viUyBcgTc6e1sw=s64",
      "userId": "12718092000337794607"
     },
     "user_tz": 180
    },
    "id": "Lexsbyu7HT6V"
   },
   "outputs": [],
   "source": [
    "num_attributes  = df1.select_dtypes( include=['int64', 'float64'] )\n",
    "cat_attributes  = df1.select_dtypes( exclude=['int64', 'float64', 'datetime64[ns]'] )\n",
    "time_attributes = df1.select_dtypes( include=['datetime64[ns]'] )"
   ]
  },
  {
   "cell_type": "code",
   "execution_count": 35,
   "id": "u5HT6bAwGxyS",
   "metadata": {
    "ExecuteTime": {
     "end_time": "2022-03-21T15:47:41.517957Z",
     "start_time": "2022-03-21T15:47:41.336710Z"
    },
    "colab": {
     "base_uri": "https://localhost:8080/",
     "height": 112
    },
    "executionInfo": {
     "elapsed": 407,
     "status": "ok",
     "timestamp": 1647875305299,
     "user": {
      "displayName": "Renan Pacheco",
      "photoUrl": "https://lh3.googleusercontent.com/a-/AOh14GiRv7UuC3atWqKJu9tdNt8L6TW4viUyBcgTc6e1sw=s64",
      "userId": "12718092000337794607"
     },
     "user_tz": 180
    },
    "id": "u5HT6bAwGxyS",
    "outputId": "f637d81c-acdf-445c-ac0d-203528699fc6"
   },
   "outputs": [
    {
     "data": {
      "text/html": [
       "<div>\n",
       "<style scoped>\n",
       "    .dataframe tbody tr th:only-of-type {\n",
       "        vertical-align: middle;\n",
       "    }\n",
       "\n",
       "    .dataframe tbody tr th {\n",
       "        vertical-align: top;\n",
       "    }\n",
       "\n",
       "    .dataframe thead th {\n",
       "        text-align: right;\n",
       "    }\n",
       "</style>\n",
       "<table border=\"1\" class=\"dataframe\">\n",
       "  <thead>\n",
       "    <tr style=\"text-align: right;\">\n",
       "      <th></th>\n",
       "      <th>Attributes</th>\n",
       "      <th>Min</th>\n",
       "      <th>Max</th>\n",
       "      <th>Range</th>\n",
       "      <th>Mean</th>\n",
       "      <th>Median</th>\n",
       "      <th>STD</th>\n",
       "      <th>Skew</th>\n",
       "      <th>Kurtosis</th>\n",
       "    </tr>\n",
       "  </thead>\n",
       "  <tbody>\n",
       "    <tr>\n",
       "      <th>0</th>\n",
       "      <td>age</td>\n",
       "      <td>1.0</td>\n",
       "      <td>2014.0</td>\n",
       "      <td>2013.0</td>\n",
       "      <td>49.587976</td>\n",
       "      <td>49.0</td>\n",
       "      <td>118.422080</td>\n",
       "      <td>16.323402</td>\n",
       "      <td>267.428573</td>\n",
       "    </tr>\n",
       "    <tr>\n",
       "      <th>1</th>\n",
       "      <td>signup_flow</td>\n",
       "      <td>0.0</td>\n",
       "      <td>25.0</td>\n",
       "      <td>25.0</td>\n",
       "      <td>3.151490</td>\n",
       "      <td>0.0</td>\n",
       "      <td>7.543915</td>\n",
       "      <td>2.287158</td>\n",
       "      <td>3.567794</td>\n",
       "    </tr>\n",
       "  </tbody>\n",
       "</table>\n",
       "</div>"
      ],
      "text/plain": [
       "    Attributes  Min     Max   Range       Mean  Median         STD       Skew    Kurtosis\n",
       "0          age  1.0  2014.0  2013.0  49.587976    49.0  118.422080  16.323402  267.428573\n",
       "1  signup_flow  0.0    25.0    25.0   3.151490     0.0    7.543915   2.287158    3.567794"
      ]
     },
     "execution_count": 35,
     "metadata": {},
     "output_type": "execute_result"
    }
   ],
   "source": [
    "# Central Tendency metrics:\n",
    "\n",
    "## mean\n",
    "ct1 = pd.DataFrame(num_attributes.apply(np.mean)).T\n",
    "\n",
    "## median\n",
    "ct2 = pd.DataFrame(num_attributes.apply(np.median)).T\n",
    "\n",
    "# ---------------------------------------------------\n",
    "# Dispersion metrics:\n",
    "\n",
    "## standard deviation\n",
    "dis1 = pd.DataFrame(num_attributes.apply(np.std)).T\n",
    "\n",
    "## minimum:\n",
    "dis2 = pd.DataFrame( num_attributes.apply(min) ).T\n",
    "\n",
    "## maximum:\n",
    "dis3 = pd.DataFrame( num_attributes.apply(max) ).T\n",
    "\n",
    "## range:\n",
    "dis4 = pd.DataFrame( num_attributes.apply(lambda x: x.max() - x.min()) ).T\n",
    "\n",
    "## skewness:\n",
    "dis5 = pd.DataFrame(num_attributes.apply(lambda x: x.skew())).T\n",
    "\n",
    "## kurtosis:\n",
    "dis6 = pd.DataFrame(num_attributes.apply(lambda x: x.kurtosis())).T\n",
    "\n",
    "\n",
    "# Concatenating all values:\n",
    "ct = pd.concat( [dis2, dis3, dis4, ct1, ct2, dis1, dis5, dis6] ).T.reset_index()\n",
    "\n",
    "ct.columns = ['Attributes', 'Min', 'Max', 'Range', 'Mean', 'Median', 'STD', 'Skew', 'Kurtosis']\n",
    "ct.head()"
   ]
  },
  {
   "cell_type": "markdown",
   "id": "xlgj_nrSGyCw",
   "metadata": {
    "id": "xlgj_nrSGyCw"
   },
   "source": [
    "#### 1.6.1.2. Numerical variables - sessions.csv"
   ]
  },
  {
   "cell_type": "code",
   "execution_count": 36,
   "id": "MfDqHHqrFwbg",
   "metadata": {
    "ExecuteTime": {
     "end_time": "2022-03-21T15:47:42.108470Z",
     "start_time": "2022-03-21T15:47:41.520921Z"
    },
    "executionInfo": {
     "elapsed": 465,
     "status": "ok",
     "timestamp": 1647875422659,
     "user": {
      "displayName": "Renan Pacheco",
      "photoUrl": "https://lh3.googleusercontent.com/a-/AOh14GiRv7UuC3atWqKJu9tdNt8L6TW4viUyBcgTc6e1sw=s64",
      "userId": "12718092000337794607"
     },
     "user_tz": 180
    },
    "id": "MfDqHHqrFwbg"
   },
   "outputs": [],
   "source": [
    "num_attributes_sessions  = df_sessions.select_dtypes( include=['int64', 'float64'] )\n",
    "cat_attributes_sessions  = df_sessions.select_dtypes( exclude=['int64', 'float64', 'datetime64[ns]'] )\n",
    "time_attributes_sessions = df_sessions.select_dtypes( include=['datetime64[ns]'] )"
   ]
  },
  {
   "cell_type": "code",
   "execution_count": 37,
   "id": "Nz-rrmQ-afZe",
   "metadata": {
    "ExecuteTime": {
     "end_time": "2022-03-21T15:47:45.815758Z",
     "start_time": "2022-03-21T15:47:42.111749Z"
    },
    "colab": {
     "base_uri": "https://localhost:8080/",
     "height": 81
    },
    "executionInfo": {
     "elapsed": 2791,
     "status": "ok",
     "timestamp": 1647875437005,
     "user": {
      "displayName": "Renan Pacheco",
      "photoUrl": "https://lh3.googleusercontent.com/a-/AOh14GiRv7UuC3atWqKJu9tdNt8L6TW4viUyBcgTc6e1sw=s64",
      "userId": "12718092000337794607"
     },
     "user_tz": 180
    },
    "id": "Nz-rrmQ-afZe",
    "outputId": "07ac0bee-edf5-455a-a882-8531ef6fc45f"
   },
   "outputs": [
    {
     "data": {
      "text/html": [
       "<div>\n",
       "<style scoped>\n",
       "    .dataframe tbody tr th:only-of-type {\n",
       "        vertical-align: middle;\n",
       "    }\n",
       "\n",
       "    .dataframe tbody tr th {\n",
       "        vertical-align: top;\n",
       "    }\n",
       "\n",
       "    .dataframe thead th {\n",
       "        text-align: right;\n",
       "    }\n",
       "</style>\n",
       "<table border=\"1\" class=\"dataframe\">\n",
       "  <thead>\n",
       "    <tr style=\"text-align: right;\">\n",
       "      <th></th>\n",
       "      <th>Atributes</th>\n",
       "      <th>Max</th>\n",
       "      <th>Min</th>\n",
       "      <th>Range</th>\n",
       "      <th>Mean</th>\n",
       "      <th>Median</th>\n",
       "      <th>STD</th>\n",
       "      <th>Skew</th>\n",
       "      <th>Kurtosis</th>\n",
       "    </tr>\n",
       "  </thead>\n",
       "  <tbody>\n",
       "    <tr>\n",
       "      <th>0</th>\n",
       "      <td>secs_elapsed</td>\n",
       "      <td>0.0</td>\n",
       "      <td>1799977.0</td>\n",
       "      <td>1799977.0</td>\n",
       "      <td>19961.8251</td>\n",
       "      <td>1369.0</td>\n",
       "      <td>88849.388449</td>\n",
       "      <td>11.137761</td>\n",
       "      <td>154.84312</td>\n",
       "    </tr>\n",
       "  </tbody>\n",
       "</table>\n",
       "</div>"
      ],
      "text/plain": [
       "      Atributes  Max        Min      Range        Mean  Median           STD       Skew   Kurtosis\n",
       "0  secs_elapsed  0.0  1799977.0  1799977.0  19961.8251  1369.0  88849.388449  11.137761  154.84312"
      ]
     },
     "execution_count": 37,
     "metadata": {},
     "output_type": "execute_result"
    }
   ],
   "source": [
    "# Central Tendency metrics:\n",
    "\n",
    "## mean\n",
    "ct1 = pd.DataFrame(num_attributes_sessions.apply(np.mean)).T\n",
    "\n",
    "## median\n",
    "ct2 = pd.DataFrame(num_attributes_sessions.apply(np.median)).T\n",
    "\n",
    "# ---------------------------------------------------\n",
    "# Dispersion metrics:\n",
    "\n",
    "## standard deviation\n",
    "dis1 = pd.DataFrame( num_attributes_sessions.apply(np.std) ).T\n",
    "\n",
    "## minimum:\n",
    "dis2 = pd.DataFrame( num_attributes_sessions.apply(min) ).T\n",
    "\n",
    "## maximum:\n",
    "dis3 = pd.DataFrame( num_attributes_sessions.apply(max) ).T\n",
    "\n",
    "## range:\n",
    "dis4 = pd.DataFrame( num_attributes_sessions.apply(lambda x: x.max() - x.min()) ).T\n",
    "\n",
    "## skewness:\n",
    "dis5 = pd.DataFrame( num_attributes_sessions.apply(lambda x: x.skew())).T\n",
    "\n",
    "## kurtosis:\n",
    "dis6 = pd.DataFrame( num_attributes_sessions.apply(lambda x: x.kurtosis()) ).T\n",
    "\n",
    "\n",
    "# Concatenating all values:\n",
    "ct = pd.concat( [dis2, dis3, dis4, ct1, ct2, dis1, dis5, dis6] ).T.reset_index()\n",
    "\n",
    "ct.columns = ['Atributes', 'Max', 'Min', 'Range', 'Mean', 'Median', 'STD', 'Skew', 'Kurtosis']\n",
    "ct.head()"
   ]
  },
  {
   "cell_type": "markdown",
   "id": "deFH3cGfafdB",
   "metadata": {
    "id": "deFH3cGfafdB"
   },
   "source": [
    "### 1.6.2. Categorical variables"
   ]
  },
  {
   "cell_type": "markdown",
   "id": "15vB6MbOafhX",
   "metadata": {
    "id": "15vB6MbOafhX"
   },
   "source": [
    "#### 1.6.2.1. Categorical variables - users.csv"
   ]
  },
  {
   "cell_type": "code",
   "execution_count": 38,
   "id": "aDtkIpQiicar",
   "metadata": {
    "ExecuteTime": {
     "end_time": "2022-03-21T15:47:45.867314Z",
     "start_time": "2022-03-21T15:47:45.818870Z"
    },
    "colab": {
     "base_uri": "https://localhost:8080/"
    },
    "executionInfo": {
     "elapsed": 5,
     "status": "ok",
     "timestamp": 1647875491157,
     "user": {
      "displayName": "Renan Pacheco",
      "photoUrl": "https://lh3.googleusercontent.com/a-/AOh14GiRv7UuC3atWqKJu9tdNt8L6TW4viUyBcgTc6e1sw=s64",
      "userId": "12718092000337794607"
     },
     "user_tz": 180
    },
    "id": "aDtkIpQiicar",
    "outputId": "0152210e-698c-48f5-b1eb-271d1fbc6e91"
   },
   "outputs": [
    {
     "data": {
      "text/plain": [
       "id                         object\n",
       "gender                     object\n",
       "signup_method              object\n",
       "language                   object\n",
       "affiliate_channel          object\n",
       "affiliate_provider         object\n",
       "first_affiliate_tracked    object\n",
       "signup_app                 object\n",
       "first_device_type          object\n",
       "first_browser              object\n",
       "country_destination        object\n",
       "dtype: object"
      ]
     },
     "execution_count": 38,
     "metadata": {},
     "output_type": "execute_result"
    }
   ],
   "source": [
    "df1.select_dtypes( include=['object'] ).dtypes"
   ]
  },
  {
   "cell_type": "code",
   "execution_count": 39,
   "id": "Mm2GEp-phGar",
   "metadata": {
    "ExecuteTime": {
     "end_time": "2022-03-21T15:47:46.313991Z",
     "start_time": "2022-03-21T15:47:45.870404Z"
    },
    "colab": {
     "base_uri": "https://localhost:8080/",
     "height": 256
    },
    "executionInfo": {
     "elapsed": 519,
     "status": "ok",
     "timestamp": 1647875494031,
     "user": {
      "displayName": "Renan Pacheco",
      "photoUrl": "https://lh3.googleusercontent.com/a-/AOh14GiRv7UuC3atWqKJu9tdNt8L6TW4viUyBcgTc6e1sw=s64",
      "userId": "12718092000337794607"
     },
     "user_tz": 180
    },
    "id": "Mm2GEp-phGar",
    "outputId": "e8fe445b-24e1-4f74-f987-44c774d26117"
   },
   "outputs": [
    {
     "data": {
      "text/html": [
       "<div>\n",
       "<style scoped>\n",
       "    .dataframe tbody tr th:only-of-type {\n",
       "        vertical-align: middle;\n",
       "    }\n",
       "\n",
       "    .dataframe tbody tr th {\n",
       "        vertical-align: top;\n",
       "    }\n",
       "\n",
       "    .dataframe thead th {\n",
       "        text-align: right;\n",
       "    }\n",
       "</style>\n",
       "<table border=\"1\" class=\"dataframe\">\n",
       "  <thead>\n",
       "    <tr style=\"text-align: right;\">\n",
       "      <th></th>\n",
       "      <th>gender</th>\n",
       "      <th>signup_method</th>\n",
       "      <th>language</th>\n",
       "      <th>affiliate_channel</th>\n",
       "      <th>affiliate_provider</th>\n",
       "      <th>first_affiliate_tracked</th>\n",
       "      <th>signup_app</th>\n",
       "      <th>first_device_type</th>\n",
       "      <th>first_browser</th>\n",
       "      <th>country_destination</th>\n",
       "    </tr>\n",
       "  </thead>\n",
       "  <tbody>\n",
       "    <tr>\n",
       "      <th>count</th>\n",
       "      <td>207386</td>\n",
       "      <td>207386</td>\n",
       "      <td>207386</td>\n",
       "      <td>207386</td>\n",
       "      <td>207386</td>\n",
       "      <td>207386</td>\n",
       "      <td>207386</td>\n",
       "      <td>207386</td>\n",
       "      <td>207386</td>\n",
       "      <td>207386</td>\n",
       "    </tr>\n",
       "    <tr>\n",
       "      <th>unique</th>\n",
       "      <td>4</td>\n",
       "      <td>3</td>\n",
       "      <td>25</td>\n",
       "      <td>8</td>\n",
       "      <td>18</td>\n",
       "      <td>7</td>\n",
       "      <td>4</td>\n",
       "      <td>9</td>\n",
       "      <td>52</td>\n",
       "      <td>12</td>\n",
       "    </tr>\n",
       "    <tr>\n",
       "      <th>top</th>\n",
       "      <td>-unknown-</td>\n",
       "      <td>basic</td>\n",
       "      <td>en</td>\n",
       "      <td>direct</td>\n",
       "      <td>direct</td>\n",
       "      <td>untracked</td>\n",
       "      <td>Web</td>\n",
       "      <td>Mac Desktop</td>\n",
       "      <td>Chrome</td>\n",
       "      <td>NDF</td>\n",
       "    </tr>\n",
       "    <tr>\n",
       "      <th>freq</th>\n",
       "      <td>91783</td>\n",
       "      <td>148297</td>\n",
       "      <td>200415</td>\n",
       "      <td>134179</td>\n",
       "      <td>133935</td>\n",
       "      <td>109232</td>\n",
       "      <td>178334</td>\n",
       "      <td>89600</td>\n",
       "      <td>63845</td>\n",
       "      <td>120216</td>\n",
       "    </tr>\n",
       "  </tbody>\n",
       "</table>\n",
       "</div>"
      ],
      "text/plain": [
       "           gender signup_method language affiliate_channel affiliate_provider first_affiliate_tracked signup_app first_device_type first_browser country_destination\n",
       "count      207386        207386   207386            207386             207386                  207386     207386            207386        207386              207386\n",
       "unique          4             3       25                 8                 18                       7          4                 9            52                  12\n",
       "top     -unknown-         basic       en            direct             direct               untracked        Web       Mac Desktop        Chrome                 NDF\n",
       "freq        91783        148297   200415            134179             133935                  109232     178334             89600         63845              120216"
      ]
     },
     "execution_count": 39,
     "metadata": {},
     "output_type": "execute_result"
    }
   ],
   "source": [
    "cat_attributes.drop( 'id',  axis=1 ).describe()"
   ]
  },
  {
   "cell_type": "markdown",
   "id": "xDX3cO9nhGgJ",
   "metadata": {
    "id": "xDX3cO9nhGgJ"
   },
   "source": [
    "#### 1.6.2.2. Categorical variables - sessions.csv"
   ]
  },
  {
   "cell_type": "code",
   "execution_count": 40,
   "id": "LiHmD19UhIQV",
   "metadata": {
    "ExecuteTime": {
     "end_time": "2022-03-21T15:47:46.326120Z",
     "start_time": "2022-03-21T15:47:46.317093Z"
    },
    "colab": {
     "base_uri": "https://localhost:8080/"
    },
    "executionInfo": {
     "elapsed": 412,
     "status": "ok",
     "timestamp": 1647875538664,
     "user": {
      "displayName": "Renan Pacheco",
      "photoUrl": "https://lh3.googleusercontent.com/a-/AOh14GiRv7UuC3atWqKJu9tdNt8L6TW4viUyBcgTc6e1sw=s64",
      "userId": "12718092000337794607"
     },
     "user_tz": 180
    },
    "id": "LiHmD19UhIQV",
    "outputId": "a9e1af3a-11cb-4347-9930-558046fdd90d"
   },
   "outputs": [
    {
     "data": {
      "text/plain": [
       "user_id           object\n",
       "action            object\n",
       "action_type       object\n",
       "action_detail     object\n",
       "device_type       object\n",
       "secs_elapsed     float64\n",
       "dtype: object"
      ]
     },
     "execution_count": 40,
     "metadata": {},
     "output_type": "execute_result"
    }
   ],
   "source": [
    "df_sessions.dtypes"
   ]
  },
  {
   "cell_type": "code",
   "execution_count": 41,
   "id": "OrO2sLD1ibqv",
   "metadata": {
    "ExecuteTime": {
     "end_time": "2022-03-21T15:47:54.138663Z",
     "start_time": "2022-03-21T15:47:46.329201Z"
    },
    "colab": {
     "base_uri": "https://localhost:8080/",
     "height": 175
    },
    "executionInfo": {
     "elapsed": 4513,
     "status": "ok",
     "timestamp": 1647875633696,
     "user": {
      "displayName": "Renan Pacheco",
      "photoUrl": "https://lh3.googleusercontent.com/a-/AOh14GiRv7UuC3atWqKJu9tdNt8L6TW4viUyBcgTc6e1sw=s64",
      "userId": "12718092000337794607"
     },
     "user_tz": 180
    },
    "id": "OrO2sLD1ibqv",
    "outputId": "935bf059-56bb-4186-cd25-0455ba64a37f"
   },
   "outputs": [
    {
     "data": {
      "text/html": [
       "<div>\n",
       "<style scoped>\n",
       "    .dataframe tbody tr th:only-of-type {\n",
       "        vertical-align: middle;\n",
       "    }\n",
       "\n",
       "    .dataframe tbody tr th {\n",
       "        vertical-align: top;\n",
       "    }\n",
       "\n",
       "    .dataframe thead th {\n",
       "        text-align: right;\n",
       "    }\n",
       "</style>\n",
       "<table border=\"1\" class=\"dataframe\">\n",
       "  <thead>\n",
       "    <tr style=\"text-align: right;\">\n",
       "      <th></th>\n",
       "      <th>action</th>\n",
       "      <th>action_type</th>\n",
       "      <th>action_detail</th>\n",
       "      <th>device_type</th>\n",
       "    </tr>\n",
       "  </thead>\n",
       "  <tbody>\n",
       "    <tr>\n",
       "      <th>count</th>\n",
       "      <td>9213930</td>\n",
       "      <td>9213930</td>\n",
       "      <td>9213930</td>\n",
       "      <td>9213930</td>\n",
       "    </tr>\n",
       "    <tr>\n",
       "      <th>unique</th>\n",
       "      <td>347</td>\n",
       "      <td>10</td>\n",
       "      <td>155</td>\n",
       "      <td>14</td>\n",
       "    </tr>\n",
       "    <tr>\n",
       "      <th>top</th>\n",
       "      <td>show</td>\n",
       "      <td>view</td>\n",
       "      <td>view_search_results</td>\n",
       "      <td>Mac Desktop</td>\n",
       "    </tr>\n",
       "    <tr>\n",
       "      <th>freq</th>\n",
       "      <td>2178382</td>\n",
       "      <td>3545621</td>\n",
       "      <td>1770931</td>\n",
       "      <td>3019523</td>\n",
       "    </tr>\n",
       "  </tbody>\n",
       "</table>\n",
       "</div>"
      ],
      "text/plain": [
       "         action action_type        action_detail  device_type\n",
       "count   9213930     9213930              9213930      9213930\n",
       "unique      347          10                  155           14\n",
       "top        show        view  view_search_results  Mac Desktop\n",
       "freq    2178382     3545621              1770931      3019523"
      ]
     },
     "execution_count": 41,
     "metadata": {},
     "output_type": "execute_result"
    }
   ],
   "source": [
    "cat_attributes_sessions.drop( 'user_id', axis=1 ).describe()"
   ]
  },
  {
   "cell_type": "markdown",
   "id": "KpW3wWkribuO",
   "metadata": {
    "id": "KpW3wWkribuO"
   },
   "source": [
    "As one might see above, there is a huge list of levels of categorical variables to be encoded, thus impossible to continue with such analysis.\n",
    "\n",
    "What could be done, however, is to check if either these unique categorical variables have any correlation amongst themselves or not...\n",
    "\n",
    "For checking the correlation amongst categorical variables, the <font color='yellow'>metric of analysis for statistical correlation amongst categorical variables</font> is the Cramer-V:"
   ]
  },
  {
   "cell_type": "code",
   "execution_count": 42,
   "id": "R1Q9xwzVmeco",
   "metadata": {
    "ExecuteTime": {
     "end_time": "2022-03-21T15:48:55.355251Z",
     "start_time": "2022-03-21T15:47:54.142264Z"
    },
    "executionInfo": {
     "elapsed": 31958,
     "status": "ok",
     "timestamp": 1647875692281,
     "user": {
      "displayName": "Renan Pacheco",
      "photoUrl": "https://lh3.googleusercontent.com/a-/AOh14GiRv7UuC3atWqKJu9tdNt8L6TW4viUyBcgTc6e1sw=s64",
      "userId": "12718092000337794607"
     },
     "user_tz": 180
    },
    "id": "R1Q9xwzVmeco"
   },
   "outputs": [],
   "source": [
    "# List of attributes for Cramer's V correlation:\n",
    "cat_attributes_list = cat_attributes_sessions.drop('user_id', axis=1).columns.tolist()\n",
    "\n",
    "corr_dict = {}\n",
    "for i in range( len(cat_attributes_list) ):\n",
    "    \n",
    "    corr_list = []\n",
    "    for j in range( len(cat_attributes_list) ):\n",
    "\n",
    "        ref  = cat_attributes_list[i]   #i = regarding the row\n",
    "        feat = cat_attributes_list[j]   #j = regarding the column\n",
    "        \n",
    "        # Making the proper correlation:\n",
    "        corr = cramer_v( cat_attributes_sessions[ref], cat_attributes_sessions[feat] )\n",
    "        \n",
    "        # Appending a list:\n",
    "        corr_list.append( corr )\n",
    "        \n",
    "    corr_dict[ref] = corr_list"
   ]
  },
  {
   "cell_type": "code",
   "execution_count": 43,
   "id": "j1SePWXMkwY9",
   "metadata": {
    "ExecuteTime": {
     "end_time": "2022-03-21T15:48:55.372640Z",
     "start_time": "2022-03-21T15:48:55.357874Z"
    },
    "colab": {
     "base_uri": "https://localhost:8080/",
     "height": 175
    },
    "executionInfo": {
     "elapsed": 409,
     "status": "ok",
     "timestamp": 1647875698102,
     "user": {
      "displayName": "Renan Pacheco",
      "photoUrl": "https://lh3.googleusercontent.com/a-/AOh14GiRv7UuC3atWqKJu9tdNt8L6TW4viUyBcgTc6e1sw=s64",
      "userId": "12718092000337794607"
     },
     "user_tz": 180
    },
    "id": "j1SePWXMkwY9",
    "outputId": "15a8b3b2-b45b-4df8-9840-e323d9145ccb"
   },
   "outputs": [
    {
     "data": {
      "text/html": [
       "<div>\n",
       "<style scoped>\n",
       "    .dataframe tbody tr th:only-of-type {\n",
       "        vertical-align: middle;\n",
       "    }\n",
       "\n",
       "    .dataframe tbody tr th {\n",
       "        vertical-align: top;\n",
       "    }\n",
       "\n",
       "    .dataframe thead th {\n",
       "        text-align: right;\n",
       "    }\n",
       "</style>\n",
       "<table border=\"1\" class=\"dataframe\">\n",
       "  <thead>\n",
       "    <tr style=\"text-align: right;\">\n",
       "      <th></th>\n",
       "      <th>action</th>\n",
       "      <th>action_type</th>\n",
       "      <th>action_detail</th>\n",
       "      <th>device_type</th>\n",
       "    </tr>\n",
       "  </thead>\n",
       "  <tbody>\n",
       "    <tr>\n",
       "      <th>action</th>\n",
       "      <td>1.000000</td>\n",
       "      <td>0.952732</td>\n",
       "      <td>0.795149</td>\n",
       "      <td>0.259848</td>\n",
       "    </tr>\n",
       "    <tr>\n",
       "      <th>action_type</th>\n",
       "      <td>0.952732</td>\n",
       "      <td>1.000000</td>\n",
       "      <td>0.980624</td>\n",
       "      <td>0.082041</td>\n",
       "    </tr>\n",
       "    <tr>\n",
       "      <th>action_detail</th>\n",
       "      <td>0.795149</td>\n",
       "      <td>0.980624</td>\n",
       "      <td>1.000000</td>\n",
       "      <td>0.219622</td>\n",
       "    </tr>\n",
       "    <tr>\n",
       "      <th>device_type</th>\n",
       "      <td>0.259848</td>\n",
       "      <td>0.082041</td>\n",
       "      <td>0.219622</td>\n",
       "      <td>1.000000</td>\n",
       "    </tr>\n",
       "  </tbody>\n",
       "</table>\n",
       "</div>"
      ],
      "text/plain": [
       "                 action  action_type  action_detail  device_type\n",
       "action         1.000000     0.952732       0.795149     0.259848\n",
       "action_type    0.952732     1.000000       0.980624     0.082041\n",
       "action_detail  0.795149     0.980624       1.000000     0.219622\n",
       "device_type    0.259848     0.082041       0.219622     1.000000"
      ]
     },
     "execution_count": 43,
     "metadata": {},
     "output_type": "execute_result"
    }
   ],
   "source": [
    "d = pd.DataFrame(corr_dict)\n",
    "d = d.set_index(d.columns) # setting of index for writing the columns names\n",
    "d"
   ]
  },
  {
   "cell_type": "code",
   "execution_count": 44,
   "id": "DETGQWxqkwcz",
   "metadata": {
    "ExecuteTime": {
     "end_time": "2022-03-21T15:48:55.707994Z",
     "start_time": "2022-03-21T15:48:55.375228Z"
    },
    "colab": {
     "base_uri": "https://localhost:8080/",
     "height": 381
    },
    "executionInfo": {
     "elapsed": 429,
     "status": "ok",
     "timestamp": 1647875704158,
     "user": {
      "displayName": "Renan Pacheco",
      "photoUrl": "https://lh3.googleusercontent.com/a-/AOh14GiRv7UuC3atWqKJu9tdNt8L6TW4viUyBcgTc6e1sw=s64",
      "userId": "12718092000337794607"
     },
     "user_tz": 180
    },
    "id": "DETGQWxqkwcz",
    "outputId": "0847e7cd-a2d2-47b9-f28b-36abc9dfd18d"
   },
   "outputs": [
    {
     "data": {
      "image/png": "[encoded data removed]",
      "text/plain": [
       "<Figure size 864x432 with 2 Axes>"
      ]
     },
     "metadata": {},
     "output_type": "display_data"
    }
   ],
   "source": [
    "sns.heatmap(d, annot=True);"
   ]
  },
  {
   "cell_type": "markdown",
   "id": "ODj_oV2xWdCD",
   "metadata": {
    "id": "ODj_oV2xWdCD"
   },
   "source": [
    "By analysing the table above, one may draw the following conclusions:\n",
    "\n",
    "- Both **'action'** and **'action_type'** are 95% mutually correlated. However, upon analysing the categorical attributes table, it's clear that the **'action'** attribute has 347 unique values. Hence, since just the **'action_type'** can be used, **'action'** can be dropped from the set. <u>**Following the Occam's Razor proposition, for a model to not overfit itself, it must have the smallest dimension possible.**</u>\n",
    "- Same as with the **'action'** attribute, **'action_detail'** has 98% of mutual correlation. Having 155 unique values makes it difficult to be encoded and, thus, will also be disregarded from the set.\n",
    "- \n",
    "\n",
    "<font color='green'>In a nutshell: **'action'** and **'action_detail'** will be dropped out.</font>"
   ]
  },
  {
   "cell_type": "markdown",
   "id": "GgPmLQd7Z4NU",
   "metadata": {
    "heading_collapsed": true,
    "id": "GgPmLQd7Z4NU"
   },
   "source": [
    "# 2. Feature Engineering"
   ]
  },
  {
   "cell_type": "markdown",
   "id": "t4ejmd7x4p9i",
   "metadata": {
    "hidden": true,
    "id": "t4ejmd7x4p9i"
   },
   "source": [
    "How to find outliers in a multigroup dataset:\n",
    "\n",
    "https://analyticalsciencejournals.onlinelibrary.wiley.com/doi/abs/10.1002/cem.3233\n",
    "\n",
    "https://link.springer.com/article/10.3758/s13428-015-0687-8#:~:text=Such%20variables%20will%20be%20referred,is%20common%20across%20the%20groups.\n",
    "\n",
    "https://www.sciencedirect.com/science/article/abs/pii/S0169743921000782\n",
    "\n"
   ]
  },
  {
   "cell_type": "code",
   "execution_count": 45,
   "id": "gDrrKLCMxPvV",
   "metadata": {
    "ExecuteTime": {
     "end_time": "2022-03-21T15:48:55.724973Z",
     "start_time": "2022-03-21T15:48:55.710554Z"
    },
    "executionInfo": {
     "elapsed": 412,
     "status": "ok",
     "timestamp": 1647875727589,
     "user": {
      "displayName": "Renan Pacheco",
      "photoUrl": "https://lh3.googleusercontent.com/a-/AOh14GiRv7UuC3atWqKJu9tdNt8L6TW4viUyBcgTc6e1sw=s64",
      "userId": "12718092000337794607"
     },
     "user_tz": 180
    },
    "hidden": true,
    "id": "gDrrKLCMxPvV"
   },
   "outputs": [],
   "source": [
    "df2 = df1.copy()"
   ]
  },
  {
   "cell_type": "code",
   "execution_count": 46,
   "id": "yfiKAaZDb3Ya",
   "metadata": {
    "ExecuteTime": {
     "end_time": "2022-03-21T15:48:55.736415Z",
     "start_time": "2022-03-21T15:48:55.727460Z"
    },
    "colab": {
     "base_uri": "https://localhost:8080/"
    },
    "executionInfo": {
     "elapsed": 418,
     "status": "ok",
     "timestamp": 1647875729850,
     "user": {
      "displayName": "Renan Pacheco",
      "photoUrl": "https://lh3.googleusercontent.com/a-/AOh14GiRv7UuC3atWqKJu9tdNt8L6TW4viUyBcgTc6e1sw=s64",
      "userId": "12718092000337794607"
     },
     "user_tz": 180
    },
    "hidden": true,
    "id": "yfiKAaZDb3Ya",
    "outputId": "7881d842-d4f8-4447-d3c1-af955fe1a7de"
   },
   "outputs": [
    {
     "data": {
      "text/plain": [
       "id                                 object\n",
       "date_account_created       datetime64[ns]\n",
       "timestamp_first_active     datetime64[ns]\n",
       "date_first_booking         datetime64[ns]\n",
       "gender                             object\n",
       "age                                 int64\n",
       "signup_method                      object\n",
       "signup_flow                         int64\n",
       "language                           object\n",
       "affiliate_channel                  object\n",
       "affiliate_provider                 object\n",
       "first_affiliate_tracked            object\n",
       "signup_app                         object\n",
       "first_device_type                  object\n",
       "first_browser                      object\n",
       "country_destination                object\n",
       "dtype: object"
      ]
     },
     "execution_count": 46,
     "metadata": {},
     "output_type": "execute_result"
    }
   ],
   "source": [
    "df2.dtypes"
   ]
  },
  {
   "cell_type": "markdown",
   "id": "QmROcF3nal0m",
   "metadata": {
    "hidden": true,
    "id": "QmROcF3nal0m"
   },
   "source": [
    "## 2.1. Creating new features"
   ]
  },
  {
   "cell_type": "code",
   "execution_count": 47,
   "id": "Z2sPODteoToi",
   "metadata": {
    "ExecuteTime": {
     "end_time": "2022-03-21T15:48:55.755338Z",
     "start_time": "2022-03-21T15:48:55.738916Z"
    },
    "colab": {
     "base_uri": "https://localhost:8080/"
    },
    "executionInfo": {
     "elapsed": 412,
     "status": "ok",
     "timestamp": 1647875779507,
     "user": {
      "displayName": "Renan Pacheco",
      "photoUrl": "https://lh3.googleusercontent.com/a-/AOh14GiRv7UuC3atWqKJu9tdNt8L6TW4viUyBcgTc6e1sw=s64",
      "userId": "12718092000337794607"
     },
     "user_tz": 180
    },
    "hidden": true,
    "id": "Z2sPODteoToi",
    "outputId": "609207e3-44c0-4cce-c894-f47ed692b4a8"
   },
   "outputs": [
    {
     "data": {
      "text/plain": [
       "61838     -unknown-\n",
       "149981       FEMALE\n",
       "120075    -unknown-\n",
       "23194        FEMALE\n",
       "157482    -unknown-\n",
       "141879    -unknown-\n",
       "181747    -unknown-\n",
       "103737       FEMALE\n",
       "187370       FEMALE\n",
       "15003        FEMALE\n",
       "162732       FEMALE\n",
       "48571     -unknown-\n",
       "125267         MALE\n",
       "92402          MALE\n",
       "28612     -unknown-\n",
       "Name: gender, dtype: object"
      ]
     },
     "execution_count": 47,
     "metadata": {},
     "output_type": "execute_result"
    }
   ],
   "source": [
    "df2['gender'].sample(15)"
   ]
  },
  {
   "cell_type": "markdown",
   "id": "T_aesakvt11j",
   "metadata": {
    "hidden": true,
    "id": "T_aesakvt11j"
   },
   "source": [
    "### 2.1.1. Features time-related"
   ]
  },
  {
   "cell_type": "code",
   "execution_count": 48,
   "id": "bM3xnZ9yal7c",
   "metadata": {
    "ExecuteTime": {
     "end_time": "2022-03-21T15:49:05.797930Z",
     "start_time": "2022-03-21T15:48:55.758036Z"
    },
    "colab": {
     "base_uri": "https://localhost:8080/"
    },
    "executionInfo": {
     "elapsed": 7523,
     "status": "ok",
     "timestamp": 1647875814473,
     "user": {
      "displayName": "Renan Pacheco",
      "photoUrl": "https://lh3.googleusercontent.com/a-/AOh14GiRv7UuC3atWqKJu9tdNt8L6TW4viUyBcgTc6e1sw=s64",
      "userId": "12718092000337794607"
     },
     "user_tz": 180
    },
    "hidden": true,
    "id": "bM3xnZ9yal7c",
    "outputId": "effab6a5-d084-40ac-ffb1-4b189c40593c"
   },
   "outputs": [
    {
     "name": "stderr",
     "output_type": "stream",
     "text": [
      "/tmp/ipykernel_18536/2717654183.py:27: FutureWarning: Series.dt.weekofyear and Series.dt.week have been deprecated.  Please use Series.dt.isocalendar().week instead.\n",
      "  df2['week_of_year_first_active'] = df2['first_active'].dt.weekofyear\n",
      "/tmp/ipykernel_18536/2717654183.py:45: FutureWarning: Series.dt.weekofyear and Series.dt.week have been deprecated.  Please use Series.dt.isocalendar().week instead.\n",
      "  df2['week_of_year_first_booking'] = df2['date_first_booking'].dt.weekofyear\n",
      "/tmp/ipykernel_18536/2717654183.py:64: FutureWarning: Series.dt.weekofyear and Series.dt.week have been deprecated.  Please use Series.dt.isocalendar().week instead.\n",
      "  df2['week_of_year_account_created'] = df2['date_account_created'].dt.weekofyear\n"
     ]
    }
   ],
   "source": [
    "# (Converting first_active from timestamp to datetime):\n",
    "df2['first_active'] = pd.to_datetime( df2['timestamp_first_active'].dt.strftime('%Y-%m-%d') )\n",
    "\n",
    "# Features for describing important periods:\n",
    "\n",
    "## Feature for period between 'timestamp_first_active' and 'date_account_created':\n",
    "df2['first_active~account_creation'] = (df2['date_account_created'] - df2['first_active']).apply(lambda x: x.days)\n",
    " \n",
    "## Feature for period between 'date_account_created' and 'date_first_booking':\n",
    "df2['account_created~first_booking'] = (df2['date_first_booking'] - df2['date_account_created']).apply(lambda x: x.days)\n",
    "\n",
    "## Feature for period between 'timestamp_first_active' and 'date_first_booking':\n",
    "df2['first_active~first_booking'] = (df2['date_first_booking'] - df2['first_active']).apply(lambda x: x.days)\n",
    "\n",
    "\n",
    "# Features derived from other date features:\n",
    "\n",
    "# ================================ First active ================================\n",
    "\n",
    "## year - first active:\n",
    "df2['year_first_active'] = df2['first_active'].dt.year\n",
    "\n",
    "## month - first active:\n",
    "df2['month_first_active'] = df2['first_active'].dt.month\n",
    "\n",
    "## week of year - first active:\n",
    "df2['week_of_year_first_active'] = df2['first_active'].dt.weekofyear\n",
    "\n",
    "## day of week - first active\n",
    "df2['day_of_week_first_active'] = df2['first_active'].dt.dayofweek\n",
    "\n",
    "## day - first active:\n",
    "df2['day_first_active'] = df2['first_active'].dt.day\n",
    "\n",
    "\n",
    "# ================================ First booking ================================\n",
    "\n",
    "\n",
    "df2['year_first_booking'] = df2['date_first_booking'].dt.year\n",
    "\n",
    "## month - first booking:\n",
    "df2['month_first_booking'] = df2['date_first_booking'].dt.month\n",
    "\n",
    "## week of year - first booking:\n",
    "df2['week_of_year_first_booking'] = df2['date_first_booking'].dt.weekofyear\n",
    "\n",
    "## day of week - first booking\n",
    "df2['day_of_week_first_booking'] = df2['date_first_booking'].dt.dayofweek\n",
    "\n",
    "## day - first booking:\n",
    "df2['day_first_booking'] = df2['date_first_booking'].dt.day\n",
    "\n",
    "\n",
    "\n",
    "# ================================ Account created ================================\n",
    "\n",
    "\n",
    "df2['year_account_created'] = df2['date_account_created'].dt.year\n",
    "\n",
    "## month - first booking:\n",
    "df2['month_account_created'] = df2['date_account_created'].dt.month\n",
    "\n",
    "## week of year - first booking:\n",
    "df2['week_of_year_account_created'] = df2['date_account_created'].dt.weekofyear\n",
    "\n",
    "## day of week - first booking\n",
    "df2['day_of_week_account_created'] = df2['date_account_created'].dt.dayofweek\n",
    "\n",
    "## day - first booking:\n",
    "df2['day_account_created'] = df2['date_account_created'].dt.day"
   ]
  },
  {
   "cell_type": "code",
   "execution_count": 49,
   "id": "Aijp18mMal_f",
   "metadata": {
    "ExecuteTime": {
     "end_time": "2022-03-21T15:49:05.840220Z",
     "start_time": "2022-03-21T15:49:05.800946Z"
    },
    "colab": {
     "base_uri": "https://localhost:8080/",
     "height": 305
    },
    "executionInfo": {
     "elapsed": 517,
     "status": "ok",
     "timestamp": 1647875820880,
     "user": {
      "displayName": "Renan Pacheco",
      "photoUrl": "https://lh3.googleusercontent.com/a-/AOh14GiRv7UuC3atWqKJu9tdNt8L6TW4viUyBcgTc6e1sw=s64",
      "userId": "12718092000337794607"
     },
     "user_tz": 180
    },
    "hidden": true,
    "id": "Aijp18mMal_f",
    "outputId": "ec0c84c0-d1f9-40ba-bd55-0d6ea3054ced"
   },
   "outputs": [
    {
     "data": {
      "text/html": [
       "<div>\n",
       "<style scoped>\n",
       "    .dataframe tbody tr th:only-of-type {\n",
       "        vertical-align: middle;\n",
       "    }\n",
       "\n",
       "    .dataframe tbody tr th {\n",
       "        vertical-align: top;\n",
       "    }\n",
       "\n",
       "    .dataframe thead th {\n",
       "        text-align: right;\n",
       "    }\n",
       "</style>\n",
       "<table border=\"1\" class=\"dataframe\">\n",
       "  <thead>\n",
       "    <tr style=\"text-align: right;\">\n",
       "      <th></th>\n",
       "      <th>id</th>\n",
       "      <th>date_account_created</th>\n",
       "      <th>timestamp_first_active</th>\n",
       "      <th>date_first_booking</th>\n",
       "      <th>gender</th>\n",
       "      <th>age</th>\n",
       "      <th>signup_method</th>\n",
       "      <th>signup_flow</th>\n",
       "      <th>language</th>\n",
       "      <th>affiliate_channel</th>\n",
       "      <th>affiliate_provider</th>\n",
       "      <th>first_affiliate_tracked</th>\n",
       "      <th>signup_app</th>\n",
       "      <th>first_device_type</th>\n",
       "      <th>first_browser</th>\n",
       "      <th>country_destination</th>\n",
       "      <th>first_active</th>\n",
       "      <th>first_active~account_creation</th>\n",
       "      <th>account_created~first_booking</th>\n",
       "      <th>first_active~first_booking</th>\n",
       "      <th>year_first_active</th>\n",
       "      <th>month_first_active</th>\n",
       "      <th>week_of_year_first_active</th>\n",
       "      <th>day_of_week_first_active</th>\n",
       "      <th>day_first_active</th>\n",
       "      <th>year_first_booking</th>\n",
       "      <th>month_first_booking</th>\n",
       "      <th>week_of_year_first_booking</th>\n",
       "      <th>day_of_week_first_booking</th>\n",
       "      <th>day_first_booking</th>\n",
       "      <th>year_account_created</th>\n",
       "      <th>month_account_created</th>\n",
       "      <th>week_of_year_account_created</th>\n",
       "      <th>day_of_week_account_created</th>\n",
       "      <th>day_account_created</th>\n",
       "    </tr>\n",
       "  </thead>\n",
       "  <tbody>\n",
       "    <tr>\n",
       "      <th>0</th>\n",
       "      <td>gxn3p5htnn</td>\n",
       "      <td>2010-06-28</td>\n",
       "      <td>2009-03-19 04:32:55</td>\n",
       "      <td>2015-06-29</td>\n",
       "      <td>-unknown-</td>\n",
       "      <td>50</td>\n",
       "      <td>facebook</td>\n",
       "      <td>0</td>\n",
       "      <td>en</td>\n",
       "      <td>direct</td>\n",
       "      <td>direct</td>\n",
       "      <td>untracked</td>\n",
       "      <td>Web</td>\n",
       "      <td>Mac Desktop</td>\n",
       "      <td>Chrome</td>\n",
       "      <td>NDF</td>\n",
       "      <td>2009-03-19</td>\n",
       "      <td>466</td>\n",
       "      <td>1827</td>\n",
       "      <td>2293</td>\n",
       "      <td>2009</td>\n",
       "      <td>3</td>\n",
       "      <td>12</td>\n",
       "      <td>3</td>\n",
       "      <td>19</td>\n",
       "      <td>2015</td>\n",
       "      <td>6</td>\n",
       "      <td>27</td>\n",
       "      <td>0</td>\n",
       "      <td>29</td>\n",
       "      <td>2010</td>\n",
       "      <td>6</td>\n",
       "      <td>26</td>\n",
       "      <td>0</td>\n",
       "      <td>28</td>\n",
       "    </tr>\n",
       "    <tr>\n",
       "      <th>1</th>\n",
       "      <td>820tgsjxq7</td>\n",
       "      <td>2011-05-25</td>\n",
       "      <td>2009-05-23 17:48:09</td>\n",
       "      <td>2015-06-29</td>\n",
       "      <td>MALE</td>\n",
       "      <td>38</td>\n",
       "      <td>facebook</td>\n",
       "      <td>0</td>\n",
       "      <td>en</td>\n",
       "      <td>seo</td>\n",
       "      <td>google</td>\n",
       "      <td>untracked</td>\n",
       "      <td>Web</td>\n",
       "      <td>Mac Desktop</td>\n",
       "      <td>Chrome</td>\n",
       "      <td>NDF</td>\n",
       "      <td>2009-05-23</td>\n",
       "      <td>732</td>\n",
       "      <td>1496</td>\n",
       "      <td>2228</td>\n",
       "      <td>2009</td>\n",
       "      <td>5</td>\n",
       "      <td>21</td>\n",
       "      <td>5</td>\n",
       "      <td>23</td>\n",
       "      <td>2015</td>\n",
       "      <td>6</td>\n",
       "      <td>27</td>\n",
       "      <td>0</td>\n",
       "      <td>29</td>\n",
       "      <td>2011</td>\n",
       "      <td>5</td>\n",
       "      <td>21</td>\n",
       "      <td>2</td>\n",
       "      <td>25</td>\n",
       "    </tr>\n",
       "    <tr>\n",
       "      <th>2</th>\n",
       "      <td>4ft3gnwmtx</td>\n",
       "      <td>2010-09-28</td>\n",
       "      <td>2009-06-09 23:12:47</td>\n",
       "      <td>2010-08-02</td>\n",
       "      <td>FEMALE</td>\n",
       "      <td>56</td>\n",
       "      <td>basic</td>\n",
       "      <td>3</td>\n",
       "      <td>en</td>\n",
       "      <td>direct</td>\n",
       "      <td>direct</td>\n",
       "      <td>untracked</td>\n",
       "      <td>Web</td>\n",
       "      <td>Windows Desktop</td>\n",
       "      <td>IE</td>\n",
       "      <td>US</td>\n",
       "      <td>2009-06-09</td>\n",
       "      <td>476</td>\n",
       "      <td>-57</td>\n",
       "      <td>419</td>\n",
       "      <td>2009</td>\n",
       "      <td>6</td>\n",
       "      <td>24</td>\n",
       "      <td>1</td>\n",
       "      <td>9</td>\n",
       "      <td>2010</td>\n",
       "      <td>8</td>\n",
       "      <td>31</td>\n",
       "      <td>0</td>\n",
       "      <td>2</td>\n",
       "      <td>2010</td>\n",
       "      <td>9</td>\n",
       "      <td>39</td>\n",
       "      <td>1</td>\n",
       "      <td>28</td>\n",
       "    </tr>\n",
       "    <tr>\n",
       "      <th>3</th>\n",
       "      <td>bjjt8pjhuk</td>\n",
       "      <td>2011-12-05</td>\n",
       "      <td>2009-10-31 06:01:29</td>\n",
       "      <td>2012-09-08</td>\n",
       "      <td>FEMALE</td>\n",
       "      <td>42</td>\n",
       "      <td>facebook</td>\n",
       "      <td>0</td>\n",
       "      <td>en</td>\n",
       "      <td>direct</td>\n",
       "      <td>direct</td>\n",
       "      <td>untracked</td>\n",
       "      <td>Web</td>\n",
       "      <td>Mac Desktop</td>\n",
       "      <td>Firefox</td>\n",
       "      <td>other</td>\n",
       "      <td>2009-10-31</td>\n",
       "      <td>765</td>\n",
       "      <td>278</td>\n",
       "      <td>1043</td>\n",
       "      <td>2009</td>\n",
       "      <td>10</td>\n",
       "      <td>44</td>\n",
       "      <td>5</td>\n",
       "      <td>31</td>\n",
       "      <td>2012</td>\n",
       "      <td>9</td>\n",
       "      <td>36</td>\n",
       "      <td>5</td>\n",
       "      <td>8</td>\n",
       "      <td>2011</td>\n",
       "      <td>12</td>\n",
       "      <td>49</td>\n",
       "      <td>0</td>\n",
       "      <td>5</td>\n",
       "    </tr>\n",
       "    <tr>\n",
       "      <th>4</th>\n",
       "      <td>87mebub9p4</td>\n",
       "      <td>2010-09-14</td>\n",
       "      <td>2009-12-08 06:11:05</td>\n",
       "      <td>2010-02-18</td>\n",
       "      <td>-unknown-</td>\n",
       "      <td>41</td>\n",
       "      <td>basic</td>\n",
       "      <td>0</td>\n",
       "      <td>en</td>\n",
       "      <td>direct</td>\n",
       "      <td>direct</td>\n",
       "      <td>untracked</td>\n",
       "      <td>Web</td>\n",
       "      <td>Mac Desktop</td>\n",
       "      <td>Chrome</td>\n",
       "      <td>US</td>\n",
       "      <td>2009-12-08</td>\n",
       "      <td>280</td>\n",
       "      <td>-208</td>\n",
       "      <td>72</td>\n",
       "      <td>2009</td>\n",
       "      <td>12</td>\n",
       "      <td>50</td>\n",
       "      <td>1</td>\n",
       "      <td>8</td>\n",
       "      <td>2010</td>\n",
       "      <td>2</td>\n",
       "      <td>7</td>\n",
       "      <td>3</td>\n",
       "      <td>18</td>\n",
       "      <td>2010</td>\n",
       "      <td>9</td>\n",
       "      <td>37</td>\n",
       "      <td>1</td>\n",
       "      <td>14</td>\n",
       "    </tr>\n",
       "  </tbody>\n",
       "</table>\n",
       "</div>"
      ],
      "text/plain": [
       "           id date_account_created timestamp_first_active date_first_booking     gender  age signup_method  signup_flow language affiliate_channel affiliate_provider first_affiliate_tracked signup_app first_device_type first_browser country_destination first_active  first_active~account_creation  account_created~first_booking  first_active~first_booking  year_first_active  month_first_active  week_of_year_first_active  day_of_week_first_active  day_first_active  year_first_booking  month_first_booking  week_of_year_first_booking  day_of_week_first_booking  day_first_booking  year_account_created  month_account_created  week_of_year_account_created  day_of_week_account_created  day_account_created\n",
       "0  gxn3p5htnn           2010-06-28    2009-03-19 04:32:55         2015-06-29  -unknown-   50      facebook            0       en            direct             direct               untracked        Web       Mac Desktop        Chrome                 NDF   2009-03-19                            466                           1827                        2293               2009                   3                         12                         3                19                2015                    6                          27                          0                 29                  2010                      6                            26                            0                   28\n",
       "1  820tgsjxq7           2011-05-25    2009-05-23 17:48:09         2015-06-29       MALE   38      facebook            0       en               seo             google               untracked        Web       Mac Desktop        Chrome                 NDF   2009-05-23                            732                           1496                        2228               2009                   5                         21                         5                23                2015                    6                          27                          0                 29                  2011                      5                            21                            2                   25\n",
       "2  4ft3gnwmtx           2010-09-28    2009-06-09 23:12:47         2010-08-02     FEMALE   56         basic            3       en            direct             direct               untracked        Web   Windows Desktop            IE                  US   2009-06-09                            476                            -57                         419               2009                   6                         24                         1                 9                2010                    8                          31                          0                  2                  2010                      9                            39                            1                   28\n",
       "3  bjjt8pjhuk           2011-12-05    2009-10-31 06:01:29         2012-09-08     FEMALE   42      facebook            0       en            direct             direct               untracked        Web       Mac Desktop       Firefox               other   2009-10-31                            765                            278                        1043               2009                  10                         44                         5                31                2012                    9                          36                          5                  8                  2011                     12                            49                            0                    5\n",
       "4  87mebub9p4           2010-09-14    2009-12-08 06:11:05         2010-02-18  -unknown-   41         basic            0       en            direct             direct               untracked        Web       Mac Desktop        Chrome                  US   2009-12-08                            280                           -208                          72               2009                  12                         50                         1                 8                2010                    2                           7                          3                 18                  2010                      9                            37                            1                   14"
      ]
     },
     "execution_count": 49,
     "metadata": {},
     "output_type": "execute_result"
    }
   ],
   "source": [
    "df2.head()"
   ]
  },
  {
   "cell_type": "code",
   "execution_count": null,
   "id": "rPK8gBlwDkG9",
   "metadata": {
    "ExecuteTime": {
     "start_time": "2022-03-21T15:45:16.728Z"
    },
    "colab": {
     "base_uri": "https://localhost:8080/"
    },
    "executionInfo": {
     "elapsed": 4,
     "status": "ok",
     "timestamp": 1647875884365,
     "user": {
      "displayName": "Renan Pacheco",
      "photoUrl": "https://lh3.googleusercontent.com/a-/AOh14GiRv7UuC3atWqKJu9tdNt8L6TW4viUyBcgTc6e1sw=s64",
      "userId": "12718092000337794607"
     },
     "user_tz": 180
    },
    "hidden": true,
    "id": "rPK8gBlwDkG9",
    "outputId": "0a8ac2ef-8067-4eb8-823e-85d3e6f11c0f"
   },
   "outputs": [],
   "source": [
    "df2.shape"
   ]
  },
  {
   "cell_type": "markdown",
   "id": "W5r9zSTmt_mQ",
   "metadata": {
    "hidden": true,
    "id": "W5r9zSTmt_mQ"
   },
   "source": [
    "### 2.1.2. Features related to ....."
   ]
  },
  {
   "cell_type": "markdown",
   "id": "LlkT-WklamE8",
   "metadata": {
    "hidden": true,
    "id": "LlkT-WklamE8"
   },
   "source": [
    "## 2.2. "
   ]
  },
  {
   "cell_type": "code",
   "execution_count": null,
   "id": "2WRDUQRzaqjd",
   "metadata": {
    "executionInfo": {
     "elapsed": 22,
     "status": "ok",
     "timestamp": 1647874353306,
     "user": {
      "displayName": "Renan Pacheco",
      "photoUrl": "https://lh3.googleusercontent.com/a-/AOh14GiRv7UuC3atWqKJu9tdNt8L6TW4viUyBcgTc6e1sw=s64",
      "userId": "12718092000337794607"
     },
     "user_tz": 180
    },
    "hidden": true,
    "id": "2WRDUQRzaqjd"
   },
   "outputs": [],
   "source": []
  },
  {
   "cell_type": "code",
   "execution_count": null,
   "id": "4DLjQ1iZamI-",
   "metadata": {
    "executionInfo": {
     "elapsed": 22,
     "status": "ok",
     "timestamp": 1647874353307,
     "user": {
      "displayName": "Renan Pacheco",
      "photoUrl": "https://lh3.googleusercontent.com/a-/AOh14GiRv7UuC3atWqKJu9tdNt8L6TW4viUyBcgTc6e1sw=s64",
      "userId": "12718092000337794607"
     },
     "user_tz": 180
    },
    "hidden": true,
    "id": "4DLjQ1iZamI-"
   },
   "outputs": [],
   "source": []
  },
  {
   "cell_type": "markdown",
   "id": "12ac874b",
   "metadata": {
    "heading_collapsed": true,
    "id": "12ac874b"
   },
   "source": [
    "# 3. Data Filtering and Cleansing"
   ]
  },
  {
   "cell_type": "code",
   "execution_count": null,
   "id": "1AQE4LlgA7LC",
   "metadata": {
    "ExecuteTime": {
     "start_time": "2022-03-21T15:45:16.744Z"
    },
    "executionInfo": {
     "elapsed": 412,
     "status": "ok",
     "timestamp": 1647875913754,
     "user": {
      "displayName": "Renan Pacheco",
      "photoUrl": "https://lh3.googleusercontent.com/a-/AOh14GiRv7UuC3atWqKJu9tdNt8L6TW4viUyBcgTc6e1sw=s64",
      "userId": "12718092000337794607"
     },
     "user_tz": 180
    },
    "hidden": true,
    "id": "1AQE4LlgA7LC"
   },
   "outputs": [],
   "source": [
    "df3 = df2.copy()"
   ]
  },
  {
   "cell_type": "code",
   "execution_count": null,
   "id": "6dW57_dHfO2k",
   "metadata": {
    "ExecuteTime": {
     "start_time": "2022-03-21T15:45:16.748Z"
    },
    "colab": {
     "base_uri": "https://localhost:8080/",
     "height": 305
    },
    "executionInfo": {
     "elapsed": 421,
     "status": "ok",
     "timestamp": 1647875916118,
     "user": {
      "displayName": "Renan Pacheco",
      "photoUrl": "https://lh3.googleusercontent.com/a-/AOh14GiRv7UuC3atWqKJu9tdNt8L6TW4viUyBcgTc6e1sw=s64",
      "userId": "12718092000337794607"
     },
     "user_tz": 180
    },
    "hidden": true,
    "id": "6dW57_dHfO2k",
    "outputId": "7a9726ab-e0be-4f52-f6d8-f58b9fbb62f9"
   },
   "outputs": [],
   "source": [
    "df3.head()"
   ]
  },
  {
   "cell_type": "markdown",
   "id": "e2f21ed6",
   "metadata": {
    "hidden": true,
    "id": "e2f21ed6"
   },
   "source": [
    "## 3.1 Filtering Rows"
   ]
  },
  {
   "cell_type": "markdown",
   "id": "4ezZTjn3A0Of",
   "metadata": {
    "hidden": true,
    "id": "4ezZTjn3A0Of"
   },
   "source": [
    "### 3.1.1. Analysing the 'age' feature"
   ]
  },
  {
   "cell_type": "markdown",
   "id": "HWSCRBZz1cP_",
   "metadata": {
    "hidden": true,
    "id": "HWSCRBZz1cP_"
   },
   "source": [
    "It is necessary to filter the ages, since there appears to exist \"outlying variables\" in the original dataset, i.e. ages way beyond what is considered to be normal:"
   ]
  },
  {
   "cell_type": "code",
   "execution_count": null,
   "id": "kV9uggG75VDp",
   "metadata": {
    "ExecuteTime": {
     "start_time": "2022-03-21T15:45:16.756Z"
    },
    "colab": {
     "base_uri": "https://localhost:8080/"
    },
    "executionInfo": {
     "elapsed": 401,
     "status": "ok",
     "timestamp": 1647876004366,
     "user": {
      "displayName": "Renan Pacheco",
      "photoUrl": "https://lh3.googleusercontent.com/a-/AOh14GiRv7UuC3atWqKJu9tdNt8L6TW4viUyBcgTc6e1sw=s64",
      "userId": "12718092000337794607"
     },
     "user_tz": 180
    },
    "hidden": true,
    "id": "kV9uggG75VDp",
    "outputId": "53724e63-5560-4fd7-ebce-e5f0f5a55b97"
   },
   "outputs": [],
   "source": [
    "df3['age'].max()"
   ]
  },
  {
   "cell_type": "code",
   "execution_count": null,
   "id": "AlNWePVw18z_",
   "metadata": {
    "ExecuteTime": {
     "start_time": "2022-03-21T15:45:16.760Z"
    },
    "colab": {
     "base_uri": "https://localhost:8080/",
     "height": 466
    },
    "executionInfo": {
     "elapsed": 1875,
     "status": "ok",
     "timestamp": 1647876007682,
     "user": {
      "displayName": "Renan Pacheco",
      "photoUrl": "https://lh3.googleusercontent.com/a-/AOh14GiRv7UuC3atWqKJu9tdNt8L6TW4viUyBcgTc6e1sw=s64",
      "userId": "12718092000337794607"
     },
     "user_tz": 180
    },
    "hidden": true,
    "id": "AlNWePVw18z_",
    "outputId": "168b53f6-06bf-4d9f-c377-a855fc0befaa"
   },
   "outputs": [],
   "source": [
    "sns.distplot(df3['age'])"
   ]
  },
  {
   "cell_type": "code",
   "execution_count": null,
   "id": "RHDAJFf7TXEx",
   "metadata": {
    "ExecuteTime": {
     "start_time": "2022-03-21T15:45:16.764Z"
    },
    "colab": {
     "base_uri": "https://localhost:8080/",
     "height": 483
    },
    "executionInfo": {
     "elapsed": 2754,
     "status": "ok",
     "timestamp": 1647876013324,
     "user": {
      "displayName": "Renan Pacheco",
      "photoUrl": "https://lh3.googleusercontent.com/a-/AOh14GiRv7UuC3atWqKJu9tdNt8L6TW4viUyBcgTc6e1sw=s64",
      "userId": "12718092000337794607"
     },
     "user_tz": 180
    },
    "hidden": true,
    "id": "RHDAJFf7TXEx",
    "outputId": "fcbe5408-3885-48b8-d060-a8327baaaa08"
   },
   "outputs": [],
   "source": [
    "plt.subplot(1, 2, 1)\n",
    "sns.distplot( df3[df3['age'] < 25]['age'], kde=True );\n",
    "\n",
    "plt.subplot(1, 2, 2)\n",
    "sns.distplot( df3[(df3['age'] > 60) & (df3['age'] < 90)]['age'], kde=True );"
   ]
  },
  {
   "cell_type": "code",
   "execution_count": null,
   "id": "n3sF5_laVLKN",
   "metadata": {
    "ExecuteTime": {
     "start_time": "2022-03-21T15:45:16.768Z"
    },
    "colab": {
     "base_uri": "https://localhost:8080/"
    },
    "executionInfo": {
     "elapsed": 343,
     "status": "ok",
     "timestamp": 1647876035130,
     "user": {
      "displayName": "Renan Pacheco",
      "photoUrl": "https://lh3.googleusercontent.com/a-/AOh14GiRv7UuC3atWqKJu9tdNt8L6TW4viUyBcgTc6e1sw=s64",
      "userId": "12718092000337794607"
     },
     "user_tz": 180
    },
    "hidden": true,
    "id": "n3sF5_laVLKN",
    "outputId": "7f97ba27-3161-436c-eef5-885cbf340a69"
   },
   "outputs": [],
   "source": [
    "aux = df1[df1['age'] > 80][['age', 'country_destination']].sort_values('age', ascending=True)\n",
    "\n",
    "aux.groupby('country_destination').size().sort_values() / len(aux)\n",
    "\n",
    "# aux.groupby('country_destination').sum()"
   ]
  },
  {
   "cell_type": "markdown",
   "id": "d9lmdD75XsC6",
   "metadata": {
    "hidden": true,
    "id": "d9lmdD75XsC6"
   },
   "source": [
    "### 3.1.2. Final filtering of rows"
   ]
  },
  {
   "cell_type": "code",
   "execution_count": null,
   "id": "eQQ8hBItX46T",
   "metadata": {
    "ExecuteTime": {
     "start_time": "2022-03-21T15:45:16.773Z"
    },
    "executionInfo": {
     "elapsed": 411,
     "status": "ok",
     "timestamp": 1647876048511,
     "user": {
      "displayName": "Renan Pacheco",
      "photoUrl": "https://lh3.googleusercontent.com/a-/AOh14GiRv7UuC3atWqKJu9tdNt8L6TW4viUyBcgTc6e1sw=s64",
      "userId": "12718092000337794607"
     },
     "user_tz": 180
    },
    "hidden": true,
    "id": "eQQ8hBItX46T"
   },
   "outputs": [],
   "source": [
    "# Filtering of rows\n",
    "\n",
    "## age: (15 < age < 120)\n",
    "## (Very few people are over 120 years old and thus can be disconsidered)\n",
    "df3 = df3[ (df3['age'] > 15) & (df3['age'] < 120)  ]\n",
    "\n",
    "## 'secs_elapsed':\n",
    "## (The variable must be != '0', since a null value is not possible for the website)\n",
    "# df_sessions = df_sessions[df_sessions['secs_elapsed'] > 0]"
   ]
  },
  {
   "cell_type": "markdown",
   "id": "e4e90dd9",
   "metadata": {
    "hidden": true,
    "id": "e4e90dd9"
   },
   "source": [
    "## 3.2 Columns Selection"
   ]
  },
  {
   "cell_type": "code",
   "execution_count": null,
   "id": "6a_0GRaNA3UE",
   "metadata": {
    "executionInfo": {
     "elapsed": 413,
     "status": "ok",
     "timestamp": 1647874356572,
     "user": {
      "displayName": "Renan Pacheco",
      "photoUrl": "https://lh3.googleusercontent.com/a-/AOh14GiRv7UuC3atWqKJu9tdNt8L6TW4viUyBcgTc6e1sw=s64",
      "userId": "12718092000337794607"
     },
     "user_tz": 180
    },
    "hidden": true,
    "id": "6a_0GRaNA3UE"
   },
   "outputs": [],
   "source": []
  },
  {
   "cell_type": "markdown",
   "id": "b8b18734",
   "metadata": {
    "heading_collapsed": true,
    "id": "b8b18734"
   },
   "source": [
    "# 4. Data Preparation"
   ]
  },
  {
   "cell_type": "code",
   "execution_count": null,
   "id": "w15HK2sC5sky",
   "metadata": {
    "ExecuteTime": {
     "start_time": "2022-03-21T15:45:16.783Z"
    },
    "colab": {
     "base_uri": "https://localhost:8080/"
    },
    "executionInfo": {
     "elapsed": 339,
     "status": "ok",
     "timestamp": 1647876066868,
     "user": {
      "displayName": "Renan Pacheco",
      "photoUrl": "https://lh3.googleusercontent.com/a-/AOh14GiRv7UuC3atWqKJu9tdNt8L6TW4viUyBcgTc6e1sw=s64",
      "userId": "12718092000337794607"
     },
     "user_tz": 180
    },
    "hidden": true,
    "id": "w15HK2sC5sky",
    "outputId": "770a4dca-fef3-41ba-f22b-712b3b6d1f4e"
   },
   "outputs": [],
   "source": [
    "df3.shape"
   ]
  },
  {
   "cell_type": "code",
   "execution_count": null,
   "id": "11062705",
   "metadata": {
    "ExecuteTime": {
     "start_time": "2022-03-21T15:45:16.787Z"
    },
    "colab": {
     "base_uri": "https://localhost:8080/"
    },
    "executionInfo": {
     "elapsed": 385,
     "status": "ok",
     "timestamp": 1647876075652,
     "user": {
      "displayName": "Renan Pacheco",
      "photoUrl": "https://lh3.googleusercontent.com/a-/AOh14GiRv7UuC3atWqKJu9tdNt8L6TW4viUyBcgTc6e1sw=s64",
      "userId": "12718092000337794607"
     },
     "user_tz": 180
    },
    "hidden": true,
    "id": "11062705",
    "outputId": "27c4e75b-a0f7-475c-eb32-8781bb1b6233"
   },
   "outputs": [],
   "source": [
    "df4 = df3.copy()\n",
    "\n",
    "df4.shape"
   ]
  },
  {
   "cell_type": "code",
   "execution_count": null,
   "id": "sOja90Fo33fU",
   "metadata": {
    "ExecuteTime": {
     "start_time": "2022-03-21T15:45:16.791Z"
    },
    "colab": {
     "base_uri": "https://localhost:8080/"
    },
    "executionInfo": {
     "elapsed": 988,
     "status": "ok",
     "timestamp": 1647876186712,
     "user": {
      "displayName": "Renan Pacheco",
      "photoUrl": "https://lh3.googleusercontent.com/a-/AOh14GiRv7UuC3atWqKJu9tdNt8L6TW4viUyBcgTc6e1sw=s64",
      "userId": "12718092000337794607"
     },
     "user_tz": 180
    },
    "hidden": true,
    "id": "sOja90Fo33fU",
    "outputId": "c7e703d4-d272-43f0-d7ca-13b95c1f7566"
   },
   "outputs": [],
   "source": [
    "# dummy variable:\n",
    "df4_dummy = pd.get_dummies( df4.drop( ['id', 'country_destination'], axis=1 ) )\n",
    "\n",
    "# Joining again 'id' and 'country_destination' with dummy variable:\n",
    "df4 = pd.concat( [ df4[['id', 'country_destination']], df4_dummy ], axis=1 )\n",
    "\n",
    "df4.shape"
   ]
  },
  {
   "cell_type": "markdown",
   "id": "bccc74c0",
   "metadata": {
    "heading_collapsed": true,
    "id": "bccc74c0"
   },
   "source": [
    "# 5. Feature Selection of Variables"
   ]
  },
  {
   "cell_type": "code",
   "execution_count": null,
   "id": "J6PIaOLd6PLW",
   "metadata": {
    "ExecuteTime": {
     "start_time": "2022-03-21T15:45:16.795Z"
    },
    "colab": {
     "base_uri": "https://localhost:8080/"
    },
    "executionInfo": {
     "elapsed": 408,
     "status": "ok",
     "timestamp": 1647876222181,
     "user": {
      "displayName": "Renan Pacheco",
      "photoUrl": "https://lh3.googleusercontent.com/a-/AOh14GiRv7UuC3atWqKJu9tdNt8L6TW4viUyBcgTc6e1sw=s64",
      "userId": "12718092000337794607"
     },
     "user_tz": 180
    },
    "hidden": true,
    "id": "J6PIaOLd6PLW",
    "outputId": "f907646c-7876-44cf-8a68-3033b06c73c2"
   },
   "outputs": [],
   "source": [
    "df5 = df4.copy()\n",
    "\n",
    "df5.shape"
   ]
  },
  {
   "cell_type": "code",
   "execution_count": null,
   "id": "8ef73f12",
   "metadata": {
    "ExecuteTime": {
     "start_time": "2022-03-21T15:45:16.799Z"
    },
    "executionInfo": {
     "elapsed": 411,
     "status": "ok",
     "timestamp": 1647876255463,
     "user": {
      "displayName": "Renan Pacheco",
      "photoUrl": "https://lh3.googleusercontent.com/a-/AOh14GiRv7UuC3atWqKJu9tdNt8L6TW4viUyBcgTc6e1sw=s64",
      "userId": "12718092000337794607"
     },
     "user_tz": 180
    },
    "hidden": true,
    "id": "8ef73f12"
   },
   "outputs": [],
   "source": [
    "# Dropping original dates due to lack of further information that could be used by the model:\n",
    "cols_drop = [ 'date_account_created', 'timestamp_first_active', 'date_first_booking', 'first_active' ]\n",
    "\n",
    "df5 = df4.drop( cols_drop, axis = 1 )"
   ]
  },
  {
   "cell_type": "code",
   "execution_count": null,
   "id": "oFnCqoWdX4CX",
   "metadata": {
    "ExecuteTime": {
     "start_time": "2022-03-21T15:45:16.803Z"
    },
    "colab": {
     "base_uri": "https://localhost:8080/",
     "height": 288
    },
    "executionInfo": {
     "elapsed": 351,
     "status": "ok",
     "timestamp": 1647876263899,
     "user": {
      "displayName": "Renan Pacheco",
      "photoUrl": "https://lh3.googleusercontent.com/a-/AOh14GiRv7UuC3atWqKJu9tdNt8L6TW4viUyBcgTc6e1sw=s64",
      "userId": "12718092000337794607"
     },
     "user_tz": 180
    },
    "hidden": true,
    "id": "oFnCqoWdX4CX",
    "outputId": "d58b7f62-6f4c-4dcf-fbc1-079f9dbf31f7"
   },
   "outputs": [],
   "source": [
    "df5.head()"
   ]
  },
  {
   "cell_type": "code",
   "execution_count": null,
   "id": "La8F3DvNFIhb",
   "metadata": {
    "ExecuteTime": {
     "start_time": "2022-03-21T15:45:16.806Z"
    },
    "hidden": true,
    "id": "La8F3DvNFIhb"
   },
   "outputs": [],
   "source": [
    "df5.dtypes"
   ]
  },
  {
   "cell_type": "markdown",
   "id": "dSBBsGwFBXU_",
   "metadata": {
    "heading_collapsed": true,
    "id": "dSBBsGwFBXU_"
   },
   "source": [
    "# 6.0 Machine Learning Model"
   ]
  },
  {
   "cell_type": "code",
   "execution_count": null,
   "id": "BTRPLPs58emB",
   "metadata": {
    "ExecuteTime": {
     "start_time": "2022-03-21T15:45:16.811Z"
    },
    "executionInfo": {
     "elapsed": 339,
     "status": "ok",
     "timestamp": 1647876362599,
     "user": {
      "displayName": "Renan Pacheco",
      "photoUrl": "https://lh3.googleusercontent.com/a-/AOh14GiRv7UuC3atWqKJu9tdNt8L6TW4viUyBcgTc6e1sw=s64",
      "userId": "12718092000337794607"
     },
     "user_tz": 180
    },
    "hidden": true,
    "id": "BTRPLPs58emB"
   },
   "outputs": [],
   "source": [
    "df6 = df5.copy()"
   ]
  },
  {
   "cell_type": "code",
   "execution_count": null,
   "id": "T2bUuF1MavOm",
   "metadata": {
    "ExecuteTime": {
     "start_time": "2022-03-21T15:45:16.815Z"
    },
    "colab": {
     "base_uri": "https://localhost:8080/"
    },
    "executionInfo": {
     "elapsed": 410,
     "status": "ok",
     "timestamp": 1647876366768,
     "user": {
      "displayName": "Renan Pacheco",
      "photoUrl": "https://lh3.googleusercontent.com/a-/AOh14GiRv7UuC3atWqKJu9tdNt8L6TW4viUyBcgTc6e1sw=s64",
      "userId": "12718092000337794607"
     },
     "user_tz": 180
    },
    "hidden": true,
    "id": "T2bUuF1MavOm",
    "outputId": "7bd9c554-bf5f-4ba0-ca49-fc6032d3b0b9"
   },
   "outputs": [],
   "source": [
    "print('Shape for df_users: {}'.format(df_users.shape))\n",
    "print('Shape for df1: {}'.format(df1.shape))\n",
    "print('Shape for df2: {}'.format(df2.shape))\n",
    "print('Shape for df3: {}'.format(df3.shape))\n",
    "print('Shape for df4: {}'.format(df4.shape))\n",
    "print('Shape for df5: {}'.format(df5.shape))\n"
   ]
  },
  {
   "cell_type": "code",
   "execution_count": null,
   "id": "ly_COQAEC6Fs",
   "metadata": {
    "ExecuteTime": {
     "start_time": "2022-03-21T15:45:16.819Z"
    },
    "colab": {
     "base_uri": "https://localhost:8080/"
    },
    "executionInfo": {
     "elapsed": 6,
     "status": "ok",
     "timestamp": 1647876384895,
     "user": {
      "displayName": "Renan Pacheco",
      "photoUrl": "https://lh3.googleusercontent.com/a-/AOh14GiRv7UuC3atWqKJu9tdNt8L6TW4viUyBcgTc6e1sw=s64",
      "userId": "12718092000337794607"
     },
     "user_tz": 180
    },
    "hidden": true,
    "id": "ly_COQAEC6Fs",
    "outputId": "282c1672-18d5-47ce-8e2a-882321228a46"
   },
   "outputs": [],
   "source": [
    "X = df5.drop( 'country_destination', axis=1 )\n",
    "print(X.shape)\n",
    "\n",
    "y = df5['country_destination'].copy()\n",
    "print(y.shape)"
   ]
  },
  {
   "cell_type": "code",
   "execution_count": null,
   "id": "tnJYAKuhBfc7",
   "metadata": {
    "ExecuteTime": {
     "start_time": "2022-03-21T15:45:16.823Z"
    },
    "executionInfo": {
     "elapsed": 474,
     "status": "ok",
     "timestamp": 1647876390935,
     "user": {
      "displayName": "Renan Pacheco",
      "photoUrl": "https://lh3.googleusercontent.com/a-/AOh14GiRv7UuC3atWqKJu9tdNt8L6TW4viUyBcgTc6e1sw=s64",
      "userId": "12718092000337794607"
     },
     "user_tz": 180
    },
    "hidden": true,
    "id": "tnJYAKuhBfc7"
   },
   "outputs": [],
   "source": [
    "# Split of prepared dataset into training and test datasets:\n",
    "X_train, X_test, y_train, y_test = ms.train_test_split( X, y, test_size=0.2, random_state=32 )"
   ]
  },
  {
   "cell_type": "code",
   "execution_count": null,
   "id": "E2OAFuHNKnp8",
   "metadata": {
    "ExecuteTime": {
     "start_time": "2022-03-21T15:45:16.826Z"
    },
    "colab": {
     "base_uri": "https://localhost:8080/"
    },
    "executionInfo": {
     "elapsed": 512,
     "status": "ok",
     "timestamp": 1647876414691,
     "user": {
      "displayName": "Renan Pacheco",
      "photoUrl": "https://lh3.googleusercontent.com/a-/AOh14GiRv7UuC3atWqKJu9tdNt8L6TW4viUyBcgTc6e1sw=s64",
      "userId": "12718092000337794607"
     },
     "user_tz": 180
    },
    "hidden": true,
    "id": "E2OAFuHNKnp8",
    "outputId": "e5852a04-27af-45a7-daf0-8f903afeb63c"
   },
   "outputs": [],
   "source": [
    "x_train = X_train.drop( 'id', axis=1 )\n",
    "x_test = X_test.drop( 'id', axis=1 )\n",
    "\n",
    "print( 'Shape for training set: {}'.format( x_train.shape ) )\n",
    "print( 'Shape for test set: {}'.format( x_test.shape ) )"
   ]
  },
  {
   "cell_type": "code",
   "execution_count": null,
   "id": "76lAnV-S9JIt",
   "metadata": {
    "ExecuteTime": {
     "end_time": "2022-03-21T15:44:47.254451Z",
     "start_time": "2022-03-21T15:44:47.254423Z"
    },
    "colab": {
     "base_uri": "https://localhost:8080/",
     "height": 288
    },
    "executionInfo": {
     "elapsed": 430,
     "status": "ok",
     "timestamp": 1647876756315,
     "user": {
      "displayName": "Renan Pacheco",
      "photoUrl": "https://lh3.googleusercontent.com/a-/AOh14GiRv7UuC3atWqKJu9tdNt8L6TW4viUyBcgTc6e1sw=s64",
      "userId": "12718092000337794607"
     },
     "user_tz": 180
    },
    "hidden": true,
    "id": "76lAnV-S9JIt",
    "outputId": "51ae9046-8e9f-484c-fb41-4da8933a03bf"
   },
   "outputs": [],
   "source": [
    "x_train.head()"
   ]
  },
  {
   "cell_type": "markdown",
   "id": "tuxtW0B__K0O",
   "metadata": {
    "hidden": true,
    "id": "tuxtW0B__K0O"
   },
   "source": [
    "## 6.1. Baseline Model"
   ]
  },
  {
   "cell_type": "markdown",
   "id": "ijuLV6hXcttb",
   "metadata": {
    "hidden": true,
    "id": "ijuLV6hXcttb"
   },
   "source": [
    "### 6.1.1. Building the baseline"
   ]
  },
  {
   "cell_type": "code",
   "execution_count": null,
   "id": "jvDqN-AyEYJe",
   "metadata": {
    "ExecuteTime": {
     "end_time": "2022-03-21T15:44:47.257382Z",
     "start_time": "2022-03-21T15:44:47.257355Z"
    },
    "colab": {
     "base_uri": "https://localhost:8080/"
    },
    "executionInfo": {
     "elapsed": 449,
     "status": "ok",
     "timestamp": 1647876814766,
     "user": {
      "displayName": "Renan Pacheco",
      "photoUrl": "https://lh3.googleusercontent.com/a-/AOh14GiRv7UuC3atWqKJu9tdNt8L6TW4viUyBcgTc6e1sw=s64",
      "userId": "12718092000337794607"
     },
     "user_tz": 180
    },
    "hidden": true,
    "id": "jvDqN-AyEYJe",
    "outputId": "e2a95727-36ea-4a70-8eb7-f457c12bb13b"
   },
   "outputs": [],
   "source": [
    "df1['country_destination'].value_counts(normalize=True).sort_index().tolist()"
   ]
  },
  {
   "cell_type": "code",
   "execution_count": null,
   "id": "jb62xjWx_LAK",
   "metadata": {
    "ExecuteTime": {
     "end_time": "2022-03-21T15:44:47.259550Z",
     "start_time": "2022-03-21T15:44:47.259524Z"
    },
    "executionInfo": {
     "elapsed": 413,
     "status": "ok",
     "timestamp": 1647876833401,
     "user": {
      "displayName": "Renan Pacheco",
      "photoUrl": "https://lh3.googleusercontent.com/a-/AOh14GiRv7UuC3atWqKJu9tdNt8L6TW4viUyBcgTc6e1sw=s64",
      "userId": "12718092000337794607"
     },
     "user_tz": 180
    },
    "hidden": true,
    "id": "jb62xjWx_LAK"
   },
   "outputs": [],
   "source": [
    "# For a regression analysis, the baseline model is the average of the data. For this particular case in which\n",
    "# the problem is based on a classification analysis, the baseline model must be one that *randomly chooses the\n",
    "# baseline prediction*:\n",
    "\n",
    "# (https://docs.python.org/3/library/random.html)\n",
    "\n",
    "country_destination_list = df1['country_destination'].drop_duplicates().sort_values().tolist()\n",
    "\n",
    "k_num = y_test.shape[0]\n",
    "\n",
    "country_destination_weights = df1['country_destination'].value_counts(normalize=True).sort_index().tolist()\n",
    "\n",
    "yhat_random = random.choices(population=country_destination_list,\n",
    "                             weights=country_destination_weights, \n",
    "                             k=k_num)\n"
   ]
  },
  {
   "cell_type": "markdown",
   "id": "u5dw0OLXCAWB",
   "metadata": {
    "hidden": true,
    "id": "u5dw0OLXCAWB"
   },
   "source": [
    "### 6.1.2. Evaluation of baseline model performance"
   ]
  },
  {
   "cell_type": "code",
   "execution_count": null,
   "id": "T9v8rG5dAdqb",
   "metadata": {
    "ExecuteTime": {
     "end_time": "2022-03-21T15:44:47.261647Z",
     "start_time": "2022-03-21T15:44:47.261622Z"
    },
    "colab": {
     "base_uri": "https://localhost:8080/"
    },
    "executionInfo": {
     "elapsed": 322,
     "status": "ok",
     "timestamp": 1647876852463,
     "user": {
      "displayName": "Renan Pacheco",
      "photoUrl": "https://lh3.googleusercontent.com/a-/AOh14GiRv7UuC3atWqKJu9tdNt8L6TW4viUyBcgTc6e1sw=s64",
      "userId": "12718092000337794607"
     },
     "user_tz": 180
    },
    "hidden": true,
    "id": "T9v8rG5dAdqb",
    "outputId": "c19155c8-d914-42dc-b0f5-9808601ede6c"
   },
   "outputs": [],
   "source": [
    "# Accuracy\n",
    "accur_random = m.accuracy_score( y_test, yhat_random )\n",
    "print( 'Accuracy from model: {}%'.format( accur_random*100 ) )"
   ]
  },
  {
   "cell_type": "code",
   "execution_count": null,
   "id": "jhVDyf8-FiE7",
   "metadata": {
    "ExecuteTime": {
     "end_time": "2022-03-21T15:44:47.263834Z",
     "start_time": "2022-03-21T15:44:47.263807Z"
    },
    "colab": {
     "base_uri": "https://localhost:8080/",
     "height": 689
    },
    "executionInfo": {
     "elapsed": 1768,
     "status": "ok",
     "timestamp": 1647876860743,
     "user": {
      "displayName": "Renan Pacheco",
      "photoUrl": "https://lh3.googleusercontent.com/a-/AOh14GiRv7UuC3atWqKJu9tdNt8L6TW4viUyBcgTc6e1sw=s64",
      "userId": "12718092000337794607"
     },
     "user_tz": 180
    },
    "hidden": true,
    "id": "jhVDyf8-FiE7",
    "outputId": "eadb6974-4083-487c-a4a1-d9f99f1a1358"
   },
   "outputs": [],
   "source": [
    "# Confusion matrix\n",
    "mt.plot_confusion_matrix( y_test, yhat_random, normalize=False, figsize=(12, 12) );"
   ]
  },
  {
   "cell_type": "code",
   "execution_count": null,
   "id": "4Yj8HQiaFieO",
   "metadata": {
    "ExecuteTime": {
     "end_time": "2022-03-21T15:44:47.265659Z",
     "start_time": "2022-03-21T15:44:47.265636Z"
    },
    "colab": {
     "base_uri": "https://localhost:8080/"
    },
    "executionInfo": {
     "elapsed": 417,
     "status": "ok",
     "timestamp": 1647876872115,
     "user": {
      "displayName": "Renan Pacheco",
      "photoUrl": "https://lh3.googleusercontent.com/a-/AOh14GiRv7UuC3atWqKJu9tdNt8L6TW4viUyBcgTc6e1sw=s64",
      "userId": "12718092000337794607"
     },
     "user_tz": 180
    },
    "hidden": true,
    "id": "4Yj8HQiaFieO",
    "outputId": "75466384-af4f-4652-c8ef-cae9f1d002e3"
   },
   "outputs": [],
   "source": [
    "# Balanced Accuracy\n",
    "balanced_accur_random = m.balanced_accuracy_score(y_test, yhat_random)\n",
    "print( '\\nBalanced accuracy for NN: {}%\\n'.format(balanced_accur_random*100) )"
   ]
  },
  {
   "cell_type": "code",
   "execution_count": null,
   "id": "ER4zhABBFini",
   "metadata": {
    "ExecuteTime": {
     "end_time": "2022-03-21T15:44:47.268124Z",
     "start_time": "2022-03-21T15:44:47.268100Z"
    },
    "colab": {
     "base_uri": "https://localhost:8080/"
    },
    "executionInfo": {
     "elapsed": 1035,
     "status": "ok",
     "timestamp": 1647876882364,
     "user": {
      "displayName": "Renan Pacheco",
      "photoUrl": "https://lh3.googleusercontent.com/a-/AOh14GiRv7UuC3atWqKJu9tdNt8L6TW4viUyBcgTc6e1sw=s64",
      "userId": "12718092000337794607"
     },
     "user_tz": 180
    },
    "hidden": true,
    "id": "ER4zhABBFini",
    "outputId": "c124fe57-445e-44af-eaf1-4ea11fd488aa"
   },
   "outputs": [],
   "source": [
    "# Classification Report:\n",
    "print( m.classification_report(y_test, yhat_random) )"
   ]
  },
  {
   "cell_type": "code",
   "execution_count": null,
   "id": "rTeHfqUhFir7",
   "metadata": {
    "ExecuteTime": {
     "end_time": "2022-03-21T15:44:47.270072Z",
     "start_time": "2022-03-21T15:44:47.270046Z"
    },
    "colab": {
     "base_uri": "https://localhost:8080/"
    },
    "executionInfo": {
     "elapsed": 410,
     "status": "ok",
     "timestamp": 1647876915116,
     "user": {
      "displayName": "Renan Pacheco",
      "photoUrl": "https://lh3.googleusercontent.com/a-/AOh14GiRv7UuC3atWqKJu9tdNt8L6TW4viUyBcgTc6e1sw=s64",
      "userId": "12718092000337794607"
     },
     "user_tz": 180
    },
    "hidden": true,
    "id": "rTeHfqUhFir7",
    "outputId": "8844adf7-64db-4d06-ccdb-df7ca1384d97"
   },
   "outputs": [],
   "source": [
    "# Kappa Metrics:\n",
    "kappa_random = m.cohen_kappa_score(y_test, yhat_random)\n",
    "print( '\\nKappa Score for NN: {}%'.format(kappa_random*100) )"
   ]
  },
  {
   "cell_type": "markdown",
   "id": "Bxt0X_0RKnPr",
   "metadata": {
    "hidden": true,
    "id": "Bxt0X_0RKnPr"
   },
   "source": [
    "## 6.2. Transformation of categorical variables"
   ]
  },
  {
   "cell_type": "code",
   "execution_count": null,
   "id": "TzAQ-_1IK69_",
   "metadata": {
    "ExecuteTime": {
     "end_time": "2022-03-21T15:44:47.274325Z",
     "start_time": "2022-03-21T15:44:47.274294Z"
    },
    "executionInfo": {
     "elapsed": 4,
     "status": "ok",
     "timestamp": 1647876937676,
     "user": {
      "displayName": "Renan Pacheco",
      "photoUrl": "https://lh3.googleusercontent.com/a-/AOh14GiRv7UuC3atWqKJu9tdNt8L6TW4viUyBcgTc6e1sw=s64",
      "userId": "12718092000337794607"
     },
     "user_tz": 180
    },
    "hidden": true,
    "id": "TzAQ-_1IK69_"
   },
   "outputs": [],
   "source": [
    "ohe = pp.OneHotEncoder()\n",
    "\n",
    "# While transforming the categorical attributes (i.e. y_train) by using the One Hot Encoding transformation method, one needs\n",
    "# to perform it within the Neural Network (NN):\n",
    "y_train_nn = ohe.fit_transform( y_train.values.reshape( -1, 1 ) ).toarray()"
   ]
  },
  {
   "cell_type": "code",
   "execution_count": null,
   "id": "OEWux9Oa2Cej",
   "metadata": {
    "ExecuteTime": {
     "end_time": "2022-03-21T15:44:47.276483Z",
     "start_time": "2022-03-21T15:44:47.276456Z"
    },
    "colab": {
     "base_uri": "https://localhost:8080/"
    },
    "executionInfo": {
     "elapsed": 611,
     "status": "ok",
     "timestamp": 1647876940105,
     "user": {
      "displayName": "Renan Pacheco",
      "photoUrl": "https://lh3.googleusercontent.com/a-/AOh14GiRv7UuC3atWqKJu9tdNt8L6TW4viUyBcgTc6e1sw=s64",
      "userId": "12718092000337794607"
     },
     "user_tz": 180
    },
    "hidden": true,
    "id": "OEWux9Oa2Cej",
    "outputId": "8d96b896-6788-4375-9542-8af145ec8618"
   },
   "outputs": [],
   "source": [
    "y_train_nn"
   ]
  },
  {
   "cell_type": "markdown",
   "id": "T61EDkNrcj8D",
   "metadata": {
    "hidden": true,
    "id": "T61EDkNrcj8D"
   },
   "source": [
    "### 6.1.2. Data dimensions for the constructed datasets (Report)"
   ]
  },
  {
   "cell_type": "code",
   "execution_count": null,
   "id": "05yb3V42cEjq",
   "metadata": {
    "ExecuteTime": {
     "start_time": "2022-03-21T15:46:17.518Z"
    },
    "colab": {
     "base_uri": "https://localhost:8080/"
    },
    "executionInfo": {
     "elapsed": 364,
     "status": "ok",
     "timestamp": 1647876943798,
     "user": {
      "displayName": "Renan Pacheco",
      "photoUrl": "https://lh3.googleusercontent.com/a-/AOh14GiRv7UuC3atWqKJu9tdNt8L6TW4viUyBcgTc6e1sw=s64",
      "userId": "12718092000337794607"
     },
     "user_tz": 180
    },
    "hidden": true,
    "id": "05yb3V42cEjq",
    "outputId": "9fe1f94c-a9af-4624-a689-dbe676d1b01f"
   },
   "outputs": [],
   "source": [
    "print(X_train.shape)\n",
    "print(X_test.shape)\n",
    "print(y_train.shape)\n",
    "print(y_test.shape)\n",
    "\n",
    "print('\\n')\n",
    "print(y_train_nn.shape)\n",
    "\n",
    "# Analysing the datasets to be used in the NN:\n",
    "print('\\n')\n",
    "print('x_train:')\n",
    "print(x_train.shape)\n",
    "print('\\ny_train for NN:')\n",
    "print(y_train_nn.shape)"
   ]
  },
  {
   "cell_type": "markdown",
   "id": "z9KYIwkGDuun",
   "metadata": {
    "hidden": true,
    "id": "z9KYIwkGDuun"
   },
   "source": [
    "## 6.3. Building up the Neural Network - NN MLP"
   ]
  },
  {
   "cell_type": "code",
   "execution_count": null,
   "id": "R0E0oEPHIAFp",
   "metadata": {
    "ExecuteTime": {
     "end_time": "2022-03-21T15:44:47.280623Z",
     "start_time": "2022-03-21T15:44:47.280593Z"
    },
    "colab": {
     "base_uri": "https://localhost:8080/"
    },
    "executionInfo": {
     "elapsed": 520,
     "status": "ok",
     "timestamp": 1647877038105,
     "user": {
      "displayName": "Renan Pacheco",
      "photoUrl": "https://lh3.googleusercontent.com/a-/AOh14GiRv7UuC3atWqKJu9tdNt8L6TW4viUyBcgTc6e1sw=s64",
      "userId": "12718092000337794607"
     },
     "user_tz": 180
    },
    "hidden": true,
    "id": "R0E0oEPHIAFp",
    "outputId": "881be240-fd1d-4aab-9d52-b6d23b9f0031"
   },
   "outputs": [],
   "source": [
    "x_train.shape"
   ]
  },
  {
   "cell_type": "code",
   "execution_count": null,
   "id": "qBjLgwt4FUQc",
   "metadata": {
    "ExecuteTime": {
     "end_time": "2022-03-21T15:44:47.283083Z",
     "start_time": "2022-03-21T15:44:47.283053Z"
    },
    "colab": {
     "base_uri": "https://localhost:8080/"
    },
    "hidden": true,
    "id": "qBjLgwt4FUQc",
    "outputId": "b7231edb-4d0b-43dc-a8c8-6a78cbd90498"
   },
   "outputs": [],
   "source": [
    "# Model definition:\n",
    "model = ml.Sequential()\n",
    "\n",
    "# First layer of neural network:\n",
    "model.add( l.Dense( 256, input_dim=x_train.shape[1], activation='relu' ) ) #The binary number of neurons must always exceed\n",
    "                                                                           #the amount of categorical attributes within 'x_train'.\n",
    "\n",
    "# Second or exit layer for neural network:\n",
    "model.add( l.Dense( 12, activation='softmax' ) )\n",
    "\n",
    "# Compiling the model:\n",
    "model.compile( loss='categorical_crossentropy', optimizer='adam', metrics=['accuracy'] )\n",
    "\n",
    "# Training the model:\n",
    "model.fit( x_train, y_train_nn, epochs=100 )\n",
    "\n",
    "  \n"
   ]
  },
  {
   "cell_type": "markdown",
   "id": "b8afdd40",
   "metadata": {
    "heading_collapsed": true,
    "id": "b8afdd40"
   },
   "source": [
    "# 7. Neural Network (NN) Performance"
   ]
  },
  {
   "cell_type": "markdown",
   "id": "-y6BxoQxEmoS",
   "metadata": {
    "hidden": true,
    "id": "-y6BxoQxEmoS"
   },
   "source": [
    "## 7.1. Evaluating the prediction performance"
   ]
  },
  {
   "cell_type": "code",
   "execution_count": null,
   "id": "634115c8",
   "metadata": {
    "ExecuteTime": {
     "end_time": "2022-03-21T15:44:47.286134Z",
     "start_time": "2022-03-21T15:44:47.286081Z"
    },
    "hidden": true,
    "id": "634115c8"
   },
   "outputs": [],
   "source": [
    "# Evaluating the prediction after testing:\n",
    "pred_nn = model.predict( x_test )\n",
    "\n",
    "# Evaluating the inverted prediction:\n",
    "yhat_nn = ohe.inverse_transform( pred_nn )\n",
    "\n",
    "# Prediction prepare:\n",
    "y_test_nn = y_test.to_numpy()\n",
    "\n",
    "yhat_nn = yhat_nn.reshape( 1, -1 )[0]"
   ]
  },
  {
   "cell_type": "markdown",
   "id": "49d15b26",
   "metadata": {
    "hidden": true,
    "id": "49d15b26"
   },
   "source": [
    "## 7.2. Post-Evaluation of Metrics"
   ]
  },
  {
   "cell_type": "code",
   "execution_count": null,
   "id": "zKRaBMExW3JX",
   "metadata": {
    "ExecuteTime": {
     "end_time": "2022-03-21T15:44:47.288991Z",
     "start_time": "2022-03-21T15:44:47.288952Z"
    },
    "hidden": true,
    "id": "zKRaBMExW3JX"
   },
   "outputs": [],
   "source": [
    "# Accuracy\n",
    "accur_nn = m.accuracy_score( y_test_nn, yhat_nn )\n",
    "\n",
    "print( 'Accuracy from model: {}%'.format( accur_nn*100 ) )"
   ]
  },
  {
   "cell_type": "code",
   "execution_count": null,
   "id": "zaqh5E05W3Q1",
   "metadata": {
    "ExecuteTime": {
     "end_time": "2022-03-21T15:44:47.293413Z",
     "start_time": "2022-03-21T15:44:47.293373Z"
    },
    "hidden": true,
    "id": "zaqh5E05W3Q1"
   },
   "outputs": [],
   "source": [
    "# Confusion matrix\n",
    "mt.plot_confusion_matrix( y_test_nn, yhat_nn, normalize=False, figsize=(12, 12) );"
   ]
  },
  {
   "cell_type": "code",
   "execution_count": null,
   "id": "zjlITP0LW3ZG",
   "metadata": {
    "ExecuteTime": {
     "end_time": "2022-03-21T15:44:47.295382Z",
     "start_time": "2022-03-21T15:44:47.295357Z"
    },
    "hidden": true,
    "id": "zjlITP0LW3ZG"
   },
   "outputs": [],
   "source": [
    "# Balanced Accuracy\n",
    "balanced_accur_nn = m.balanced_accuracy_score(y_test_nn, yhat_nn)\n",
    "\n",
    "print( 'Balanced accuracy for NN: {}%'.format(balanced_accur_nn*100) )"
   ]
  },
  {
   "cell_type": "code",
   "execution_count": null,
   "id": "U_qJJzqkcyZm",
   "metadata": {
    "ExecuteTime": {
     "end_time": "2022-03-21T15:44:47.298479Z",
     "start_time": "2022-03-21T15:44:47.298420Z"
    },
    "hidden": true,
    "id": "U_qJJzqkcyZm"
   },
   "outputs": [],
   "source": [
    "# Classification Report:\n",
    "print( m.classification_report(y_test_nn, yhat_nn) )"
   ]
  },
  {
   "cell_type": "code",
   "execution_count": null,
   "id": "7SSq_1KiE0Cd",
   "metadata": {
    "ExecuteTime": {
     "end_time": "2022-03-21T15:44:47.301222Z",
     "start_time": "2022-03-21T15:44:47.301183Z"
    },
    "hidden": true,
    "id": "7SSq_1KiE0Cd"
   },
   "outputs": [],
   "source": [
    "# Kappa Metrics:\n",
    "kappa_nn = m.cohen_kappa_score(y_test_nn, yhat_nn)\n",
    "\n",
    "print( 'Kappa Score for NN: {}%'.format(kappa_nn*100) )"
   ]
  },
  {
   "cell_type": "markdown",
   "id": "XSEh2YnxE0eb",
   "metadata": {
    "hidden": true,
    "id": "XSEh2YnxE0eb"
   },
   "source": [
    "## 7.3. Implementing Cross Validation for NN Performance"
   ]
  },
  {
   "cell_type": "code",
   "execution_count": null,
   "id": "V70rph0SZ17Y",
   "metadata": {
    "ExecuteTime": {
     "end_time": "2022-03-21T15:44:47.304482Z",
     "start_time": "2022-03-21T15:44:47.304445Z"
    },
    "hidden": true,
    "id": "V70rph0SZ17Y"
   },
   "outputs": [],
   "source": [
    "# Generating k-fold:\n",
    "num_folds = 5\n",
    "kfold = ms.StratifiedKFold( n_splits=num_folds, shuffle=True, random_state=32 )\n",
    "\n",
    "balanced_accur_list = []\n",
    "kappa_accur_list = []\n",
    "\n",
    "i = 1\n",
    "\n",
    "for train_ix, val_ix in kfold.split( x_train, y_train ):    #Neste caso, a cada nova iteracao, a proporcao entre os dados de treino \n",
    "                                                            #e os dados de teste é mantida.\n",
    "  \n",
    "  # Print out of current fold in iteration:\n",
    "  print( 'Fold Number: {}/{}'.format(i, num_folds) )\n",
    "  \n",
    "  # Getting the folds for...\n",
    "\n",
    "  ## the training dataset:\n",
    "  x_train_fold = x_train.iloc[train_ix]\n",
    "  y_train_fold = y_train.iloc[train_ix]\n",
    "\n",
    "  ## the validation ('testing') dataset:\n",
    "  x_val_fold = x_train.iloc[val_ix]\n",
    "  y_val_fold = y_train.iloc[val_ix]\n",
    "\n",
    "\n",
    "  # Target one-hot-encoding for transforming the categorical variables from both the training and \n",
    "  # the validation dataset:\n",
    "  ohe =  pp.OneHotEncoder()\n",
    "  y_train_fold_nn = ohe.fit_transform( y_train_fold.values.reshape(-1, 1) ).toarray()\n",
    "\n",
    "\n",
    "  # Model definition:\n",
    "  ## (https://keras.io/api/layers/core_layers/dense/)\n",
    "  model = ml.Sequential()\n",
    "  model.add( l.Dense(256, input_dim=x_train.shape[1], activation='relu') )\n",
    "  model.add( l.Dense(11, activation='softmax') )\n",
    "\n",
    "  # Compiling the model:\n",
    "  model.compile( loss='categorical_crossentropy', optimizer='adam', metrics=['accuracy'] )\n",
    "\n",
    "  # Training the model:\n",
    "  model.fit( x_train_fold, y_train_fold_nn, epochs=100, batch_size=32, verbose=0 )\n",
    "\n",
    "  # Predictions:\n",
    "  pred_nn = model.predict(x_val_fold)\n",
    "\n",
    "  ## The 'pred_nn' variable is inherently encoded by the 'x_val_fold' variable, which came from 'x_train'. Due to this, \n",
    "  ## the 'pred_nn' must be \"de-encoded\":\n",
    "  yhat_nn = ohe.inverse_transform(pred_nn)\n",
    "\n",
    "\n",
    "  # Preparing the data after the prediction built-up:\n",
    "  y_test_nn = y_val_fold.to_numpy()   #The idea of converting a list of classes (in this case, 'y_val_fold') into \n",
    "                                      #an array to_numpy() is due to how the keras, from tensorflow, operates; from a list of \n",
    "                                      #classes into an array of encoded dummies.\n",
    "  yhat_nn = yhat_nn.reshape(1, -1)[0]\n",
    "\n",
    "\n",
    "  # Metrics:\n",
    "\n",
    "  ## Balanced Accuracy Metrics:\n",
    "  balanced_accur_nn = m.balanced_accuracy_score(y_test_nn, yhat_nn)\n",
    "  balanced_accur_list.append(balanced_accur_nn) \n",
    "\n",
    "  ## Kappa Metrics:\n",
    "  kappa_accur_nn = m.cohen_kappa_score(y_test_nn, yhat_nn)\n",
    "  kappa_accur_list.append(kappa_accur_nn) \n",
    "\n",
    "  i += 1"
   ]
  },
  {
   "cell_type": "code",
   "execution_count": null,
   "id": "2nLlkW6AZ1_Z",
   "metadata": {
    "ExecuteTime": {
     "end_time": "2022-03-21T15:44:47.307020Z",
     "start_time": "2022-03-21T15:44:47.306982Z"
    },
    "hidden": true,
    "id": "2nLlkW6AZ1_Z"
   },
   "outputs": [],
   "source": [
    "# List for balanced accuracy, in which each position refers to the specific value of accuracy at \n",
    "# the current iterated fold.\n",
    "\n",
    "# print(type(balanced_accur_list))\n",
    "\n",
    "# Statistical Description for the balanced accuracy metric (Mean value + standard deviation):\n",
    "\n",
    "print( 'Average value for Balanced Accuracy: {} +/- {:,.10f}'.format(np.mean(balanced_accur_list), np.std(balanced_accur_list)) )\n",
    "print( 'Average value for Kapppa Accuracy: {} +/- {:,.10f}'.format(np.mean(kappa_accur_list), np.std(kappa_accur_list)) )\n",
    "\n"
   ]
  },
  {
   "cell_type": "code",
   "execution_count": null,
   "id": "liHlnm5jgkQ4",
   "metadata": {
    "hidden": true,
    "id": "liHlnm5jgkQ4"
   },
   "outputs": [],
   "source": []
  },
  {
   "cell_type": "code",
   "execution_count": null,
   "id": "qo_fQOI6aUGs",
   "metadata": {
    "hidden": true,
    "id": "qo_fQOI6aUGs"
   },
   "outputs": [],
   "source": []
  },
  {
   "cell_type": "code",
   "execution_count": null,
   "id": "NjXtgXv0aA3K",
   "metadata": {
    "hidden": true,
    "id": "NjXtgXv0aA3K"
   },
   "outputs": [],
   "source": []
  },
  {
   "cell_type": "code",
   "execution_count": null,
   "id": "lf3TKXosaA6I",
   "metadata": {
    "hidden": true,
    "id": "lf3TKXosaA6I"
   },
   "outputs": [],
   "source": []
  }
 ],
 "metadata": {
  "colab": {
   "collapsed_sections": [
    "858f8c8e",
    "40ced25d",
    "ffb4afbf",
    "iKRvsv9HSbR_",
    "nbyckuCX3557",
    "Krf_KZMQ4CAe",
    "SPfP7Y144CME",
    "zDlQrOMY4T5M",
    "Jpj4Knx7FwPq",
    "eWOvONHpFwXe",
    "gqbhfj6SgfeN",
    "xlgj_nrSGyCw",
    "deFH3cGfafdB",
    "15vB6MbOafhX",
    "xDX3cO9nhGgJ",
    "GgPmLQd7Z4NU",
    "QmROcF3nal0m",
    "T_aesakvt11j",
    "12ac874b",
    "e2f21ed6",
    "4ezZTjn3A0Of",
    "b8afdd40"
   ],
   "name": "Ciclo02_v01-Feature_Engineering.ipynb",
   "provenance": []
  },
  "kernelspec": {
   "display_name": "Python 3 (ipykernel)",
   "language": "python",
   "name": "python3"
  },
  "language_info": {
   "codemirror_mode": {
    "name": "ipython",
    "version": 3
   },
   "file_extension": ".py",
   "mimetype": "text/x-python",
   "name": "python",
   "nbconvert_exporter": "python",
   "pygments_lexer": "ipython3",
   "version": "3.9.2"
  },
  "varInspector": {
   "cols": {
    "lenName": 16,
    "lenType": 16,
    "lenVar": 40
   },
   "kernels_config": {
    "python": {
     "delete_cmd_postfix": "",
     "delete_cmd_prefix": "del ",
     "library": "var_list.py",
     "varRefreshCmd": "print(var_dic_list())"
    },
    "r": {
     "delete_cmd_postfix": ") ",
     "delete_cmd_prefix": "rm(",
     "library": "var_list.r",
     "varRefreshCmd": "cat(var_dic_list()) "
    }
   },
   "types_to_exclude": [
    "module",
    "function",
    "builtin_function_or_method",
    "instance",
    "_Feature"
   ],
   "window_display": false
  }
 },
 "nbformat": 4,
 "nbformat_minor": 5
}
