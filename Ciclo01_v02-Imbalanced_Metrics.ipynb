{
 "cells": [
  {
   "cell_type": "markdown",
   "id": "858f8c8e",
   "metadata": {
    "heading_collapsed": true,
    "id": "858f8c8e"
   },
   "source": [
    "# Airbnb's Business Question and Plan for Success"
   ]
  },
  {
   "cell_type": "markdown",
   "id": "c39171b1",
   "metadata": {
    "hidden": true,
    "id": "c39171b1"
   },
   "source": [
    "## Understanding the Business Question"
   ]
  },
  {
   "cell_type": "markdown",
   "id": "28d37740",
   "metadata": {
    "hidden": true,
    "id": "28d37740"
   },
   "source": [
    "-- The Objective of the Business Problem:\n",
    "\n",
    "    -- 1.0. Prediction of which country a new user's first booking destination will be upon using Airbnb.\n",
    "\n",
    "-- Proposal for Solution:\n",
    "\n",
    "-- "
   ]
  },
  {
   "cell_type": "markdown",
   "id": "2bfb4a01",
   "metadata": {
    "hidden": true,
    "id": "2bfb4a01"
   },
   "source": [
    "## The Business Planning"
   ]
  },
  {
   "cell_type": "code",
   "execution_count": null,
   "id": "1b539e05",
   "metadata": {
    "executionInfo": {
     "elapsed": 401,
     "status": "ok",
     "timestamp": 1647343334636,
     "user": {
      "displayName": "Renan Pacheco",
      "photoUrl": "https://lh3.googleusercontent.com/a-/AOh14GiRv7UuC3atWqKJu9tdNt8L6TW4viUyBcgTc6e1sw=s64",
      "userId": "12718092000337794607"
     },
     "user_tz": 180
    },
    "hidden": true,
    "id": "1b539e05"
   },
   "outputs": [],
   "source": []
  },
  {
   "cell_type": "markdown",
   "id": "948bf8ce",
   "metadata": {
    "id": "948bf8ce"
   },
   "source": [
    "# <font color = 'green'> ----- Cycle 1: First Sprint ----- </font>"
   ]
  },
  {
   "cell_type": "markdown",
   "id": "40ced25d",
   "metadata": {
    "id": "40ced25d"
   },
   "source": [
    "# 0. Imports "
   ]
  },
  {
   "cell_type": "markdown",
   "id": "289a618f",
   "metadata": {
    "id": "289a618f"
   },
   "source": [
    "## 0.1. Libraries:"
   ]
  },
  {
   "cell_type": "code",
   "execution_count": 10,
   "id": "SgyepwdtF44K",
   "metadata": {
    "ExecuteTime": {
     "end_time": "2022-03-15T12:23:49.087623Z",
     "start_time": "2022-03-15T12:23:44.636088Z"
    },
    "colab": {
     "base_uri": "https://localhost:8080/"
    },
    "executionInfo": {
     "elapsed": 30395,
     "status": "ok",
     "timestamp": 1647343365303,
     "user": {
      "displayName": "Renan Pacheco",
      "photoUrl": "https://lh3.googleusercontent.com/a-/AOh14GiRv7UuC3atWqKJu9tdNt8L6TW4viUyBcgTc6e1sw=s64",
      "userId": "12718092000337794607"
     },
     "user_tz": 180
    },
    "id": "SgyepwdtF44K",
    "outputId": "2c5fb059-b186-4235-9ef2-516540a1a011"
   },
   "outputs": [
    {
     "name": "stdout",
     "output_type": "stream",
     "text": [
      "Defaulting to user installation because normal site-packages is not writeable\n",
      "Requirement already satisfied: keras in /home/renanpacheco/.local/lib/python3.9/site-packages (2.8.0)\n",
      "\u001b[33mWARNING: You are using pip version 22.0.3; however, version 22.0.4 is available.\n",
      "You should consider upgrading via the '/usr/bin/python3 -m pip install --upgrade pip' command.\u001b[0m\u001b[33m\n",
      "\u001b[0mDefaulting to user installation because normal site-packages is not writeable\n",
      "Requirement already satisfied: tensorflow in /home/renanpacheco/.local/lib/python3.9/site-packages (2.8.0)\n",
      "Requirement already satisfied: google-pasta>=0.1.1 in /home/renanpacheco/.local/lib/python3.9/site-packages (from tensorflow) (0.2.0)\n",
      "Requirement already satisfied: flatbuffers>=1.12 in /home/renanpacheco/.local/lib/python3.9/site-packages (from tensorflow) (2.0)\n",
      "Requirement already satisfied: typing-extensions>=3.6.6 in /home/renanpacheco/.local/lib/python3.9/site-packages (from tensorflow) (4.1.1)\n",
      "Requirement already satisfied: keras-preprocessing>=1.1.1 in /home/renanpacheco/.local/lib/python3.9/site-packages (from tensorflow) (1.1.2)\n",
      "Requirement already satisfied: termcolor>=1.1.0 in /home/renanpacheco/.local/lib/python3.9/site-packages (from tensorflow) (1.1.0)\n",
      "Requirement already satisfied: tf-estimator-nightly==2.8.0.dev2021122109 in /home/renanpacheco/.local/lib/python3.9/site-packages (from tensorflow) (2.8.0.dev2021122109)\n",
      "Requirement already satisfied: six>=1.12.0 in /usr/lib/python3/dist-packages (from tensorflow) (1.16.0)\n",
      "Requirement already satisfied: tensorflow-io-gcs-filesystem>=0.23.1 in /home/renanpacheco/.local/lib/python3.9/site-packages (from tensorflow) (0.24.0)\n",
      "Requirement already satisfied: opt-einsum>=2.3.2 in /home/renanpacheco/.local/lib/python3.9/site-packages (from tensorflow) (3.3.0)\n",
      "Requirement already satisfied: tensorboard<2.9,>=2.8 in /home/renanpacheco/.local/lib/python3.9/site-packages (from tensorflow) (2.8.0)\n",
      "Requirement already satisfied: gast>=0.2.1 in /home/renanpacheco/.local/lib/python3.9/site-packages (from tensorflow) (0.5.3)\n",
      "Requirement already satisfied: keras<2.9,>=2.8.0rc0 in /home/renanpacheco/.local/lib/python3.9/site-packages (from tensorflow) (2.8.0)\n",
      "Requirement already satisfied: absl-py>=0.4.0 in /home/renanpacheco/.local/lib/python3.9/site-packages (from tensorflow) (1.0.0)\n",
      "Requirement already satisfied: astunparse>=1.6.0 in /home/renanpacheco/.local/lib/python3.9/site-packages (from tensorflow) (1.6.3)\n",
      "Requirement already satisfied: h5py>=2.9.0 in /home/renanpacheco/.local/lib/python3.9/site-packages (from tensorflow) (3.6.0)\n",
      "Requirement already satisfied: setuptools in /usr/lib/python3/dist-packages (from tensorflow) (52.0.0)\n",
      "Requirement already satisfied: grpcio<2.0,>=1.24.3 in /home/renanpacheco/.local/lib/python3.9/site-packages (from tensorflow) (1.44.0)\n",
      "Requirement already satisfied: protobuf>=3.9.2 in /home/renanpacheco/.local/lib/python3.9/site-packages (from tensorflow) (3.19.4)\n",
      "Requirement already satisfied: wrapt>=1.11.0 in /home/renanpacheco/.local/lib/python3.9/site-packages (from tensorflow) (1.14.0)\n",
      "Requirement already satisfied: numpy>=1.20 in /home/renanpacheco/.local/lib/python3.9/site-packages (from tensorflow) (1.22.3)\n",
      "Requirement already satisfied: libclang>=9.0.1 in /home/renanpacheco/.local/lib/python3.9/site-packages (from tensorflow) (13.0.0)\n",
      "Requirement already satisfied: wheel<1.0,>=0.23.0 in /usr/lib/python3/dist-packages (from astunparse>=1.6.0->tensorflow) (0.34.2)\n",
      "Requirement already satisfied: google-auth-oauthlib<0.5,>=0.4.1 in /home/renanpacheco/.local/lib/python3.9/site-packages (from tensorboard<2.9,>=2.8->tensorflow) (0.4.6)\n",
      "Requirement already satisfied: requests<3,>=2.21.0 in /usr/lib/python3/dist-packages (from tensorboard<2.9,>=2.8->tensorflow) (2.25.1)\n",
      "Requirement already satisfied: google-auth<3,>=1.6.3 in /home/renanpacheco/.local/lib/python3.9/site-packages (from tensorboard<2.9,>=2.8->tensorflow) (2.6.0)\n",
      "Requirement already satisfied: tensorboard-plugin-wit>=1.6.0 in /home/renanpacheco/.local/lib/python3.9/site-packages (from tensorboard<2.9,>=2.8->tensorflow) (1.8.1)\n",
      "Requirement already satisfied: markdown>=2.6.8 in /home/renanpacheco/.local/lib/python3.9/site-packages (from tensorboard<2.9,>=2.8->tensorflow) (3.3.6)\n",
      "Requirement already satisfied: werkzeug>=0.11.15 in /home/renanpacheco/.local/lib/python3.9/site-packages (from tensorboard<2.9,>=2.8->tensorflow) (2.0.3)\n",
      "Requirement already satisfied: tensorboard-data-server<0.7.0,>=0.6.0 in /home/renanpacheco/.local/lib/python3.9/site-packages (from tensorboard<2.9,>=2.8->tensorflow) (0.6.1)\n",
      "Requirement already satisfied: cachetools<6.0,>=2.0.0 in /home/renanpacheco/.local/lib/python3.9/site-packages (from google-auth<3,>=1.6.3->tensorboard<2.9,>=2.8->tensorflow) (5.0.0)\n",
      "Requirement already satisfied: pyasn1-modules>=0.2.1 in /home/renanpacheco/.local/lib/python3.9/site-packages (from google-auth<3,>=1.6.3->tensorboard<2.9,>=2.8->tensorflow) (0.2.8)\n",
      "Requirement already satisfied: rsa<5,>=3.1.4 in /home/renanpacheco/.local/lib/python3.9/site-packages (from google-auth<3,>=1.6.3->tensorboard<2.9,>=2.8->tensorflow) (4.8)\n",
      "Requirement already satisfied: requests-oauthlib>=0.7.0 in /home/renanpacheco/.local/lib/python3.9/site-packages (from google-auth-oauthlib<0.5,>=0.4.1->tensorboard<2.9,>=2.8->tensorflow) (1.3.1)\n",
      "Requirement already satisfied: importlib-metadata>=4.4 in /home/renanpacheco/.local/lib/python3.9/site-packages (from markdown>=2.6.8->tensorboard<2.9,>=2.8->tensorflow) (4.11.3)\n",
      "Requirement already satisfied: zipp>=0.5 in /home/renanpacheco/.local/lib/python3.9/site-packages (from importlib-metadata>=4.4->markdown>=2.6.8->tensorboard<2.9,>=2.8->tensorflow) (3.7.0)\n",
      "Requirement already satisfied: pyasn1<0.5.0,>=0.4.6 in /home/renanpacheco/.local/lib/python3.9/site-packages (from pyasn1-modules>=0.2.1->google-auth<3,>=1.6.3->tensorboard<2.9,>=2.8->tensorflow) (0.4.8)\n",
      "Requirement already satisfied: oauthlib>=3.0.0 in /home/renanpacheco/.local/lib/python3.9/site-packages (from requests-oauthlib>=0.7.0->google-auth-oauthlib<0.5,>=0.4.1->tensorboard<2.9,>=2.8->tensorflow) (3.2.0)\n",
      "\u001b[33mWARNING: You are using pip version 22.0.3; however, version 22.0.4 is available.\n",
      "You should consider upgrading via the '/usr/bin/python3 -m pip install --upgrade pip' command.\u001b[0m\u001b[33m\n",
      "\u001b[0mDefaulting to user installation because normal site-packages is not writeable\n",
      "Requirement already satisfied: scikit-plot in /home/renanpacheco/.local/lib/python3.9/site-packages (0.3.7)\n",
      "Requirement already satisfied: scikit-learn>=0.18 in /home/renanpacheco/.local/lib/python3.9/site-packages (from scikit-plot) (1.0.2)\n",
      "Requirement already satisfied: scipy>=0.9 in /home/renanpacheco/.local/lib/python3.9/site-packages (from scikit-plot) (1.8.0)\n",
      "Requirement already satisfied: joblib>=0.10 in /home/renanpacheco/.local/lib/python3.9/site-packages (from scikit-plot) (1.1.0)\n",
      "Requirement already satisfied: matplotlib>=1.4.0 in /home/renanpacheco/.local/lib/python3.9/site-packages (from scikit-plot) (3.5.1)\n",
      "Requirement already satisfied: packaging>=20.0 in /home/renanpacheco/.local/lib/python3.9/site-packages (from matplotlib>=1.4.0->scikit-plot) (21.3)\n",
      "Requirement already satisfied: pillow>=6.2.0 in /home/renanpacheco/.local/lib/python3.9/site-packages (from matplotlib>=1.4.0->scikit-plot) (9.0.0)\n",
      "Requirement already satisfied: fonttools>=4.22.0 in /home/renanpacheco/.local/lib/python3.9/site-packages (from matplotlib>=1.4.0->scikit-plot) (4.28.5)\n",
      "Requirement already satisfied: python-dateutil>=2.7 in /home/renanpacheco/.local/lib/python3.9/site-packages (from matplotlib>=1.4.0->scikit-plot) (2.8.2)\n",
      "Requirement already satisfied: pyparsing>=2.2.1 in /home/renanpacheco/.local/lib/python3.9/site-packages (from matplotlib>=1.4.0->scikit-plot) (3.0.6)\n",
      "Requirement already satisfied: kiwisolver>=1.0.1 in /home/renanpacheco/.local/lib/python3.9/site-packages (from matplotlib>=1.4.0->scikit-plot) (1.3.2)\n",
      "Requirement already satisfied: cycler>=0.10 in /home/renanpacheco/.local/lib/python3.9/site-packages (from matplotlib>=1.4.0->scikit-plot) (0.11.0)\n",
      "Requirement already satisfied: numpy>=1.17 in /home/renanpacheco/.local/lib/python3.9/site-packages (from matplotlib>=1.4.0->scikit-plot) (1.22.3)\n"
     ]
    },
    {
     "name": "stdout",
     "output_type": "stream",
     "text": [
      "Requirement already satisfied: threadpoolctl>=2.0.0 in /home/renanpacheco/.local/lib/python3.9/site-packages (from scikit-learn>=0.18->scikit-plot) (3.1.0)\n",
      "Requirement already satisfied: six>=1.5 in /usr/lib/python3/dist-packages (from python-dateutil>=2.7->matplotlib>=1.4.0->scikit-plot) (1.16.0)\n",
      "\u001b[33mWARNING: You are using pip version 22.0.3; however, version 22.0.4 is available.\n",
      "You should consider upgrading via the '/usr/bin/python3 -m pip install --upgrade pip' command.\u001b[0m\u001b[33m\n",
      "\u001b[0mDefaulting to user installation because normal site-packages is not writeable\n",
      "Requirement already satisfied: seaborn in /home/renanpacheco/.local/lib/python3.9/site-packages (0.11.2)\n",
      "Requirement already satisfied: matplotlib>=2.2 in /home/renanpacheco/.local/lib/python3.9/site-packages (from seaborn) (3.5.1)\n",
      "Requirement already satisfied: pandas>=0.23 in /home/renanpacheco/.local/lib/python3.9/site-packages (from seaborn) (1.3.5)\n",
      "Requirement already satisfied: numpy>=1.15 in /home/renanpacheco/.local/lib/python3.9/site-packages (from seaborn) (1.22.3)\n",
      "Requirement already satisfied: scipy>=1.0 in /home/renanpacheco/.local/lib/python3.9/site-packages (from seaborn) (1.8.0)\n",
      "Requirement already satisfied: packaging>=20.0 in /home/renanpacheco/.local/lib/python3.9/site-packages (from matplotlib>=2.2->seaborn) (21.3)\n",
      "Requirement already satisfied: fonttools>=4.22.0 in /home/renanpacheco/.local/lib/python3.9/site-packages (from matplotlib>=2.2->seaborn) (4.28.5)\n",
      "Requirement already satisfied: kiwisolver>=1.0.1 in /home/renanpacheco/.local/lib/python3.9/site-packages (from matplotlib>=2.2->seaborn) (1.3.2)\n",
      "Requirement already satisfied: python-dateutil>=2.7 in /home/renanpacheco/.local/lib/python3.9/site-packages (from matplotlib>=2.2->seaborn) (2.8.2)\n",
      "Requirement already satisfied: pyparsing>=2.2.1 in /home/renanpacheco/.local/lib/python3.9/site-packages (from matplotlib>=2.2->seaborn) (3.0.6)\n",
      "Requirement already satisfied: cycler>=0.10 in /home/renanpacheco/.local/lib/python3.9/site-packages (from matplotlib>=2.2->seaborn) (0.11.0)\n",
      "Requirement already satisfied: pillow>=6.2.0 in /home/renanpacheco/.local/lib/python3.9/site-packages (from matplotlib>=2.2->seaborn) (9.0.0)\n",
      "Requirement already satisfied: pytz>=2017.3 in /home/renanpacheco/.local/lib/python3.9/site-packages (from pandas>=0.23->seaborn) (2021.3)\n",
      "Requirement already satisfied: six>=1.5 in /usr/lib/python3/dist-packages (from python-dateutil>=2.7->matplotlib>=2.2->seaborn) (1.16.0)\n",
      "\u001b[33mWARNING: You are using pip version 22.0.3; however, version 22.0.4 is available.\n",
      "You should consider upgrading via the '/usr/bin/python3 -m pip install --upgrade pip' command.\u001b[0m\u001b[33m\n",
      "\u001b[0m"
     ]
    }
   ],
   "source": [
    "import sys\n",
    "\n",
    "!{sys.executable} -m pip install keras\n",
    "!{sys.executable} -m pip install tensorflow\n",
    "!{sys.executable} -m pip install scikit-plot\n",
    "!{sys.executable} -m pip install seaborn\n",
    "\n",
    "\n",
    "# ----------------------------------------------------------------\n",
    "\n",
    "# Libraries installed: (pip freeze > requirements.txt)\n",
    "\n",
    "# keras\n",
    "# tensorflow\n",
    "# scikit-plot\n",
    "# seaborn"
   ]
  },
  {
   "cell_type": "code",
   "execution_count": 1,
   "id": "ea509435",
   "metadata": {
    "ExecuteTime": {
     "end_time": "2022-03-15T12:28:59.900655Z",
     "start_time": "2022-03-15T12:28:57.853216Z"
    },
    "executionInfo": {
     "elapsed": 4556,
     "status": "ok",
     "timestamp": 1647343369852,
     "user": {
      "displayName": "Renan Pacheco",
      "photoUrl": "https://lh3.googleusercontent.com/a-/AOh14GiRv7UuC3atWqKJu9tdNt8L6TW4viUyBcgTc6e1sw=s64",
      "userId": "12718092000337794607"
     },
     "user_tz": 180
    },
    "id": "ea509435"
   },
   "outputs": [
    {
     "name": "stderr",
     "output_type": "stream",
     "text": [
      "2022-03-15 09:28:58.925191: W tensorflow/stream_executor/platform/default/dso_loader.cc:64] Could not load dynamic library 'libcudart.so.11.0'; dlerror: libcudart.so.11.0: cannot open shared object file: No such file or directory\n",
      "2022-03-15 09:28:58.925220: I tensorflow/stream_executor/cuda/cudart_stub.cc:29] Ignore above cudart dlerror if you do not have a GPU set up on your machine.\n"
     ]
    }
   ],
   "source": [
    "import pandas  as pd\n",
    "import numpy   as np\n",
    "import seaborn as sns\n",
    "\n",
    "from IPython.core.display import HTML\n",
    "\n",
    "from matplotlib import pyplot as plt\n",
    "\n",
    "from sklearn import model_selection as ms\n",
    "from sklearn import preprocessing   as pp\n",
    "from sklearn import metrics         as m\n",
    "\n",
    "from scikitplot import metrics as mt\n",
    "\n",
    "from keras import models as ml\n",
    "from keras import layers as l"
   ]
  },
  {
   "cell_type": "markdown",
   "id": "062cb119",
   "metadata": {
    "id": "062cb119"
   },
   "source": [
    "## 0.2. Helper Functions"
   ]
  },
  {
   "cell_type": "code",
   "execution_count": 2,
   "id": "8305dff1",
   "metadata": {
    "ExecuteTime": {
     "end_time": "2022-03-15T12:29:21.805696Z",
     "start_time": "2022-03-15T12:29:21.801657Z"
    },
    "executionInfo": {
     "elapsed": 12,
     "status": "ok",
     "timestamp": 1647343369853,
     "user": {
      "displayName": "Renan Pacheco",
      "photoUrl": "https://lh3.googleusercontent.com/a-/AOh14GiRv7UuC3atWqKJu9tdNt8L6TW4viUyBcgTc6e1sw=s64",
      "userId": "12718092000337794607"
     },
     "user_tz": 180
    },
    "id": "8305dff1"
   },
   "outputs": [],
   "source": [
    "# Função auxiliar para construcão do layout:\n",
    "def jupyter_settings():\n",
    "    %matplotlib inline\n",
    "#     %matplotlib inline\n",
    "    \n",
    "    plt.style.use( 'bmh' )\n",
    "    plt.rcParams[ 'figure.figsize' ] = [20, 10]\n",
    "    plt.rcParams[ 'font.size' ] = 20\n",
    "    \n",
    "    display( HTML( '<style>.container { width:95% !important; }</style>' ) )\n",
    "    pd.options.display.max_columns = None\n",
    "    pd.options.display.max_rows = None\n",
    "    pd.set_option( 'display.expand_frame_repr', False )\n",
    "    \n",
    "    sns.set()"
   ]
  },
  {
   "cell_type": "code",
   "execution_count": 4,
   "id": "ae967363",
   "metadata": {
    "ExecuteTime": {
     "end_time": "2022-03-15T12:29:33.654347Z",
     "start_time": "2022-03-15T12:29:33.647927Z"
    },
    "colab": {
     "base_uri": "https://localhost:8080/",
     "height": 0
    },
    "executionInfo": {
     "elapsed": 12,
     "status": "ok",
     "timestamp": 1647343369854,
     "user": {
      "displayName": "Renan Pacheco",
      "photoUrl": "https://lh3.googleusercontent.com/a-/AOh14GiRv7UuC3atWqKJu9tdNt8L6TW4viUyBcgTc6e1sw=s64",
      "userId": "12718092000337794607"
     },
     "user_tz": 180
    },
    "id": "ae967363",
    "outputId": "52188979-f9c6-4ee5-b7eb-475a80b9d0fd"
   },
   "outputs": [
    {
     "data": {
      "text/html": [
       "<style>.container { width:95% !important; }</style>"
      ],
      "text/plain": [
       "<IPython.core.display.HTML object>"
      ]
     },
     "metadata": {},
     "output_type": "display_data"
    }
   ],
   "source": [
    "jupyter_settings()"
   ]
  },
  {
   "cell_type": "markdown",
   "id": "da94f7e7",
   "metadata": {
    "id": "da94f7e7"
   },
   "source": [
    "## 0.3. Loading the data"
   ]
  },
  {
   "cell_type": "code",
   "execution_count": 5,
   "id": "92b04387",
   "metadata": {
    "ExecuteTime": {
     "end_time": "2022-03-15T12:29:33.999980Z",
     "start_time": "2022-03-15T12:29:33.656690Z"
    },
    "colab": {
     "base_uri": "https://localhost:8080/"
    },
    "executionInfo": {
     "elapsed": 2037,
     "status": "ok",
     "timestamp": 1647343393387,
     "user": {
      "displayName": "Renan Pacheco",
      "photoUrl": "https://lh3.googleusercontent.com/a-/AOh14GiRv7UuC3atWqKJu9tdNt8L6TW4viUyBcgTc6e1sw=s64",
      "userId": "12718092000337794607"
     },
     "user_tz": 180
    },
    "id": "92b04387",
    "outputId": "d804bc96-b03c-45f2-aac8-c68b1b1dd3de"
   },
   "outputs": [
    {
     "name": "stdout",
     "output_type": "stream",
     "text": [
      "Data size for df_raw: (213451, 16)\n"
     ]
    }
   ],
   "source": [
    "df_raw = pd.read_csv( '../datasets/training_users.csv', low_memory=True )\n",
    "print( 'Data size for df_raw: {}'.format(df_raw.shape) )"
   ]
  },
  {
   "cell_type": "code",
   "execution_count": 6,
   "id": "e79eac35",
   "metadata": {
    "ExecuteTime": {
     "end_time": "2022-03-15T12:29:34.004019Z",
     "start_time": "2022-03-15T12:29:34.001443Z"
    },
    "executionInfo": {
     "elapsed": 8,
     "status": "ok",
     "timestamp": 1647343393387,
     "user": {
      "displayName": "Renan Pacheco",
      "photoUrl": "https://lh3.googleusercontent.com/a-/AOh14GiRv7UuC3atWqKJu9tdNt8L6TW4viUyBcgTc6e1sw=s64",
      "userId": "12718092000337794607"
     },
     "user_tz": 180
    },
    "id": "e79eac35"
   },
   "outputs": [],
   "source": [
    "# df_sessions = pd.read_csv( '/content/drive/MyDrive/Colab_Notebooks_Updates/airbnb_predict_first_booking/datasets/sessions.csv', low_memory=True )\n",
    "# print( 'Data size for df_sessions: {}'.format(df_sessions.shape) )\n",
    "\n",
    "\n",
    "# # Para o caso de se realizar um merge de ambos os datasets devido a GRANULARIDADE.\n",
    "\n",
    "# # A fim de decidir qual granularidade deverá ser implementada no merge dos datasets, as seguintes questões devem ser consideradas:\n",
    "# ## A previsão é feita em funcão do usuário\n",
    "# ## A previsão é feita em funcão do usuário + evento ('action')\n",
    "\n",
    "# # Exemplo: Retornar as acões realizadas por um usuário aleatório da plataforma durante o período em que esteve ativo:\n",
    "\n",
    "# df_sessions[ df_sessions['user_id'] == '00023iyk9l' ][['user_id', 'action']].groupby('user_id').count()\n",
    "# # Da mesma forma, a fim de retornar os valores referentes à todas as acões do usuário '00023iyk9l':\n",
    "\n",
    "# df_sessions[ df_sessions['user_id'] == '00023iyk9l' ][['user_id', 'action']].value_counts()"
   ]
  },
  {
   "cell_type": "markdown",
   "id": "ffb4afbf",
   "metadata": {
    "id": "ffb4afbf"
   },
   "source": [
    "# 1. Data Description"
   ]
  },
  {
   "cell_type": "code",
   "execution_count": 7,
   "id": "c_VWA6yc3mW7",
   "metadata": {
    "ExecuteTime": {
     "end_time": "2022-03-15T12:29:34.025682Z",
     "start_time": "2022-03-15T12:29:34.006488Z"
    },
    "executionInfo": {
     "elapsed": 8,
     "status": "ok",
     "timestamp": 1647343393388,
     "user": {
      "displayName": "Renan Pacheco",
      "photoUrl": "https://lh3.googleusercontent.com/a-/AOh14GiRv7UuC3atWqKJu9tdNt8L6TW4viUyBcgTc6e1sw=s64",
      "userId": "12718092000337794607"
     },
     "user_tz": 180
    },
    "id": "c_VWA6yc3mW7"
   },
   "outputs": [],
   "source": [
    "df1 = df_raw.copy()"
   ]
  },
  {
   "cell_type": "code",
   "execution_count": 8,
   "id": "be7aefdc",
   "metadata": {
    "ExecuteTime": {
     "end_time": "2022-03-15T12:29:34.030840Z",
     "start_time": "2022-03-15T12:29:34.027012Z"
    },
    "colab": {
     "base_uri": "https://localhost:8080/"
    },
    "executionInfo": {
     "elapsed": 8,
     "status": "ok",
     "timestamp": 1647343393388,
     "user": {
      "displayName": "Renan Pacheco",
      "photoUrl": "https://lh3.googleusercontent.com/a-/AOh14GiRv7UuC3atWqKJu9tdNt8L6TW4viUyBcgTc6e1sw=s64",
      "userId": "12718092000337794607"
     },
     "user_tz": 180
    },
    "id": "be7aefdc",
    "outputId": "f7327be3-db4a-4fb3-bd0f-8ce29aab3f9e"
   },
   "outputs": [
    {
     "name": "stdout",
     "output_type": "stream",
     "text": [
      "Number of columns: 16\n",
      "Number of rows: 213451\n"
     ]
    }
   ],
   "source": [
    "# For the 'df_raw' dataset, which regards to the 'training_users.csv' dataset, the dimensions of it are as follows:\n",
    "\n",
    "print( 'Number of columns: {}'.format( df1.shape[1] ) )\n",
    "print( 'Number of rows: {}'.format( df1.shape[0] ) )"
   ]
  },
  {
   "cell_type": "markdown",
   "id": "nbyckuCX3557",
   "metadata": {
    "id": "nbyckuCX3557"
   },
   "source": [
    "## 1.1. Data Types"
   ]
  },
  {
   "cell_type": "code",
   "execution_count": 10,
   "id": "oNxQxuPY4B4M",
   "metadata": {
    "colab": {
     "base_uri": "https://localhost:8080/"
    },
    "executionInfo": {
     "elapsed": 8,
     "status": "ok",
     "timestamp": 1647343393389,
     "user": {
      "displayName": "Renan Pacheco",
      "photoUrl": "https://lh3.googleusercontent.com/a-/AOh14GiRv7UuC3atWqKJu9tdNt8L6TW4viUyBcgTc6e1sw=s64",
      "userId": "12718092000337794607"
     },
     "user_tz": 180
    },
    "id": "oNxQxuPY4B4M",
    "outputId": "3df5cb6b-cc1e-4eef-e22e-cd79b1549cbf"
   },
   "outputs": [
    {
     "data": {
      "text/plain": [
       "id                          object\n",
       "date_account_created        object\n",
       "timestamp_first_active       int64\n",
       "date_first_booking          object\n",
       "gender                      object\n",
       "age                        float64\n",
       "signup_method               object\n",
       "signup_flow                  int64\n",
       "language                    object\n",
       "affiliate_channel           object\n",
       "affiliate_provider          object\n",
       "first_affiliate_tracked     object\n",
       "signup_app                  object\n",
       "first_device_type           object\n",
       "first_browser               object\n",
       "country_destination         object\n",
       "dtype: object"
      ]
     },
     "execution_count": 10,
     "metadata": {},
     "output_type": "execute_result"
    }
   ],
   "source": [
    "df1.dtypes"
   ]
  },
  {
   "cell_type": "code",
   "execution_count": 11,
   "id": "cwb1LNT-6oyl",
   "metadata": {
    "colab": {
     "base_uri": "https://localhost:8080/",
     "height": 0
    },
    "executionInfo": {
     "elapsed": 8,
     "status": "ok",
     "timestamp": 1647343393390,
     "user": {
      "displayName": "Renan Pacheco",
      "photoUrl": "https://lh3.googleusercontent.com/a-/AOh14GiRv7UuC3atWqKJu9tdNt8L6TW4viUyBcgTc6e1sw=s64",
      "userId": "12718092000337794607"
     },
     "user_tz": 180
    },
    "id": "cwb1LNT-6oyl",
    "outputId": "a2974dba-d83c-4ca7-c164-1cdb946f782c"
   },
   "outputs": [
    {
     "data": {
      "text/html": [
       "\n",
       "  <div id=\"df-51d44587-6819-42a1-a6fb-b13bbbf8d400\">\n",
       "    <div class=\"colab-df-container\">\n",
       "      <div>\n",
       "<style scoped>\n",
       "    .dataframe tbody tr th:only-of-type {\n",
       "        vertical-align: middle;\n",
       "    }\n",
       "\n",
       "    .dataframe tbody tr th {\n",
       "        vertical-align: top;\n",
       "    }\n",
       "\n",
       "    .dataframe thead th {\n",
       "        text-align: right;\n",
       "    }\n",
       "</style>\n",
       "<table border=\"1\" class=\"dataframe\">\n",
       "  <thead>\n",
       "    <tr style=\"text-align: right;\">\n",
       "      <th></th>\n",
       "      <th>36441</th>\n",
       "    </tr>\n",
       "  </thead>\n",
       "  <tbody>\n",
       "    <tr>\n",
       "      <th>id</th>\n",
       "      <td>k2koskdbd9</td>\n",
       "    </tr>\n",
       "    <tr>\n",
       "      <th>date_account_created</th>\n",
       "      <td>2012-08-14</td>\n",
       "    </tr>\n",
       "    <tr>\n",
       "      <th>timestamp_first_active</th>\n",
       "      <td>20120814160712</td>\n",
       "    </tr>\n",
       "    <tr>\n",
       "      <th>date_first_booking</th>\n",
       "      <td>NaN</td>\n",
       "    </tr>\n",
       "    <tr>\n",
       "      <th>gender</th>\n",
       "      <td>MALE</td>\n",
       "    </tr>\n",
       "    <tr>\n",
       "      <th>age</th>\n",
       "      <td>36.0</td>\n",
       "    </tr>\n",
       "    <tr>\n",
       "      <th>signup_method</th>\n",
       "      <td>facebook</td>\n",
       "    </tr>\n",
       "    <tr>\n",
       "      <th>signup_flow</th>\n",
       "      <td>0</td>\n",
       "    </tr>\n",
       "    <tr>\n",
       "      <th>language</th>\n",
       "      <td>en</td>\n",
       "    </tr>\n",
       "    <tr>\n",
       "      <th>affiliate_channel</th>\n",
       "      <td>direct</td>\n",
       "    </tr>\n",
       "    <tr>\n",
       "      <th>affiliate_provider</th>\n",
       "      <td>direct</td>\n",
       "    </tr>\n",
       "    <tr>\n",
       "      <th>first_affiliate_tracked</th>\n",
       "      <td>untracked</td>\n",
       "    </tr>\n",
       "    <tr>\n",
       "      <th>signup_app</th>\n",
       "      <td>Web</td>\n",
       "    </tr>\n",
       "    <tr>\n",
       "      <th>first_device_type</th>\n",
       "      <td>Windows Desktop</td>\n",
       "    </tr>\n",
       "    <tr>\n",
       "      <th>first_browser</th>\n",
       "      <td>Firefox</td>\n",
       "    </tr>\n",
       "    <tr>\n",
       "      <th>country_destination</th>\n",
       "      <td>NDF</td>\n",
       "    </tr>\n",
       "  </tbody>\n",
       "</table>\n",
       "</div>\n",
       "      <button class=\"colab-df-convert\" onclick=\"convertToInteractive('df-51d44587-6819-42a1-a6fb-b13bbbf8d400')\"\n",
       "              title=\"Convert this dataframe to an interactive table.\"\n",
       "              style=\"display:none;\">\n",
       "        \n",
       "  <svg xmlns=\"http://www.w3.org/2000/svg\" height=\"24px\"viewBox=\"0 0 24 24\"\n",
       "       width=\"24px\">\n",
       "    <path d=\"M0 0h24v24H0V0z\" fill=\"none\"/>\n",
       "    <path d=\"M18.56 5.44l.94 2.06.94-2.06 2.06-.94-2.06-.94-.94-2.06-.94 2.06-2.06.94zm-11 1L8.5 8.5l.94-2.06 2.06-.94-2.06-.94L8.5 2.5l-.94 2.06-2.06.94zm10 10l.94 2.06.94-2.06 2.06-.94-2.06-.94-.94-2.06-.94 2.06-2.06.94z\"/><path d=\"M17.41 7.96l-1.37-1.37c-.4-.4-.92-.59-1.43-.59-.52 0-1.04.2-1.43.59L10.3 9.45l-7.72 7.72c-.78.78-.78 2.05 0 2.83L4 21.41c.39.39.9.59 1.41.59.51 0 1.02-.2 1.41-.59l7.78-7.78 2.81-2.81c.8-.78.8-2.07 0-2.86zM5.41 20L4 18.59l7.72-7.72 1.47 1.35L5.41 20z\"/>\n",
       "  </svg>\n",
       "      </button>\n",
       "      \n",
       "  <style>\n",
       "    .colab-df-container {\n",
       "      display:flex;\n",
       "      flex-wrap:wrap;\n",
       "      gap: 12px;\n",
       "    }\n",
       "\n",
       "    .colab-df-convert {\n",
       "      background-color: #E8F0FE;\n",
       "      border: none;\n",
       "      border-radius: 50%;\n",
       "      cursor: pointer;\n",
       "      display: none;\n",
       "      fill: #1967D2;\n",
       "      height: 32px;\n",
       "      padding: 0 0 0 0;\n",
       "      width: 32px;\n",
       "    }\n",
       "\n",
       "    .colab-df-convert:hover {\n",
       "      background-color: #E2EBFA;\n",
       "      box-shadow: 0px 1px 2px rgba(60, 64, 67, 0.3), 0px 1px 3px 1px rgba(60, 64, 67, 0.15);\n",
       "      fill: #174EA6;\n",
       "    }\n",
       "\n",
       "    [theme=dark] .colab-df-convert {\n",
       "      background-color: #3B4455;\n",
       "      fill: #D2E3FC;\n",
       "    }\n",
       "\n",
       "    [theme=dark] .colab-df-convert:hover {\n",
       "      background-color: #434B5C;\n",
       "      box-shadow: 0px 1px 3px 1px rgba(0, 0, 0, 0.15);\n",
       "      filter: drop-shadow(0px 1px 2px rgba(0, 0, 0, 0.3));\n",
       "      fill: #FFFFFF;\n",
       "    }\n",
       "  </style>\n",
       "\n",
       "      <script>\n",
       "        const buttonEl =\n",
       "          document.querySelector('#df-51d44587-6819-42a1-a6fb-b13bbbf8d400 button.colab-df-convert');\n",
       "        buttonEl.style.display =\n",
       "          google.colab.kernel.accessAllowed ? 'block' : 'none';\n",
       "\n",
       "        async function convertToInteractive(key) {\n",
       "          const element = document.querySelector('#df-51d44587-6819-42a1-a6fb-b13bbbf8d400');\n",
       "          const dataTable =\n",
       "            await google.colab.kernel.invokeFunction('convertToInteractive',\n",
       "                                                     [key], {});\n",
       "          if (!dataTable) return;\n",
       "\n",
       "          const docLinkHtml = 'Like what you see? Visit the ' +\n",
       "            '<a target=\"_blank\" href=https://colab.research.google.com/notebooks/data_table.ipynb>data table notebook</a>'\n",
       "            + ' to learn more about interactive tables.';\n",
       "          element.innerHTML = '';\n",
       "          dataTable['output_type'] = 'display_data';\n",
       "          await google.colab.output.renderOutput(dataTable, element);\n",
       "          const docLink = document.createElement('div');\n",
       "          docLink.innerHTML = docLinkHtml;\n",
       "          element.appendChild(docLink);\n",
       "        }\n",
       "      </script>\n",
       "    </div>\n",
       "  </div>\n",
       "  "
      ],
      "text/plain": [
       "                                   36441\n",
       "id                            k2koskdbd9\n",
       "date_account_created          2012-08-14\n",
       "timestamp_first_active    20120814160712\n",
       "date_first_booking                   NaN\n",
       "gender                              MALE\n",
       "age                                 36.0\n",
       "signup_method                   facebook\n",
       "signup_flow                            0\n",
       "language                              en\n",
       "affiliate_channel                 direct\n",
       "affiliate_provider                direct\n",
       "first_affiliate_tracked        untracked\n",
       "signup_app                           Web\n",
       "first_device_type        Windows Desktop\n",
       "first_browser                    Firefox\n",
       "country_destination                  NDF"
      ]
     },
     "execution_count": 11,
     "metadata": {},
     "output_type": "execute_result"
    }
   ],
   "source": [
    "df1.sample().T"
   ]
  },
  {
   "cell_type": "markdown",
   "id": "Krf_KZMQ4CAe",
   "metadata": {
    "id": "Krf_KZMQ4CAe"
   },
   "source": [
    "## 1.2. Checking for NA Data"
   ]
  },
  {
   "cell_type": "code",
   "execution_count": 12,
   "id": "Zu7Jn_-b4CHr",
   "metadata": {
    "colab": {
     "base_uri": "https://localhost:8080/"
    },
    "executionInfo": {
     "elapsed": 577,
     "status": "ok",
     "timestamp": 1647343393960,
     "user": {
      "displayName": "Renan Pacheco",
      "photoUrl": "https://lh3.googleusercontent.com/a-/AOh14GiRv7UuC3atWqKJu9tdNt8L6TW4viUyBcgTc6e1sw=s64",
      "userId": "12718092000337794607"
     },
     "user_tz": 180
    },
    "id": "Zu7Jn_-b4CHr",
    "outputId": "bbb0a2b5-c0fb-4024-a5b1-17943f713855"
   },
   "outputs": [
    {
     "data": {
      "text/plain": [
       "id                              0\n",
       "date_account_created            0\n",
       "timestamp_first_active          0\n",
       "date_first_booking         124543\n",
       "gender                          0\n",
       "age                         87990\n",
       "signup_method                   0\n",
       "signup_flow                     0\n",
       "language                        0\n",
       "affiliate_channel               0\n",
       "affiliate_provider              0\n",
       "first_affiliate_tracked      6065\n",
       "signup_app                      0\n",
       "first_device_type               0\n",
       "first_browser                   0\n",
       "country_destination             0\n",
       "dtype: int64"
      ]
     },
     "execution_count": 12,
     "metadata": {},
     "output_type": "execute_result"
    }
   ],
   "source": [
    "df1.isna().sum()\n",
    "\n",
    "# Data which need to be converted from NA to actual usable data:\n",
    "\n",
    "## 'date_first_booking'\n",
    "## 'age'\n",
    "## 'first_affiliate_tracked'"
   ]
  },
  {
   "cell_type": "markdown",
   "id": "SPfP7Y144CME",
   "metadata": {
    "id": "SPfP7Y144CME"
   },
   "source": [
    "## 1.3. Changing the Data Types"
   ]
  },
  {
   "cell_type": "code",
   "execution_count": 13,
   "id": "q-v01Nj28RCL",
   "metadata": {
    "colab": {
     "base_uri": "https://localhost:8080/"
    },
    "executionInfo": {
     "elapsed": 7,
     "status": "ok",
     "timestamp": 1647343393961,
     "user": {
      "displayName": "Renan Pacheco",
      "photoUrl": "https://lh3.googleusercontent.com/a-/AOh14GiRv7UuC3atWqKJu9tdNt8L6TW4viUyBcgTc6e1sw=s64",
      "userId": "12718092000337794607"
     },
     "user_tz": 180
    },
    "id": "q-v01Nj28RCL",
    "outputId": "a17e1802-7007-4531-eb05-6737249b559b"
   },
   "outputs": [
    {
     "name": "stdout",
     "output_type": "stream",
     "text": [
      "Number of total columns before NA dropping: 16\n",
      "Number of total rows before NA dropping: 213451\n",
      "\n",
      "Number of total columns after NA dropping: 16\n",
      "Number of total rows after NA dropping: 68171\n"
     ]
    }
   ],
   "source": [
    "## Num primeiro momento (1º ciclo CRISP), valores NA não serão considerados durante a análise do modelo. Isso porque o objetivo é atingir velocidade \n",
    "## na apresentação dos resultados iniciais. Caso as variáveis 'date_first_booking', 'age' e 'first_affliate_tracked', em um 2º ciclo do projeto, sejam interessante \n",
    "## para a modelagem, então estes serão introduzidos como features relevantes para a análise.\n",
    "\n",
    "# Shape of dataframe containing NA:\n",
    "print( 'Number of total columns before NA dropping: {}'.format( df_raw.shape[1] ) )\n",
    "print( 'Number of total rows before NA dropping: {}'.format( df_raw.shape[0] ) )\n",
    "\n",
    "# Removing missing values (Containing NA):\n",
    "df1 = df1.dropna()\n",
    "\n",
    "# Shape of dataframe after removing NA:\n",
    "print( '\\nNumber of total columns after NA dropping: {}'.format( df1.shape[1] ) )\n",
    "print( 'Number of total rows after NA dropping: {}'.format( df1.shape[0] ) )"
   ]
  },
  {
   "cell_type": "code",
   "execution_count": 14,
   "id": "5_BCIcvK-BF7",
   "metadata": {
    "colab": {
     "base_uri": "https://localhost:8080/"
    },
    "executionInfo": {
     "elapsed": 6,
     "status": "ok",
     "timestamp": 1647343393961,
     "user": {
      "displayName": "Renan Pacheco",
      "photoUrl": "https://lh3.googleusercontent.com/a-/AOh14GiRv7UuC3atWqKJu9tdNt8L6TW4viUyBcgTc6e1sw=s64",
      "userId": "12718092000337794607"
     },
     "user_tz": 180
    },
    "id": "5_BCIcvK-BF7",
    "outputId": "344223cc-104b-4370-83b8-052bc789a7b1"
   },
   "outputs": [
    {
     "data": {
      "text/plain": [
       "id                          object\n",
       "date_account_created        object\n",
       "timestamp_first_active       int64\n",
       "date_first_booking          object\n",
       "gender                      object\n",
       "age                        float64\n",
       "signup_method               object\n",
       "signup_flow                  int64\n",
       "language                    object\n",
       "affiliate_channel           object\n",
       "affiliate_provider          object\n",
       "first_affiliate_tracked     object\n",
       "signup_app                  object\n",
       "first_device_type           object\n",
       "first_browser               object\n",
       "country_destination         object\n",
       "dtype: object"
      ]
     },
     "execution_count": 14,
     "metadata": {},
     "output_type": "execute_result"
    }
   ],
   "source": [
    "df1.dtypes"
   ]
  },
  {
   "cell_type": "code",
   "execution_count": 15,
   "id": "T33twBvk4CPo",
   "metadata": {
    "executionInfo": {
     "elapsed": 5,
     "status": "ok",
     "timestamp": 1647343393961,
     "user": {
      "displayName": "Renan Pacheco",
      "photoUrl": "https://lh3.googleusercontent.com/a-/AOh14GiRv7UuC3atWqKJu9tdNt8L6TW4viUyBcgTc6e1sw=s64",
      "userId": "12718092000337794607"
     },
     "user_tz": 180
    },
    "id": "T33twBvk4CPo"
   },
   "outputs": [],
   "source": [
    "# Date which the account was created ('date_account_created'):\n",
    "df1['date_account_created'] = pd.to_datetime( df1['date_account_created'] )\n",
    "\n",
    "# Timestamp that the user was active the first time ('timestamp_first_active'):\n",
    "df1['timestamp_first_active'] = pd.to_datetime( df1['timestamp_first_active'], format = '%Y%m%d%H%M%S' )\n",
    "\n",
    "## (In this case, it'll be necessary to not only change from 'int64' to 'datetime', but also to divide into an actual date pattern)\n",
    "\n",
    "# Date for when the user booked the first time ('date_first_booking'):\n",
    "df1['date_first_booking'] = pd.to_datetime( df1['date_first_booking'] )\n",
    "\n",
    "# Age:\n",
    "df1['age'] = df1['age'].astype( int )\n"
   ]
  },
  {
   "cell_type": "code",
   "execution_count": 16,
   "id": "MGp12gvU_MfC",
   "metadata": {
    "colab": {
     "base_uri": "https://localhost:8080/"
    },
    "executionInfo": {
     "elapsed": 6,
     "status": "ok",
     "timestamp": 1647343393962,
     "user": {
      "displayName": "Renan Pacheco",
      "photoUrl": "https://lh3.googleusercontent.com/a-/AOh14GiRv7UuC3atWqKJu9tdNt8L6TW4viUyBcgTc6e1sw=s64",
      "userId": "12718092000337794607"
     },
     "user_tz": 180
    },
    "id": "MGp12gvU_MfC",
    "outputId": "e65278e4-0171-462c-b6e6-be9f64ee643f"
   },
   "outputs": [
    {
     "data": {
      "text/plain": [
       "id                                 object\n",
       "date_account_created       datetime64[ns]\n",
       "timestamp_first_active     datetime64[ns]\n",
       "date_first_booking         datetime64[ns]\n",
       "gender                             object\n",
       "age                                 int64\n",
       "signup_method                      object\n",
       "signup_flow                         int64\n",
       "language                           object\n",
       "affiliate_channel                  object\n",
       "affiliate_provider                 object\n",
       "first_affiliate_tracked            object\n",
       "signup_app                         object\n",
       "first_device_type                  object\n",
       "first_browser                      object\n",
       "country_destination                object\n",
       "dtype: object"
      ]
     },
     "execution_count": 16,
     "metadata": {},
     "output_type": "execute_result"
    }
   ],
   "source": [
    "df1.dtypes"
   ]
  },
  {
   "cell_type": "markdown",
   "id": "zDlQrOMY4T5M",
   "metadata": {
    "id": "zDlQrOMY4T5M"
   },
   "source": [
    "## 1.4. Checking of Balanced Data"
   ]
  },
  {
   "cell_type": "code",
   "execution_count": 17,
   "id": "WNb5L-zh4Up3",
   "metadata": {
    "colab": {
     "base_uri": "https://localhost:8080/"
    },
    "executionInfo": {
     "elapsed": 5,
     "status": "ok",
     "timestamp": 1647343393962,
     "user": {
      "displayName": "Renan Pacheco",
      "photoUrl": "https://lh3.googleusercontent.com/a-/AOh14GiRv7UuC3atWqKJu9tdNt8L6TW4viUyBcgTc6e1sw=s64",
      "userId": "12718092000337794607"
     },
     "user_tz": 180
    },
    "id": "WNb5L-zh4Up3",
    "outputId": "4da4f5c4-9d78-40fa-b43c-8710ed8886b4"
   },
   "outputs": [
    {
     "data": {
      "text/plain": [
       "US       0.708864\n",
       "other    0.110854\n",
       "FR       0.054085\n",
       "IT       0.029763\n",
       "GB       0.025935\n",
       "ES       0.024864\n",
       "CA       0.015696\n",
       "DE       0.012454\n",
       "NL       0.008801\n",
       "AU       0.006366\n",
       "PT       0.002318\n",
       "Name: country_destination, dtype: float64"
      ]
     },
     "execution_count": 17,
     "metadata": {},
     "output_type": "execute_result"
    }
   ],
   "source": [
    "df1['country_destination'].value_counts( normalize=True )"
   ]
  },
  {
   "cell_type": "markdown",
   "id": "12ac874b",
   "metadata": {
    "id": "12ac874b"
   },
   "source": [
    "# 2. Data Filtering and Cleansing"
   ]
  },
  {
   "cell_type": "code",
   "execution_count": 18,
   "id": "1AQE4LlgA7LC",
   "metadata": {
    "executionInfo": {
     "elapsed": 11,
     "status": "ok",
     "timestamp": 1647343394329,
     "user": {
      "displayName": "Renan Pacheco",
      "photoUrl": "https://lh3.googleusercontent.com/a-/AOh14GiRv7UuC3atWqKJu9tdNt8L6TW4viUyBcgTc6e1sw=s64",
      "userId": "12718092000337794607"
     },
     "user_tz": 180
    },
    "id": "1AQE4LlgA7LC"
   },
   "outputs": [],
   "source": [
    "df2 = df1.copy()"
   ]
  },
  {
   "cell_type": "markdown",
   "id": "e2f21ed6",
   "metadata": {
    "id": "e2f21ed6"
   },
   "source": [
    "## 2.1 Filtering Rows"
   ]
  },
  {
   "cell_type": "code",
   "execution_count": 18,
   "id": "4ezZTjn3A0Of",
   "metadata": {
    "executionInfo": {
     "elapsed": 11,
     "status": "ok",
     "timestamp": 1647343394330,
     "user": {
      "displayName": "Renan Pacheco",
      "photoUrl": "https://lh3.googleusercontent.com/a-/AOh14GiRv7UuC3atWqKJu9tdNt8L6TW4viUyBcgTc6e1sw=s64",
      "userId": "12718092000337794607"
     },
     "user_tz": 180
    },
    "id": "4ezZTjn3A0Of"
   },
   "outputs": [],
   "source": []
  },
  {
   "cell_type": "markdown",
   "id": "e4e90dd9",
   "metadata": {
    "id": "e4e90dd9"
   },
   "source": [
    "## 2.2 Columns Selection"
   ]
  },
  {
   "cell_type": "code",
   "execution_count": 18,
   "id": "6a_0GRaNA3UE",
   "metadata": {
    "executionInfo": {
     "elapsed": 11,
     "status": "ok",
     "timestamp": 1647343394330,
     "user": {
      "displayName": "Renan Pacheco",
      "photoUrl": "https://lh3.googleusercontent.com/a-/AOh14GiRv7UuC3atWqKJu9tdNt8L6TW4viUyBcgTc6e1sw=s64",
      "userId": "12718092000337794607"
     },
     "user_tz": 180
    },
    "id": "6a_0GRaNA3UE"
   },
   "outputs": [],
   "source": []
  },
  {
   "cell_type": "markdown",
   "id": "b8b18734",
   "metadata": {
    "id": "b8b18734"
   },
   "source": [
    "# 3. Data Preparation"
   ]
  },
  {
   "cell_type": "code",
   "execution_count": 41,
   "id": "11062705",
   "metadata": {
    "executionInfo": {
     "elapsed": 255,
     "status": "ok",
     "timestamp": 1647344710841,
     "user": {
      "displayName": "Renan Pacheco",
      "photoUrl": "https://lh3.googleusercontent.com/a-/AOh14GiRv7UuC3atWqKJu9tdNt8L6TW4viUyBcgTc6e1sw=s64",
      "userId": "12718092000337794607"
     },
     "user_tz": 180
    },
    "id": "11062705"
   },
   "outputs": [],
   "source": [
    "df3 = df2.copy()"
   ]
  },
  {
   "cell_type": "code",
   "execution_count": 42,
   "id": "2fGXh99I9hIo",
   "metadata": {
    "colab": {
     "base_uri": "https://localhost:8080/"
    },
    "executionInfo": {
     "elapsed": 309,
     "status": "ok",
     "timestamp": 1647344713967,
     "user": {
      "displayName": "Renan Pacheco",
      "photoUrl": "https://lh3.googleusercontent.com/a-/AOh14GiRv7UuC3atWqKJu9tdNt8L6TW4viUyBcgTc6e1sw=s64",
      "userId": "12718092000337794607"
     },
     "user_tz": 180
    },
    "id": "2fGXh99I9hIo",
    "outputId": "9495f831-88a4-4a42-aecc-a74d90da131c"
   },
   "outputs": [
    {
     "data": {
      "text/plain": [
       "(68171, 16)"
      ]
     },
     "execution_count": 42,
     "metadata": {},
     "output_type": "execute_result"
    }
   ],
   "source": [
    "df3.shape"
   ]
  },
  {
   "cell_type": "code",
   "execution_count": 44,
   "id": "sOja90Fo33fU",
   "metadata": {
    "executionInfo": {
     "elapsed": 414,
     "status": "ok",
     "timestamp": 1647344719591,
     "user": {
      "displayName": "Renan Pacheco",
      "photoUrl": "https://lh3.googleusercontent.com/a-/AOh14GiRv7UuC3atWqKJu9tdNt8L6TW4viUyBcgTc6e1sw=s64",
      "userId": "12718092000337794607"
     },
     "user_tz": 180
    },
    "id": "sOja90Fo33fU"
   },
   "outputs": [],
   "source": [
    "# dummy variable:\n",
    "df3_dummy = pd.get_dummies( df3.drop( ['id', 'country_destination'], axis=1 ) )\n",
    "\n",
    "# Joining again 'id' and 'country_destination' with dummy variable:\n",
    "df3 = pd.concat( [ df3[['id', 'country_destination']], df3_dummy ], axis=1 )"
   ]
  },
  {
   "cell_type": "code",
   "execution_count": 45,
   "id": "y80up0oNZUpS",
   "metadata": {
    "colab": {
     "base_uri": "https://localhost:8080/"
    },
    "executionInfo": {
     "elapsed": 309,
     "status": "ok",
     "timestamp": 1647344723799,
     "user": {
      "displayName": "Renan Pacheco",
      "photoUrl": "https://lh3.googleusercontent.com/a-/AOh14GiRv7UuC3atWqKJu9tdNt8L6TW4viUyBcgTc6e1sw=s64",
      "userId": "12718092000337794607"
     },
     "user_tz": 180
    },
    "id": "y80up0oNZUpS",
    "outputId": "ec70c0eb-9064-4531-a7ac-7e90590d74f6"
   },
   "outputs": [
    {
     "data": {
      "text/plain": [
       "(68171, 117)"
      ]
     },
     "execution_count": 45,
     "metadata": {},
     "output_type": "execute_result"
    }
   ],
   "source": [
    "df3.shape"
   ]
  },
  {
   "cell_type": "markdown",
   "id": "bccc74c0",
   "metadata": {
    "id": "bccc74c0"
   },
   "source": [
    "# 4. Feature Selection of Variables"
   ]
  },
  {
   "cell_type": "code",
   "execution_count": 46,
   "id": "8ef73f12",
   "metadata": {
    "executionInfo": {
     "elapsed": 2,
     "status": "ok",
     "timestamp": 1647344728098,
     "user": {
      "displayName": "Renan Pacheco",
      "photoUrl": "https://lh3.googleusercontent.com/a-/AOh14GiRv7UuC3atWqKJu9tdNt8L6TW4viUyBcgTc6e1sw=s64",
      "userId": "12718092000337794607"
     },
     "user_tz": 180
    },
    "id": "8ef73f12"
   },
   "outputs": [],
   "source": [
    "# Dropping original dates due to lack of further information that could be used by the model:\n",
    "cols_drop = [ 'date_account_created', 'timestamp_first_active', 'date_first_booking' ]\n",
    "\n",
    "df4 = df3.drop( cols_drop, axis = 1 )"
   ]
  },
  {
   "cell_type": "markdown",
   "id": "dSBBsGwFBXU_",
   "metadata": {
    "id": "dSBBsGwFBXU_"
   },
   "source": [
    "# 5.0 Machine Learning Model - Neural Network MLP"
   ]
  },
  {
   "cell_type": "code",
   "execution_count": 47,
   "id": "ly_COQAEC6Fs",
   "metadata": {
    "executionInfo": {
     "elapsed": 2,
     "status": "ok",
     "timestamp": 1647344732381,
     "user": {
      "displayName": "Renan Pacheco",
      "photoUrl": "https://lh3.googleusercontent.com/a-/AOh14GiRv7UuC3atWqKJu9tdNt8L6TW4viUyBcgTc6e1sw=s64",
      "userId": "12718092000337794607"
     },
     "user_tz": 180
    },
    "id": "ly_COQAEC6Fs"
   },
   "outputs": [],
   "source": [
    "X = df4.drop( 'country_destination', axis=1 )\n",
    "\n",
    "y = df4['country_destination'].copy()"
   ]
  },
  {
   "cell_type": "code",
   "execution_count": 48,
   "id": "tnJYAKuhBfc7",
   "metadata": {
    "executionInfo": {
     "elapsed": 1,
     "status": "ok",
     "timestamp": 1647344735061,
     "user": {
      "displayName": "Renan Pacheco",
      "photoUrl": "https://lh3.googleusercontent.com/a-/AOh14GiRv7UuC3atWqKJu9tdNt8L6TW4viUyBcgTc6e1sw=s64",
      "userId": "12718092000337794607"
     },
     "user_tz": 180
    },
    "id": "tnJYAKuhBfc7"
   },
   "outputs": [],
   "source": [
    "# Split of prepared dataset into training and test datasets:\n",
    "X_train, X_test, y_train, y_test = ms.train_test_split( X, y, test_size=0.2, random_state=32 )"
   ]
  },
  {
   "cell_type": "code",
   "execution_count": 49,
   "id": "E2OAFuHNKnp8",
   "metadata": {
    "colab": {
     "base_uri": "https://localhost:8080/"
    },
    "executionInfo": {
     "elapsed": 257,
     "status": "ok",
     "timestamp": 1647344738511,
     "user": {
      "displayName": "Renan Pacheco",
      "photoUrl": "https://lh3.googleusercontent.com/a-/AOh14GiRv7UuC3atWqKJu9tdNt8L6TW4viUyBcgTc6e1sw=s64",
      "userId": "12718092000337794607"
     },
     "user_tz": 180
    },
    "id": "E2OAFuHNKnp8",
    "outputId": "4b08c23d-7b89-45de-97a9-80ba2c0677a7"
   },
   "outputs": [
    {
     "name": "stdout",
     "output_type": "stream",
     "text": [
      "Shape for training set: (54536, 112)\n",
      "Shape for test set: (13635, 112)\n"
     ]
    }
   ],
   "source": [
    "x_train = X_train.drop( 'id', axis=1 )\n",
    "x_test = X_test.drop( 'id', axis=1 )\n",
    "\n",
    "print( 'Shape for training set: {}'.format( x_train.shape ) )\n",
    "print( 'Shape for test set: {}'.format( x_test.shape ) )"
   ]
  },
  {
   "cell_type": "markdown",
   "id": "Bxt0X_0RKnPr",
   "metadata": {
    "id": "Bxt0X_0RKnPr"
   },
   "source": [
    "## 5.1. Transforming the categorical variables"
   ]
  },
  {
   "cell_type": "code",
   "execution_count": 50,
   "id": "TzAQ-_1IK69_",
   "metadata": {
    "executionInfo": {
     "elapsed": 242,
     "status": "ok",
     "timestamp": 1647344746160,
     "user": {
      "displayName": "Renan Pacheco",
      "photoUrl": "https://lh3.googleusercontent.com/a-/AOh14GiRv7UuC3atWqKJu9tdNt8L6TW4viUyBcgTc6e1sw=s64",
      "userId": "12718092000337794607"
     },
     "user_tz": 180
    },
    "id": "TzAQ-_1IK69_"
   },
   "outputs": [],
   "source": [
    "ohe = pp.OneHotEncoder()\n",
    "\n",
    "# While transforming the categorical attributes (i.e. y_train) by using the One Hot Encoding transformation method, one needs\n",
    "# to perform it within the Neural Network (NN):\n",
    "y_train_nn = ohe.fit_transform( y_train.values.reshape( -1, 1 ) ).toarray()"
   ]
  },
  {
   "cell_type": "code",
   "execution_count": 51,
   "id": "OEWux9Oa2Cej",
   "metadata": {
    "colab": {
     "base_uri": "https://localhost:8080/"
    },
    "executionInfo": {
     "elapsed": 236,
     "status": "ok",
     "timestamp": 1647344748710,
     "user": {
      "displayName": "Renan Pacheco",
      "photoUrl": "https://lh3.googleusercontent.com/a-/AOh14GiRv7UuC3atWqKJu9tdNt8L6TW4viUyBcgTc6e1sw=s64",
      "userId": "12718092000337794607"
     },
     "user_tz": 180
    },
    "id": "OEWux9Oa2Cej",
    "outputId": "23524d3f-e51b-40e4-ffba-b90c220fc470"
   },
   "outputs": [
    {
     "data": {
      "text/plain": [
       "array([[0., 0., 0., ..., 0., 1., 0.],\n",
       "       [0., 0., 0., ..., 0., 0., 0.],\n",
       "       [0., 0., 0., ..., 0., 0., 0.],\n",
       "       ...,\n",
       "       [0., 0., 0., ..., 0., 1., 0.],\n",
       "       [0., 0., 0., ..., 0., 0., 0.],\n",
       "       [0., 0., 0., ..., 0., 1., 0.]])"
      ]
     },
     "execution_count": 51,
     "metadata": {},
     "output_type": "execute_result"
    }
   ],
   "source": [
    "y_train_nn"
   ]
  },
  {
   "cell_type": "markdown",
   "id": "z9KYIwkGDuun",
   "metadata": {
    "id": "z9KYIwkGDuun"
   },
   "source": [
    "## 5.2. Building up the Neural Network"
   ]
  },
  {
   "cell_type": "code",
   "execution_count": 52,
   "id": "qBjLgwt4FUQc",
   "metadata": {
    "colab": {
     "base_uri": "https://localhost:8080/"
    },
    "executionInfo": {
     "elapsed": 219405,
     "status": "ok",
     "timestamp": 1647345094659,
     "user": {
      "displayName": "Renan Pacheco",
      "photoUrl": "https://lh3.googleusercontent.com/a-/AOh14GiRv7UuC3atWqKJu9tdNt8L6TW4viUyBcgTc6e1sw=s64",
      "userId": "12718092000337794607"
     },
     "user_tz": 180
    },
    "id": "qBjLgwt4FUQc",
    "outputId": "a44b5cd1-f371-4a5b-97fa-dd70efa14fb8"
   },
   "outputs": [
    {
     "name": "stdout",
     "output_type": "stream",
     "text": [
      "Epoch 1/100\n",
      "1705/1705 [==============================] - 3s 2ms/step - loss: 1.3834 - accuracy: 0.7006\n",
      "Epoch 2/100\n",
      "1705/1705 [==============================] - 3s 2ms/step - loss: 1.2566 - accuracy: 0.7081\n",
      "Epoch 3/100\n",
      "1705/1705 [==============================] - 3s 2ms/step - loss: 1.2428 - accuracy: 0.7080\n",
      "Epoch 4/100\n",
      "1705/1705 [==============================] - 3s 2ms/step - loss: 1.2248 - accuracy: 0.7080\n",
      "Epoch 5/100\n",
      "1705/1705 [==============================] - 3s 2ms/step - loss: 1.1998 - accuracy: 0.7087\n",
      "Epoch 6/100\n",
      "1705/1705 [==============================] - 3s 2ms/step - loss: 1.1837 - accuracy: 0.7085\n",
      "Epoch 7/100\n",
      "1705/1705 [==============================] - 3s 2ms/step - loss: 1.1676 - accuracy: 0.7086\n",
      "Epoch 8/100\n",
      "1705/1705 [==============================] - 3s 2ms/step - loss: 1.1520 - accuracy: 0.7087\n",
      "Epoch 9/100\n",
      "1705/1705 [==============================] - 3s 2ms/step - loss: 1.1442 - accuracy: 0.7089\n",
      "Epoch 10/100\n",
      "1705/1705 [==============================] - 3s 2ms/step - loss: 1.1371 - accuracy: 0.7089\n",
      "Epoch 11/100\n",
      "1705/1705 [==============================] - 3s 2ms/step - loss: 1.1337 - accuracy: 0.7093\n",
      "Epoch 12/100\n",
      "1705/1705 [==============================] - 3s 2ms/step - loss: 1.1316 - accuracy: 0.7095\n",
      "Epoch 13/100\n",
      "1705/1705 [==============================] - 3s 2ms/step - loss: 1.1308 - accuracy: 0.7095\n",
      "Epoch 14/100\n",
      "1705/1705 [==============================] - 3s 2ms/step - loss: 1.1293 - accuracy: 0.7095\n",
      "Epoch 15/100\n",
      "1705/1705 [==============================] - 3s 2ms/step - loss: 1.1288 - accuracy: 0.7097\n",
      "Epoch 16/100\n",
      "1705/1705 [==============================] - 3s 2ms/step - loss: 1.1281 - accuracy: 0.7095\n",
      "Epoch 17/100\n",
      "1705/1705 [==============================] - 3s 2ms/step - loss: 1.1267 - accuracy: 0.7096\n",
      "Epoch 18/100\n",
      "1705/1705 [==============================] - 3s 2ms/step - loss: 1.1263 - accuracy: 0.7097\n",
      "Epoch 19/100\n",
      "1705/1705 [==============================] - 3s 2ms/step - loss: 1.1246 - accuracy: 0.7097\n",
      "Epoch 20/100\n",
      "1705/1705 [==============================] - 3s 2ms/step - loss: 1.1240 - accuracy: 0.7097\n",
      "Epoch 21/100\n",
      "1705/1705 [==============================] - 3s 2ms/step - loss: 1.1240 - accuracy: 0.7097\n",
      "Epoch 22/100\n",
      "1705/1705 [==============================] - 3s 2ms/step - loss: 1.1230 - accuracy: 0.7098\n",
      "Epoch 23/100\n",
      "1705/1705 [==============================] - 3s 2ms/step - loss: 1.1221 - accuracy: 0.7097\n",
      "Epoch 24/100\n",
      "1705/1705 [==============================] - 5s 3ms/step - loss: 1.1217 - accuracy: 0.7098\n",
      "Epoch 25/100\n",
      "1705/1705 [==============================] - 3s 2ms/step - loss: 1.1212 - accuracy: 0.7097\n",
      "Epoch 26/100\n",
      "1705/1705 [==============================] - 3s 2ms/step - loss: 1.1201 - accuracy: 0.7098\n",
      "Epoch 27/100\n",
      "1705/1705 [==============================] - 3s 2ms/step - loss: 1.1198 - accuracy: 0.7097\n",
      "Epoch 28/100\n",
      "1705/1705 [==============================] - 3s 2ms/step - loss: 1.1182 - accuracy: 0.7099\n",
      "Epoch 29/100\n",
      "1705/1705 [==============================] - 3s 2ms/step - loss: 1.1183 - accuracy: 0.7100\n",
      "Epoch 30/100\n",
      "1705/1705 [==============================] - 3s 2ms/step - loss: 1.1173 - accuracy: 0.7100\n",
      "Epoch 31/100\n",
      "1705/1705 [==============================] - 3s 2ms/step - loss: 1.1177 - accuracy: 0.7099\n",
      "Epoch 32/100\n",
      "1705/1705 [==============================] - 3s 2ms/step - loss: 1.1158 - accuracy: 0.7100\n",
      "Epoch 33/100\n",
      "1705/1705 [==============================] - 3s 2ms/step - loss: 1.1155 - accuracy: 0.7099\n",
      "Epoch 34/100\n",
      "1705/1705 [==============================] - 3s 2ms/step - loss: 1.1151 - accuracy: 0.7099\n",
      "Epoch 35/100\n",
      "1705/1705 [==============================] - 3s 2ms/step - loss: 1.1144 - accuracy: 0.7100\n",
      "Epoch 36/100\n",
      "1705/1705 [==============================] - 3s 2ms/step - loss: 1.1141 - accuracy: 0.7100\n",
      "Epoch 37/100\n",
      "1705/1705 [==============================] - 3s 2ms/step - loss: 1.1135 - accuracy: 0.7101\n",
      "Epoch 38/100\n",
      "1705/1705 [==============================] - 3s 2ms/step - loss: 1.1135 - accuracy: 0.7101\n",
      "Epoch 39/100\n",
      "1705/1705 [==============================] - 3s 2ms/step - loss: 1.1119 - accuracy: 0.7100\n",
      "Epoch 40/100\n",
      "1705/1705 [==============================] - 3s 2ms/step - loss: 1.1120 - accuracy: 0.7102\n",
      "Epoch 41/100\n",
      "1705/1705 [==============================] - 3s 2ms/step - loss: 1.1118 - accuracy: 0.7102\n",
      "Epoch 42/100\n",
      "1705/1705 [==============================] - 3s 2ms/step - loss: 1.1118 - accuracy: 0.7102\n",
      "Epoch 43/100\n",
      "1705/1705 [==============================] - 3s 2ms/step - loss: 1.1105 - accuracy: 0.7102\n",
      "Epoch 44/100\n",
      "1705/1705 [==============================] - 3s 2ms/step - loss: 1.1105 - accuracy: 0.7103\n",
      "Epoch 45/100\n",
      "1705/1705 [==============================] - 3s 2ms/step - loss: 1.1098 - accuracy: 0.7104\n",
      "Epoch 46/100\n",
      "1705/1705 [==============================] - 3s 2ms/step - loss: 1.1102 - accuracy: 0.7101\n",
      "Epoch 47/100\n",
      "1705/1705 [==============================] - 3s 2ms/step - loss: 1.1097 - accuracy: 0.7103\n",
      "Epoch 48/100\n",
      "1705/1705 [==============================] - 3s 2ms/step - loss: 1.1090 - accuracy: 0.7105\n",
      "Epoch 49/100\n",
      "1705/1705 [==============================] - 3s 2ms/step - loss: 1.1087 - accuracy: 0.7104\n",
      "Epoch 50/100\n",
      "1705/1705 [==============================] - 3s 2ms/step - loss: 1.1082 - accuracy: 0.7105\n",
      "Epoch 51/100\n",
      "1705/1705 [==============================] - 3s 2ms/step - loss: 1.1078 - accuracy: 0.7105\n",
      "Epoch 52/100\n",
      "1705/1705 [==============================] - 3s 2ms/step - loss: 1.1078 - accuracy: 0.7106\n",
      "Epoch 53/100\n",
      "1705/1705 [==============================] - 3s 2ms/step - loss: 1.1078 - accuracy: 0.7104\n",
      "Epoch 54/100\n",
      "1705/1705 [==============================] - 3s 2ms/step - loss: 1.1073 - accuracy: 0.7107\n",
      "Epoch 55/100\n",
      "1705/1705 [==============================] - 3s 2ms/step - loss: 1.1070 - accuracy: 0.7106\n",
      "Epoch 56/100\n",
      "1705/1705 [==============================] - 3s 2ms/step - loss: 1.1064 - accuracy: 0.7107\n",
      "Epoch 57/100\n",
      "1705/1705 [==============================] - 3s 2ms/step - loss: 1.1063 - accuracy: 0.7106\n",
      "Epoch 58/100\n",
      "1705/1705 [==============================] - 3s 2ms/step - loss: 1.1062 - accuracy: 0.7107\n",
      "Epoch 59/100\n",
      "1705/1705 [==============================] - 3s 2ms/step - loss: 1.1068 - accuracy: 0.7108\n",
      "Epoch 60/100\n",
      "1705/1705 [==============================] - 3s 2ms/step - loss: 1.1050 - accuracy: 0.7107\n",
      "Epoch 61/100\n",
      "1705/1705 [==============================] - 3s 2ms/step - loss: 1.1047 - accuracy: 0.7111\n",
      "Epoch 62/100\n",
      "1705/1705 [==============================] - 3s 2ms/step - loss: 1.1050 - accuracy: 0.7109\n",
      "Epoch 63/100\n",
      "1705/1705 [==============================] - 3s 2ms/step - loss: 1.1048 - accuracy: 0.7109\n",
      "Epoch 64/100\n",
      "1705/1705 [==============================] - 3s 2ms/step - loss: 1.1048 - accuracy: 0.7107\n",
      "Epoch 65/100\n",
      "1705/1705 [==============================] - 3s 2ms/step - loss: 1.1047 - accuracy: 0.7111\n",
      "Epoch 66/100\n",
      "1705/1705 [==============================] - 3s 2ms/step - loss: 1.1058 - accuracy: 0.7111\n",
      "Epoch 67/100\n",
      "1705/1705 [==============================] - 3s 2ms/step - loss: 1.1040 - accuracy: 0.7110\n",
      "Epoch 68/100\n",
      "1705/1705 [==============================] - 3s 2ms/step - loss: 1.1041 - accuracy: 0.7109\n",
      "Epoch 69/100\n",
      "1705/1705 [==============================] - 3s 2ms/step - loss: 1.1032 - accuracy: 0.7114\n",
      "Epoch 70/100\n",
      "1705/1705 [==============================] - 3s 2ms/step - loss: 1.1034 - accuracy: 0.7112\n",
      "Epoch 71/100\n",
      "1705/1705 [==============================] - 3s 2ms/step - loss: 1.1029 - accuracy: 0.7113\n",
      "Epoch 72/100\n",
      "1705/1705 [==============================] - 3s 2ms/step - loss: 1.1032 - accuracy: 0.7111\n",
      "Epoch 73/100\n",
      "1705/1705 [==============================] - 3s 2ms/step - loss: 1.1029 - accuracy: 0.7115\n",
      "Epoch 74/100\n",
      "1705/1705 [==============================] - 3s 2ms/step - loss: 1.1020 - accuracy: 0.7111\n",
      "Epoch 75/100\n",
      "1705/1705 [==============================] - 3s 2ms/step - loss: 1.1021 - accuracy: 0.7113\n",
      "Epoch 76/100\n",
      "1705/1705 [==============================] - 3s 2ms/step - loss: 1.1022 - accuracy: 0.7114\n",
      "Epoch 77/100\n",
      "1705/1705 [==============================] - 3s 2ms/step - loss: 1.1020 - accuracy: 0.7113\n",
      "Epoch 78/100\n",
      "1705/1705 [==============================] - 3s 2ms/step - loss: 1.1013 - accuracy: 0.7116\n",
      "Epoch 79/100\n",
      "1705/1705 [==============================] - 3s 2ms/step - loss: 1.1017 - accuracy: 0.7113\n",
      "Epoch 80/100\n",
      "1705/1705 [==============================] - 3s 2ms/step - loss: 1.1013 - accuracy: 0.7116\n",
      "Epoch 81/100\n",
      "1705/1705 [==============================] - 3s 2ms/step - loss: 1.1009 - accuracy: 0.7114\n",
      "Epoch 82/100\n",
      "1705/1705 [==============================] - 3s 2ms/step - loss: 1.1001 - accuracy: 0.7117\n",
      "Epoch 83/100\n",
      "1705/1705 [==============================] - 3s 2ms/step - loss: 1.1010 - accuracy: 0.7114\n",
      "Epoch 84/100\n",
      "1705/1705 [==============================] - 3s 2ms/step - loss: 1.1006 - accuracy: 0.7115\n",
      "Epoch 85/100\n",
      "1705/1705 [==============================] - 3s 2ms/step - loss: 1.1004 - accuracy: 0.7118\n",
      "Epoch 86/100\n",
      "1705/1705 [==============================] - 3s 2ms/step - loss: 1.0998 - accuracy: 0.7117\n",
      "Epoch 87/100\n",
      "1705/1705 [==============================] - 3s 2ms/step - loss: 1.1001 - accuracy: 0.7115\n",
      "Epoch 88/100\n",
      "1705/1705 [==============================] - 3s 2ms/step - loss: 1.1002 - accuracy: 0.7115\n",
      "Epoch 89/100\n",
      "1705/1705 [==============================] - 3s 2ms/step - loss: 1.0993 - accuracy: 0.7116\n",
      "Epoch 90/100\n",
      "1705/1705 [==============================] - 3s 2ms/step - loss: 1.0995 - accuracy: 0.7120\n",
      "Epoch 91/100\n",
      "1705/1705 [==============================] - 3s 2ms/step - loss: 1.0990 - accuracy: 0.7118\n",
      "Epoch 92/100\n",
      "1705/1705 [==============================] - 3s 2ms/step - loss: 1.0988 - accuracy: 0.7119\n",
      "Epoch 93/100\n",
      "1705/1705 [==============================] - 3s 2ms/step - loss: 1.0990 - accuracy: 0.7121\n",
      "Epoch 94/100\n",
      "1705/1705 [==============================] - 3s 2ms/step - loss: 1.0989 - accuracy: 0.7119\n",
      "Epoch 95/100\n",
      "1705/1705 [==============================] - 3s 2ms/step - loss: 1.0998 - accuracy: 0.7118\n",
      "Epoch 96/100\n",
      "1705/1705 [==============================] - 3s 2ms/step - loss: 1.0986 - accuracy: 0.7119\n",
      "Epoch 97/100\n",
      "1705/1705 [==============================] - 3s 2ms/step - loss: 1.0985 - accuracy: 0.7118\n",
      "Epoch 98/100\n",
      "1705/1705 [==============================] - 3s 2ms/step - loss: 1.0982 - accuracy: 0.7118\n",
      "Epoch 99/100\n",
      "1705/1705 [==============================] - 3s 2ms/step - loss: 1.0980 - accuracy: 0.7121\n",
      "Epoch 100/100\n",
      "1705/1705 [==============================] - 3s 2ms/step - loss: 1.0979 - accuracy: 0.7121\n"
     ]
    },
    {
     "data": {
      "text/plain": [
       "<keras.callbacks.History at 0x7f95b83c2d90>"
      ]
     },
     "execution_count": 52,
     "metadata": {},
     "output_type": "execute_result"
    }
   ],
   "source": [
    "# Model definition:\n",
    "model = ml.Sequential()\n",
    "\n",
    "# First layer of neural network:\n",
    "model.add( l.Dense( 128, input_dim=x_train.shape[1], activation='relu' ) )  \n",
    "\n",
    "# Second or exit layer for neural network:\n",
    "model.add( l.Dense( 11, activation='softmax' ) )\n",
    "\n",
    "# Compiling the model:\n",
    "model.compile( loss='categorical_crossentropy', optimizer='adam', metrics=['accuracy'] )\n",
    "\n",
    "# Training the model:\n",
    "model.fit( x_train, y_train_nn, epochs=100 )\n",
    "\n",
    "  \n"
   ]
  },
  {
   "cell_type": "markdown",
   "id": "b8afdd40",
   "metadata": {
    "id": "b8afdd40"
   },
   "source": [
    "# 6. Neural Network (NN) Performance"
   ]
  },
  {
   "cell_type": "markdown",
   "id": "-y6BxoQxEmoS",
   "metadata": {
    "id": "-y6BxoQxEmoS"
   },
   "source": [
    "## 6.1. Evaluating the prediction performance"
   ]
  },
  {
   "cell_type": "code",
   "execution_count": 54,
   "id": "634115c8",
   "metadata": {
    "executionInfo": {
     "elapsed": 5582,
     "status": "ok",
     "timestamp": 1647345229392,
     "user": {
      "displayName": "Renan Pacheco",
      "photoUrl": "https://lh3.googleusercontent.com/a-/AOh14GiRv7UuC3atWqKJu9tdNt8L6TW4viUyBcgTc6e1sw=s64",
      "userId": "12718092000337794607"
     },
     "user_tz": 180
    },
    "id": "634115c8"
   },
   "outputs": [],
   "source": [
    "# Evaluating the prediction after testing:\n",
    "pred_nn = model.predict( x_test )\n",
    "\n",
    "# Evaluating the inverted prediction:\n",
    "yhat_nn = ohe.inverse_transform( pred_nn )\n",
    "\n",
    "# Prediction prepare:\n",
    "y_test_nn = y_test.to_numpy()\n",
    "\n",
    "yhat_nn = yhat_nn.reshape( 1, -1 )[0]"
   ]
  },
  {
   "cell_type": "markdown",
   "id": "49d15b26",
   "metadata": {
    "id": "49d15b26"
   },
   "source": [
    "## 6.2. Post-Evaluation of Metrics"
   ]
  },
  {
   "cell_type": "code",
   "execution_count": 56,
   "id": "zKRaBMExW3JX",
   "metadata": {
    "colab": {
     "base_uri": "https://localhost:8080/"
    },
    "executionInfo": {
     "elapsed": 309,
     "status": "ok",
     "timestamp": 1647345233333,
     "user": {
      "displayName": "Renan Pacheco",
      "photoUrl": "https://lh3.googleusercontent.com/a-/AOh14GiRv7UuC3atWqKJu9tdNt8L6TW4viUyBcgTc6e1sw=s64",
      "userId": "12718092000337794607"
     },
     "user_tz": 180
    },
    "id": "zKRaBMExW3JX",
    "outputId": "b4b1a7d6-b859-43b7-81b6-353c14a30bd0"
   },
   "outputs": [
    {
     "name": "stdout",
     "output_type": "stream",
     "text": [
      "Accuracy from model: 70.3043637697103%\n"
     ]
    }
   ],
   "source": [
    "# Accuracy\n",
    "accur_nn = m.accuracy_score( y_test_nn, yhat_nn )\n",
    "\n",
    "print( 'Accuracy from model: {}%'.format( accur_nn*100 ) )"
   ]
  },
  {
   "cell_type": "code",
   "execution_count": 57,
   "id": "zaqh5E05W3Q1",
   "metadata": {
    "colab": {
     "base_uri": "https://localhost:8080/",
     "height": 689
    },
    "executionInfo": {
     "elapsed": 1334,
     "status": "ok",
     "timestamp": 1647345237021,
     "user": {
      "displayName": "Renan Pacheco",
      "photoUrl": "https://lh3.googleusercontent.com/a-/AOh14GiRv7UuC3atWqKJu9tdNt8L6TW4viUyBcgTc6e1sw=s64",
      "userId": "12718092000337794607"
     },
     "user_tz": 180
    },
    "id": "zaqh5E05W3Q1",
    "outputId": "21378b0a-6dc3-4e9a-a8a9-901ded93fbbe"
   },
   "outputs": [
    {
     "data": {
      "image/png": "[encoded data removed]",
      "text/plain": [
       "<Figure size 864x864 with 2 Axes>"
      ]
     },
     "metadata": {},
     "output_type": "display_data"
    }
   ],
   "source": [
    "# Confusion matrix\n",
    "mt.plot_confusion_matrix( y_test_nn, yhat_nn, normalize=False, figsize=(12, 12) );"
   ]
  },
  {
   "cell_type": "code",
   "execution_count": 58,
   "id": "zjlITP0LW3ZG",
   "metadata": {
    "colab": {
     "base_uri": "https://localhost:8080/"
    },
    "executionInfo": {
     "elapsed": 309,
     "status": "ok",
     "timestamp": 1647345242754,
     "user": {
      "displayName": "Renan Pacheco",
      "photoUrl": "https://lh3.googleusercontent.com/a-/AOh14GiRv7UuC3atWqKJu9tdNt8L6TW4viUyBcgTc6e1sw=s64",
      "userId": "12718092000337794607"
     },
     "user_tz": 180
    },
    "id": "zjlITP0LW3ZG",
    "outputId": "afffe5c4-117e-44fc-b84f-3e89b455a33c"
   },
   "outputs": [
    {
     "name": "stdout",
     "output_type": "stream",
     "text": [
      "Balanced accuracy for NN: 9.110960495101633%\n"
     ]
    }
   ],
   "source": [
    "# Balanced Accuracy\n",
    "balanced_accur_nn = m.balanced_accuracy_score(y_test_nn, yhat_nn)\n",
    "\n",
    "print( 'Balanced accuracy for NN: {}%'.format(balanced_accur_nn*100) )"
   ]
  },
  {
   "cell_type": "code",
   "execution_count": 62,
   "id": "U_qJJzqkcyZm",
   "metadata": {
    "colab": {
     "base_uri": "https://localhost:8080/"
    },
    "executionInfo": {
     "elapsed": 411,
     "status": "ok",
     "timestamp": 1647345797655,
     "user": {
      "displayName": "Renan Pacheco",
      "photoUrl": "https://lh3.googleusercontent.com/a-/AOh14GiRv7UuC3atWqKJu9tdNt8L6TW4viUyBcgTc6e1sw=s64",
      "userId": "12718092000337794607"
     },
     "user_tz": 180
    },
    "id": "U_qJJzqkcyZm",
    "outputId": "d46947a9-5b3a-40a2-8fe2-136c2fee9d19"
   },
   "outputs": [
    {
     "name": "stderr",
     "output_type": "stream",
     "text": [
      "/usr/local/lib/python3.7/dist-packages/sklearn/metrics/_classification.py:1318: UndefinedMetricWarning: Precision and F-score are ill-defined and being set to 0.0 in labels with no predicted samples. Use `zero_division` parameter to control this behavior.\n",
      "  _warn_prf(average, modifier, msg_start, len(result))\n",
      "/usr/local/lib/python3.7/dist-packages/sklearn/metrics/_classification.py:1318: UndefinedMetricWarning: Precision and F-score are ill-defined and being set to 0.0 in labels with no predicted samples. Use `zero_division` parameter to control this behavior.\n",
      "  _warn_prf(average, modifier, msg_start, len(result))\n"
     ]
    },
    {
     "name": "stdout",
     "output_type": "stream",
     "text": [
      "              precision    recall  f1-score   support\n",
      "\n",
      "          AU       0.00      0.00      0.00       101\n",
      "          CA       0.00      0.00      0.00       214\n",
      "          DE       0.00      0.00      0.00       170\n",
      "          ES       0.00      0.00      0.00       345\n",
      "          FR       0.00      0.00      0.00       710\n",
      "          GB       0.20      0.00      0.01       344\n",
      "          IT       0.10      0.00      0.00       423\n",
      "          NL       0.00      0.00      0.00       128\n",
      "          PT       0.00      0.00      0.00        36\n",
      "          US       0.71      1.00      0.83      9624\n",
      "       other       0.08      0.00      0.00      1540\n",
      "\n",
      "    accuracy                           0.70     13635\n",
      "   macro avg       0.10      0.09      0.08     13635\n",
      "weighted avg       0.52      0.70      0.58     13635\n",
      "\n"
     ]
    },
    {
     "name": "stderr",
     "output_type": "stream",
     "text": [
      "/usr/local/lib/python3.7/dist-packages/sklearn/metrics/_classification.py:1318: UndefinedMetricWarning: Precision and F-score are ill-defined and being set to 0.0 in labels with no predicted samples. Use `zero_division` parameter to control this behavior.\n",
      "  _warn_prf(average, modifier, msg_start, len(result))\n"
     ]
    }
   ],
   "source": [
    "# Classification Report:\n",
    "print( m.classification_report(y_test_nn, yhat_nn) )"
   ]
  },
  {
   "cell_type": "code",
   "execution_count": 59,
   "id": "7SSq_1KiE0Cd",
   "metadata": {
    "colab": {
     "base_uri": "https://localhost:8080/"
    },
    "executionInfo": {
     "elapsed": 308,
     "status": "ok",
     "timestamp": 1647345245929,
     "user": {
      "displayName": "Renan Pacheco",
      "photoUrl": "https://lh3.googleusercontent.com/a-/AOh14GiRv7UuC3atWqKJu9tdNt8L6TW4viUyBcgTc6e1sw=s64",
      "userId": "12718092000337794607"
     },
     "user_tz": 180
    },
    "id": "7SSq_1KiE0Cd",
    "outputId": "25bc93f2-04f8-4ef1-c0d0-2f0cb1399985"
   },
   "outputs": [
    {
     "name": "stdout",
     "output_type": "stream",
     "text": [
      "Kappa Score for NN: 0.03191446597184955%\n"
     ]
    }
   ],
   "source": [
    "# Kappa Metrics:\n",
    "kappa_nn = m.cohen_kappa_score(y_test_nn, yhat_nn)\n",
    "\n",
    "print( 'Kappa Score for NN: {}%'.format(kappa_nn*100) )"
   ]
  },
  {
   "cell_type": "code",
   "execution_count": 30,
   "id": "XSEh2YnxE0eb",
   "metadata": {
    "executionInfo": {
     "elapsed": 7,
     "status": "ok",
     "timestamp": 1647343706972,
     "user": {
      "displayName": "Renan Pacheco",
      "photoUrl": "https://lh3.googleusercontent.com/a-/AOh14GiRv7UuC3atWqKJu9tdNt8L6TW4viUyBcgTc6e1sw=s64",
      "userId": "12718092000337794607"
     },
     "user_tz": 180
    },
    "id": "XSEh2YnxE0eb"
   },
   "outputs": [],
   "source": []
  }
 ],
 "metadata": {
  "colab": {
   "collapsed_sections": [
    "858f8c8e",
    "40ced25d",
    "ffb4afbf",
    "12ac874b"
   ],
   "name": "Ciclo01_v02-Imbalanced_Metrics.ipynb",
   "provenance": []
  },
  "kernelspec": {
   "display_name": "Python 3 (ipykernel)",
   "language": "python",
   "name": "python3"
  },
  "language_info": {
   "codemirror_mode": {
    "name": "ipython",
    "version": 3
   },
   "file_extension": ".py",
   "mimetype": "text/x-python",
   "name": "python",
   "nbconvert_exporter": "python",
   "pygments_lexer": "ipython3",
   "version": "3.9.2"
  },
  "varInspector": {
   "cols": {
    "lenName": 16,
    "lenType": 16,
    "lenVar": 40
   },
   "kernels_config": {
    "python": {
     "delete_cmd_postfix": "",
     "delete_cmd_prefix": "del ",
     "library": "var_list.py",
     "varRefreshCmd": "print(var_dic_list())"
    },
    "r": {
     "delete_cmd_postfix": ") ",
     "delete_cmd_prefix": "rm(",
     "library": "var_list.r",
     "varRefreshCmd": "cat(var_dic_list()) "
    }
   },
   "types_to_exclude": [
    "module",
    "function",
    "builtin_function_or_method",
    "instance",
    "_Feature"
   ],
   "window_display": false
  }
 },
 "nbformat": 4,
 "nbformat_minor": 5
}
