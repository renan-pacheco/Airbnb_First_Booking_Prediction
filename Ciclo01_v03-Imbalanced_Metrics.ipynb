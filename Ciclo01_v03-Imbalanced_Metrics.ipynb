{
 "cells": [
  {
   "cell_type": "markdown",
   "id": "858f8c8e",
   "metadata": {
    "heading_collapsed": true,
    "id": "858f8c8e"
   },
   "source": [
    "# Airbnb's Business Question and Plan for Success"
   ]
  },
  {
   "cell_type": "markdown",
   "id": "c39171b1",
   "metadata": {
    "hidden": true,
    "id": "c39171b1"
   },
   "source": [
    "## Understanding the Business Question"
   ]
  },
  {
   "cell_type": "markdown",
   "id": "28d37740",
   "metadata": {
    "hidden": true,
    "id": "28d37740"
   },
   "source": [
    "-- The Objective of the Business Problem:\n",
    "\n",
    "    -- 1.0. Prediction of which country a new user's first booking destination will be upon using Airbnb.\n",
    "\n",
    "-- Proposal for Solution:\n",
    "\n",
    "-- "
   ]
  },
  {
   "cell_type": "markdown",
   "id": "2bfb4a01",
   "metadata": {
    "hidden": true,
    "id": "2bfb4a01"
   },
   "source": [
    "## The Business Planning"
   ]
  },
  {
   "cell_type": "code",
   "execution_count": null,
   "id": "1b539e05",
   "metadata": {
    "executionInfo": {
     "elapsed": 12,
     "status": "ok",
     "timestamp": 1647515871927,
     "user": {
      "displayName": "Renan Pacheco",
      "photoUrl": "https://lh3.googleusercontent.com/a-/AOh14GiRv7UuC3atWqKJu9tdNt8L6TW4viUyBcgTc6e1sw=s64",
      "userId": "12718092000337794607"
     },
     "user_tz": 180
    },
    "hidden": true,
    "id": "1b539e05"
   },
   "outputs": [],
   "source": []
  },
  {
   "cell_type": "markdown",
   "id": "948bf8ce",
   "metadata": {
    "id": "948bf8ce"
   },
   "source": [
    "# <font color = 'green'> ----- Cycle 1: First Sprint ----- </font>"
   ]
  },
  {
   "cell_type": "markdown",
   "id": "40ced25d",
   "metadata": {
    "id": "40ced25d"
   },
   "source": [
    "# 0. Imports "
   ]
  },
  {
   "cell_type": "markdown",
   "id": "289a618f",
   "metadata": {
    "id": "289a618f"
   },
   "source": [
    "## 0.1. Libraries:"
   ]
  },
  {
   "cell_type": "code",
   "execution_count": null,
   "id": "SgyepwdtF44K",
   "metadata": {
    "ExecuteTime": {
     "end_time": "2022-03-17T15:49:23.169170Z",
     "start_time": "2022-03-17T15:49:23.169146Z"
    },
    "colab": {
     "base_uri": "https://localhost:8080/"
    },
    "executionInfo": {
     "elapsed": 11190,
     "status": "ok",
     "timestamp": 1647526972130,
     "user": {
      "displayName": "Renan Pacheco",
      "photoUrl": "https://lh3.googleusercontent.com/a-/AOh14GiRv7UuC3atWqKJu9tdNt8L6TW4viUyBcgTc6e1sw=s64",
      "userId": "12718092000337794607"
     },
     "user_tz": 180
    },
    "id": "SgyepwdtF44K",
    "outputId": "079ce755-aabe-4b19-c861-4f08e3bfc56c"
   },
   "outputs": [],
   "source": [
    "import sys\n",
    "\n",
    "!{sys.executable} -m pip install keras\n",
    "!{sys.executable} -m pip install tensorflow\n",
    "!{sys.executable} -m pip install scikit-plot"
   ]
  },
  {
   "cell_type": "code",
   "execution_count": null,
   "id": "ea509435",
   "metadata": {
    "ExecuteTime": {
     "end_time": "2022-03-17T15:49:23.170969Z",
     "start_time": "2022-03-17T15:49:23.170946Z"
    },
    "executionInfo": {
     "elapsed": 263,
     "status": "ok",
     "timestamp": 1647529223539,
     "user": {
      "displayName": "Renan Pacheco",
      "photoUrl": "https://lh3.googleusercontent.com/a-/AOh14GiRv7UuC3atWqKJu9tdNt8L6TW4viUyBcgTc6e1sw=s64",
      "userId": "12718092000337794607"
     },
     "user_tz": 180
    },
    "id": "ea509435"
   },
   "outputs": [],
   "source": [
    "import random\n",
    "\n",
    "import pandas  as pd\n",
    "import numpy   as np\n",
    "import seaborn as sns\n",
    "\n",
    "from IPython.core.display import HTML\n",
    "\n",
    "from matplotlib import pyplot as plt\n",
    "\n",
    "from sklearn import model_selection as ms\n",
    "from sklearn import preprocessing   as pp\n",
    "from sklearn import metrics         as m\n",
    "\n",
    "from scikitplot import metrics as mt\n",
    "\n",
    "from keras import models as ml\n",
    "from keras import layers as l"
   ]
  },
  {
   "cell_type": "markdown",
   "id": "062cb119",
   "metadata": {
    "id": "062cb119"
   },
   "source": [
    "## 0.2. Helper Functions"
   ]
  },
  {
   "cell_type": "code",
   "execution_count": null,
   "id": "8305dff1",
   "metadata": {
    "ExecuteTime": {
     "end_time": "2022-03-17T15:49:23.172784Z",
     "start_time": "2022-03-17T15:49:23.172761Z"
    },
    "executionInfo": {
     "elapsed": 337,
     "status": "ok",
     "timestamp": 1647529225854,
     "user": {
      "displayName": "Renan Pacheco",
      "photoUrl": "https://lh3.googleusercontent.com/a-/AOh14GiRv7UuC3atWqKJu9tdNt8L6TW4viUyBcgTc6e1sw=s64",
      "userId": "12718092000337794607"
     },
     "user_tz": 180
    },
    "id": "8305dff1"
   },
   "outputs": [],
   "source": [
    "# Função auxiliar para construcão do layout:\n",
    "def jupyter_settings():\n",
    "    %matplotlib inline\n",
    "#     %matplotlib inline\n",
    "    \n",
    "    plt.style.use( 'bmh' )\n",
    "    plt.rcParams[ 'figure.figsize' ] = [15, 7]\n",
    "    plt.rcParams[ 'font.size' ] = 20\n",
    "    \n",
    "    display( HTML( '<style>.container { width:95% !important; }</style>' ) )\n",
    "    pd.options.display.max_columns = None\n",
    "    pd.options.display.max_rows = None\n",
    "    pd.set_option( 'display.expand_frame_repr', False )\n",
    "    \n",
    "    sns.set()"
   ]
  },
  {
   "cell_type": "code",
   "execution_count": null,
   "id": "ae967363",
   "metadata": {
    "ExecuteTime": {
     "end_time": "2022-03-17T15:49:23.175143Z",
     "start_time": "2022-03-17T15:49:23.175116Z"
    },
    "colab": {
     "base_uri": "https://localhost:8080/",
     "height": 17
    },
    "executionInfo": {
     "elapsed": 316,
     "status": "ok",
     "timestamp": 1647529229895,
     "user": {
      "displayName": "Renan Pacheco",
      "photoUrl": "https://lh3.googleusercontent.com/a-/AOh14GiRv7UuC3atWqKJu9tdNt8L6TW4viUyBcgTc6e1sw=s64",
      "userId": "12718092000337794607"
     },
     "user_tz": 180
    },
    "id": "ae967363",
    "outputId": "c5f3574d-4a33-49d6-aaab-03d9a0cc0368"
   },
   "outputs": [],
   "source": [
    "jupyter_settings()"
   ]
  },
  {
   "cell_type": "markdown",
   "id": "da94f7e7",
   "metadata": {
    "id": "da94f7e7"
   },
   "source": [
    "## 0.3. Loading the data"
   ]
  },
  {
   "cell_type": "code",
   "execution_count": null,
   "id": "92b04387",
   "metadata": {
    "ExecuteTime": {
     "end_time": "2022-03-17T15:49:23.177908Z",
     "start_time": "2022-03-17T15:49:23.177866Z"
    },
    "executionInfo": {
     "elapsed": 359,
     "status": "ok",
     "timestamp": 1647529231770,
     "user": {
      "displayName": "Renan Pacheco",
      "photoUrl": "https://lh3.googleusercontent.com/a-/AOh14GiRv7UuC3atWqKJu9tdNt8L6TW4viUyBcgTc6e1sw=s64",
      "userId": "12718092000337794607"
     },
     "user_tz": 180
    },
    "id": "92b04387"
   },
   "outputs": [],
   "source": [
    "# Dataset for training the users inherent characteristics:\n",
    "df_users = pd.read_csv( '../datasets/training_users.csv', low_memory=True )"
   ]
  },
  {
   "cell_type": "code",
   "execution_count": null,
   "id": "e79eac35",
   "metadata": {
    "ExecuteTime": {
     "end_time": "2022-03-17T15:49:23.180195Z",
     "start_time": "2022-03-17T15:49:23.180150Z"
    },
    "colab": {
     "base_uri": "https://localhost:8080/"
    },
    "executionInfo": {
     "elapsed": 19250,
     "status": "ok",
     "timestamp": 1647526993939,
     "user": {
      "displayName": "Renan Pacheco",
      "photoUrl": "https://lh3.googleusercontent.com/a-/AOh14GiRv7UuC3atWqKJu9tdNt8L6TW4viUyBcgTc6e1sw=s64",
      "userId": "12718092000337794607"
     },
     "user_tz": 180
    },
    "id": "e79eac35",
    "outputId": "8910196a-778e-47cb-e52c-b232259e1797"
   },
   "outputs": [],
   "source": [
    "# Dataset for training the users behaviors upon using the platform:\n",
    "df_sessions = pd.read_csv( '/content/drive/MyDrive/COMUNIDADE DS/Colab_Notebooks-Projects/pa000_airbnb_predict_first_booking/datasets/sessions.csv', low_memory=True )\n",
    "print( 'Data size for df_sessions: {}'.format(df_sessions.shape) )\n",
    "\n",
    "# Para o caso de se realizar um merge de ambos os datasets devido a GRANULARIDADE.\n",
    "\n",
    "# A fim de decidir qual granularidade deverá ser implementada no merge dos datasets, as seguintes questões devem ser consideradas:\n",
    "## A previsão é feita em funcão do usuário\n",
    "## A previsão é feita em funcão do usuário + evento ('action')\n",
    "\n",
    "# Exemplo: Retornar as acões realizadas por um usuário aleatório da plataforma durante o período em que esteve ativo:\n",
    "df_sessions[ df_sessions['user_id'] == '00023iyk9l' ][['user_id', 'action']].groupby('user_id').count()\n",
    "\n",
    "# Da mesma forma, a fim de retornar os valores referentes à todas as acões do usuário '00023iyk9l':\n",
    "df_sessions[ df_sessions['user_id'] == '00023iyk9l' ][['user_id', 'action']].value_counts()\n"
   ]
  },
  {
   "cell_type": "markdown",
   "id": "KupOCaZEP58c",
   "metadata": {
    "id": "KupOCaZEP58c"
   },
   "source": [
    "## 0.4. Defining the granularity for both datasets"
   ]
  },
  {
   "cell_type": "code",
   "execution_count": null,
   "id": "3imfAkPjQD48",
   "metadata": {
    "executionInfo": {
     "elapsed": 29,
     "status": "ok",
     "timestamp": 1647526993940,
     "user": {
      "displayName": "Renan Pacheco",
      "photoUrl": "https://lh3.googleusercontent.com/a-/AOh14GiRv7UuC3atWqKJu9tdNt8L6TW4viUyBcgTc6e1sw=s64",
      "userId": "12718092000337794607"
     },
     "user_tz": 180
    },
    "id": "3imfAkPjQD48"
   },
   "outputs": [],
   "source": []
  },
  {
   "cell_type": "markdown",
   "id": "ZbfqtdxtQEBB",
   "metadata": {
    "id": "ZbfqtdxtQEBB"
   },
   "source": [
    "## 0.5. Merging both dataset"
   ]
  },
  {
   "cell_type": "code",
   "execution_count": null,
   "id": "TcvPnTNaQEEX",
   "metadata": {
    "executionInfo": {
     "elapsed": 28,
     "status": "ok",
     "timestamp": 1647526993941,
     "user": {
      "displayName": "Renan Pacheco",
      "photoUrl": "https://lh3.googleusercontent.com/a-/AOh14GiRv7UuC3atWqKJu9tdNt8L6TW4viUyBcgTc6e1sw=s64",
      "userId": "12718092000337794607"
     },
     "user_tz": 180
    },
    "id": "TcvPnTNaQEEX"
   },
   "outputs": [],
   "source": []
  },
  {
   "cell_type": "markdown",
   "id": "ffb4afbf",
   "metadata": {
    "id": "ffb4afbf"
   },
   "source": [
    "# 1. Data Description"
   ]
  },
  {
   "cell_type": "code",
   "execution_count": null,
   "id": "c_VWA6yc3mW7",
   "metadata": {
    "ExecuteTime": {
     "end_time": "2022-03-17T15:49:23.183100Z",
     "start_time": "2022-03-17T15:49:23.183056Z"
    },
    "executionInfo": {
     "elapsed": 294,
     "status": "ok",
     "timestamp": 1647530630854,
     "user": {
      "displayName": "Renan Pacheco",
      "photoUrl": "https://lh3.googleusercontent.com/a-/AOh14GiRv7UuC3atWqKJu9tdNt8L6TW4viUyBcgTc6e1sw=s64",
      "userId": "12718092000337794607"
     },
     "user_tz": 180
    },
    "id": "c_VWA6yc3mW7"
   },
   "outputs": [],
   "source": [
    "df1 = df_users.copy()"
   ]
  },
  {
   "cell_type": "markdown",
   "id": "iKRvsv9HSbR_",
   "metadata": {
    "id": "iKRvsv9HSbR_"
   },
   "source": [
    "## 1.1. Data Dimensions"
   ]
  },
  {
   "cell_type": "code",
   "execution_count": 6,
   "id": "4Jbx3hSGSbVh",
   "metadata": {
    "ExecuteTime": {
     "end_time": "2022-03-17T15:49:32.363753Z",
     "start_time": "2022-03-17T15:49:32.358949Z"
    },
    "colab": {
     "base_uri": "https://localhost:8080/"
    },
    "executionInfo": {
     "elapsed": 410,
     "status": "ok",
     "timestamp": 1647530634961,
     "user": {
      "displayName": "Renan Pacheco",
      "photoUrl": "https://lh3.googleusercontent.com/a-/AOh14GiRv7UuC3atWqKJu9tdNt8L6TW4viUyBcgTc6e1sw=s64",
      "userId": "12718092000337794607"
     },
     "user_tz": 180
    },
    "id": "4Jbx3hSGSbVh",
    "outputId": "64444bac-13a4-4e78-bb6a-62ceb6a55c59"
   },
   "outputs": [
    {
     "name": "stdout",
     "output_type": "stream",
     "text": [
      "Data size for df_users: \n",
      "\n",
      "Number of rows = 16 \n",
      "Number of columns = 213451\n"
     ]
    }
   ],
   "source": [
    "# Data dimensions for the 'users.csv' dataset:\n",
    "print( 'Data size for df_users: \\n\\nNumber of rows = {} \\nNumber of columns = {}'.format(df_users.shape[1],df_users.shape[0]) )"
   ]
  },
  {
   "cell_type": "code",
   "execution_count": null,
   "id": "Sd3HRjDISb27",
   "metadata": {
    "ExecuteTime": {
     "end_time": "2022-03-17T15:49:23.187848Z",
     "start_time": "2022-03-17T15:49:23.187824Z"
    },
    "colab": {
     "base_uri": "https://localhost:8080/"
    },
    "executionInfo": {
     "elapsed": 391,
     "status": "ok",
     "timestamp": 1647526994307,
     "user": {
      "displayName": "Renan Pacheco",
      "photoUrl": "https://lh3.googleusercontent.com/a-/AOh14GiRv7UuC3atWqKJu9tdNt8L6TW4viUyBcgTc6e1sw=s64",
      "userId": "12718092000337794607"
     },
     "user_tz": 180
    },
    "id": "Sd3HRjDISb27",
    "outputId": "f61245e7-b11f-4f1e-9f6d-035b840b8ff1"
   },
   "outputs": [],
   "source": [
    "# Printing the size of the sessions dataset:\n",
    "print( 'Data size for df_sessions: \\n\\nNumber of rows = {} \\nNumber of columns = {}'.format(df_sessions.shape[1],df_sessions.shape[0]) )"
   ]
  },
  {
   "cell_type": "markdown",
   "id": "nbyckuCX3557",
   "metadata": {
    "id": "nbyckuCX3557"
   },
   "source": [
    "## 1.2. Data Types"
   ]
  },
  {
   "cell_type": "code",
   "execution_count": null,
   "id": "oNxQxuPY4B4M",
   "metadata": {
    "ExecuteTime": {
     "end_time": "2022-03-17T15:49:23.190350Z",
     "start_time": "2022-03-17T15:49:23.190307Z"
    },
    "colab": {
     "base_uri": "https://localhost:8080/"
    },
    "executionInfo": {
     "elapsed": 447,
     "status": "ok",
     "timestamp": 1647529280707,
     "user": {
      "displayName": "Renan Pacheco",
      "photoUrl": "https://lh3.googleusercontent.com/a-/AOh14GiRv7UuC3atWqKJu9tdNt8L6TW4viUyBcgTc6e1sw=s64",
      "userId": "12718092000337794607"
     },
     "user_tz": 180
    },
    "id": "oNxQxuPY4B4M",
    "outputId": "f80d03c3-746f-43c3-aadc-f95f3f815ce5"
   },
   "outputs": [],
   "source": [
    "df_users.dtypes"
   ]
  },
  {
   "cell_type": "code",
   "execution_count": null,
   "id": "I98HUz7NSJ5p",
   "metadata": {
    "ExecuteTime": {
     "end_time": "2022-03-17T15:49:23.193186Z",
     "start_time": "2022-03-17T15:49:23.193141Z"
    },
    "colab": {
     "base_uri": "https://localhost:8080/"
    },
    "executionInfo": {
     "elapsed": 15,
     "status": "ok",
     "timestamp": 1647526994310,
     "user": {
      "displayName": "Renan Pacheco",
      "photoUrl": "https://lh3.googleusercontent.com/a-/AOh14GiRv7UuC3atWqKJu9tdNt8L6TW4viUyBcgTc6e1sw=s64",
      "userId": "12718092000337794607"
     },
     "user_tz": 180
    },
    "id": "I98HUz7NSJ5p",
    "outputId": "4d802ff3-f884-4230-d398-28809c299f7e"
   },
   "outputs": [],
   "source": [
    "df_sessions.dtypes"
   ]
  },
  {
   "cell_type": "code",
   "execution_count": null,
   "id": "cwb1LNT-6oyl",
   "metadata": {
    "ExecuteTime": {
     "end_time": "2022-03-17T15:49:23.196814Z",
     "start_time": "2022-03-17T15:49:23.196769Z"
    },
    "colab": {
     "base_uri": "https://localhost:8080/",
     "height": 551
    },
    "executionInfo": {
     "elapsed": 413,
     "status": "ok",
     "timestamp": 1647529287990,
     "user": {
      "displayName": "Renan Pacheco",
      "photoUrl": "https://lh3.googleusercontent.com/a-/AOh14GiRv7UuC3atWqKJu9tdNt8L6TW4viUyBcgTc6e1sw=s64",
      "userId": "12718092000337794607"
     },
     "user_tz": 180
    },
    "id": "cwb1LNT-6oyl",
    "outputId": "36c06054-f4d8-44cd-b84d-07fb66ed11af"
   },
   "outputs": [],
   "source": [
    "df1.sample().T"
   ]
  },
  {
   "cell_type": "markdown",
   "id": "Krf_KZMQ4CAe",
   "metadata": {
    "id": "Krf_KZMQ4CAe"
   },
   "source": [
    "## 1.3. Checking for presence of NA data"
   ]
  },
  {
   "cell_type": "markdown",
   "id": "GXh6wnPzK9HU",
   "metadata": {
    "id": "GXh6wnPzK9HU"
   },
   "source": [
    "### 1.3.1. Checking the 'users.csv' dataset"
   ]
  },
  {
   "cell_type": "code",
   "execution_count": null,
   "id": "L0u6uQ53WR9u",
   "metadata": {
    "ExecuteTime": {
     "end_time": "2022-03-17T15:49:23.199629Z",
     "start_time": "2022-03-17T15:49:23.199585Z"
    },
    "colab": {
     "base_uri": "https://localhost:8080/"
    },
    "executionInfo": {
     "elapsed": 288,
     "status": "ok",
     "timestamp": 1647529300993,
     "user": {
      "displayName": "Renan Pacheco",
      "photoUrl": "https://lh3.googleusercontent.com/a-/AOh14GiRv7UuC3atWqKJu9tdNt8L6TW4viUyBcgTc6e1sw=s64",
      "userId": "12718092000337794607"
     },
     "user_tz": 180
    },
    "id": "L0u6uQ53WR9u",
    "outputId": "a3ca28ea-0275-42cb-f2e5-6a25263bb7d8"
   },
   "outputs": [],
   "source": [
    "df1.isna().sum() / len(df1)"
   ]
  },
  {
   "cell_type": "code",
   "execution_count": null,
   "id": "eZqOIQ9dWofK",
   "metadata": {
    "ExecuteTime": {
     "end_time": "2022-03-17T15:49:23.202264Z",
     "start_time": "2022-03-17T15:49:23.202226Z"
    },
    "colab": {
     "base_uri": "https://localhost:8080/"
    },
    "executionInfo": {
     "elapsed": 413,
     "status": "ok",
     "timestamp": 1647529311440,
     "user": {
      "displayName": "Renan Pacheco",
      "photoUrl": "https://lh3.googleusercontent.com/a-/AOh14GiRv7UuC3atWqKJu9tdNt8L6TW4viUyBcgTc6e1sw=s64",
      "userId": "12718092000337794607"
     },
     "user_tz": 180
    },
    "id": "eZqOIQ9dWofK",
    "outputId": "50594ecc-368f-40fa-a6c0-41ef035d66c8"
   },
   "outputs": [],
   "source": [
    "# Checking the reason to why there are 58% of missing data (NA) within the 'date_first_booking' feature:\n",
    "aux = df1[ df1['date_first_booking'].isna() ]   #returns only 'date_first_booking' containing NA values.\n",
    "aux['country_destination'].value_counts(normalize=True)"
   ]
  },
  {
   "cell_type": "markdown",
   "id": "XySYkhbGXyzI",
   "metadata": {
    "id": "XySYkhbGXyzI"
   },
   "source": [
    "The snippet above shows that 100% of the users who did not make any bookings on their first use of the platform represent 100% of all the 'country_destination' feature which possesses 'NDF' (No destination found) value. This is due the fact that people who browsed on the platform and didn't book any place are the same people who have no country destination.\n",
    "\n",
    "However, the time the user took from the moment they entered the website to the moment they made their first booking is an important variable.\n",
    "\n"
   ]
  },
  {
   "cell_type": "code",
   "execution_count": null,
   "id": "Zu7Jn_-b4CHr",
   "metadata": {
    "ExecuteTime": {
     "end_time": "2022-03-17T15:49:23.205971Z",
     "start_time": "2022-03-17T15:49:23.205930Z"
    },
    "executionInfo": {
     "elapsed": 3,
     "status": "ok",
     "timestamp": 1647529320543,
     "user": {
      "displayName": "Renan Pacheco",
      "photoUrl": "https://lh3.googleusercontent.com/a-/AOh14GiRv7UuC3atWqKJu9tdNt8L6TW4viUyBcgTc6e1sw=s64",
      "userId": "12718092000337794607"
     },
     "user_tz": 180
    },
    "id": "Zu7Jn_-b4CHr"
   },
   "outputs": [],
   "source": [
    "# Maximum date which one can project the date (Since the raw dataset is not updated!):\n",
    "pd.to_datetime(df1['date_first_booking']).max()\n",
    "\n",
    "# 'date_first_booking' -> date of first booking\n",
    "date_first_booking_max = pd.to_datetime(df1['date_first_booking']).max().strftime('%Y-%m-%d')\n",
    "df1['date_first_booking'] = df1['date_first_booking'].fillna(date_first_booking_max)"
   ]
  },
  {
   "cell_type": "code",
   "execution_count": null,
   "id": "kcmcEEHfdpNc",
   "metadata": {
    "ExecuteTime": {
     "end_time": "2022-03-17T15:49:23.208705Z",
     "start_time": "2022-03-17T15:49:23.208665Z"
    },
    "colab": {
     "base_uri": "https://localhost:8080/"
    },
    "executionInfo": {
     "elapsed": 415,
     "status": "ok",
     "timestamp": 1647529323726,
     "user": {
      "displayName": "Renan Pacheco",
      "photoUrl": "https://lh3.googleusercontent.com/a-/AOh14GiRv7UuC3atWqKJu9tdNt8L6TW4viUyBcgTc6e1sw=s64",
      "userId": "12718092000337794607"
     },
     "user_tz": 180
    },
    "id": "kcmcEEHfdpNc",
    "outputId": "5489dc00-01af-4369-b566-7c5a1afb6190"
   },
   "outputs": [],
   "source": [
    "# 'age':\n",
    "aux = df1[df1['age'].isna()]\n",
    "aux['country_destination'].value_counts(normalize=True)"
   ]
  },
  {
   "cell_type": "markdown",
   "id": "bi3DKjGroURf",
   "metadata": {
    "id": "bi3DKjGroURf"
   },
   "source": [
    "In this case, one is necessary to visualize how the 'age' feature is distributed (18 <= 'age' <= 65) within the variable 'country_destination', as follows..."
   ]
  },
  {
   "cell_type": "code",
   "execution_count": null,
   "id": "7oZYYyy6dxlX",
   "metadata": {
    "ExecuteTime": {
     "end_time": "2022-03-17T15:49:23.211301Z",
     "start_time": "2022-03-17T15:49:23.211272Z"
    },
    "colab": {
     "base_uri": "https://localhost:8080/",
     "height": 503
    },
    "executionInfo": {
     "elapsed": 1620,
     "status": "ok",
     "timestamp": 1647529334254,
     "user": {
      "displayName": "Renan Pacheco",
      "photoUrl": "https://lh3.googleusercontent.com/a-/AOh14GiRv7UuC3atWqKJu9tdNt8L6TW4viUyBcgTc6e1sw=s64",
      "userId": "12718092000337794607"
     },
     "user_tz": 180
    },
    "id": "7oZYYyy6dxlX",
    "outputId": "f3b961d6-6cdf-42da-e5a4-eb068bdb5a26"
   },
   "outputs": [],
   "source": [
    "sns.distplot(df1[df1['age'] <= 65]['age']);"
   ]
  },
  {
   "cell_type": "markdown",
   "id": "_GMySC1apkoR",
   "metadata": {
    "id": "_GMySC1apkoR"
   },
   "source": [
    "As the plot above suggests, the distribution of the ages within the dataset suggests a gaussian distribution, even though it possesses a significant tale at the end and a skewness towards the ages ranging between 20 and 30 years old.\n",
    "\n",
    "Due to this, in case of substituting the missing data (NA) by the average of these data plus its correspondent standard deviation, there is no bias on the analysis. \n",
    "\n"
   ]
  },
  {
   "cell_type": "code",
   "execution_count": null,
   "id": "n7eZENkNqM5_",
   "metadata": {
    "ExecuteTime": {
     "end_time": "2022-03-17T15:49:23.213825Z",
     "start_time": "2022-03-17T15:49:23.213791Z"
    },
    "executionInfo": {
     "elapsed": 302,
     "status": "ok",
     "timestamp": 1647529340827,
     "user": {
      "displayName": "Renan Pacheco",
      "photoUrl": "https://lh3.googleusercontent.com/a-/AOh14GiRv7UuC3atWqKJu9tdNt8L6TW4viUyBcgTc6e1sw=s64",
      "userId": "12718092000337794607"
     },
     "user_tz": 180
    },
    "id": "n7eZENkNqM5_"
   },
   "outputs": [],
   "source": [
    "age_avg = int( round(df1['age'].mean()) )\n",
    "age_avg\n",
    "\n",
    "df1['age'] = df1['age'].fillna(age_avg)"
   ]
  },
  {
   "cell_type": "code",
   "execution_count": null,
   "id": "H4aDHABtdpWL",
   "metadata": {
    "ExecuteTime": {
     "end_time": "2022-03-17T15:49:23.215803Z",
     "start_time": "2022-03-17T15:49:23.215772Z"
    },
    "colab": {
     "base_uri": "https://localhost:8080/"
    },
    "executionInfo": {
     "elapsed": 615,
     "status": "ok",
     "timestamp": 1647529343798,
     "user": {
      "displayName": "Renan Pacheco",
      "photoUrl": "https://lh3.googleusercontent.com/a-/AOh14GiRv7UuC3atWqKJu9tdNt8L6TW4viUyBcgTc6e1sw=s64",
      "userId": "12718092000337794607"
     },
     "user_tz": 180
    },
    "id": "H4aDHABtdpWL",
    "outputId": "005bd457-4446-4d52-ad32-fdda2b5e0230"
   },
   "outputs": [],
   "source": [
    "## 'first_affiliate_tracked' ->  whats the first marketing the user interacted with before the signing up:\n",
    "df1['first_affiliate_tracked'].drop_duplicates()\n"
   ]
  },
  {
   "cell_type": "markdown",
   "id": "DUWgWZtId-SA",
   "metadata": {
    "id": "DUWgWZtId-SA"
   },
   "source": [
    "The percentage of missing data (NA) regarding the 'first_affiliate_tracked' is about 3%, considering the totality of missing data throughout the raw dataset. \n",
    "\n",
    "When inputing data in categorical features, in order to replace missing data, it's common to use the frequency associated with each parameter. But this has a huge impact, once it could crease a biased analysis.\n",
    "\n",
    "Due to this, **the 'first_affiliate_tracked' will not be considered in this cycle of the CRISP** and other features will be used throughout the Cross Validation process."
   ]
  },
  {
   "cell_type": "code",
   "execution_count": null,
   "id": "AD1ye49hw1Cj",
   "metadata": {
    "ExecuteTime": {
     "end_time": "2022-03-17T15:49:23.217986Z",
     "start_time": "2022-03-17T15:49:23.217954Z"
    },
    "colab": {
     "base_uri": "https://localhost:8080/"
    },
    "executionInfo": {
     "elapsed": 314,
     "status": "ok",
     "timestamp": 1647529350456,
     "user": {
      "displayName": "Renan Pacheco",
      "photoUrl": "https://lh3.googleusercontent.com/a-/AOh14GiRv7UuC3atWqKJu9tdNt8L6TW4viUyBcgTc6e1sw=s64",
      "userId": "12718092000337794607"
     },
     "user_tz": 180
    },
    "id": "AD1ye49hw1Cj",
    "outputId": "746db38e-d762-43c3-cd49-6fb88ea3c5d8"
   },
   "outputs": [],
   "source": [
    "df1 = df1[~df1['first_affiliate_tracked'].isna()]\n",
    "\n",
    "df1.isna().sum() / len(df1)"
   ]
  },
  {
   "cell_type": "markdown",
   "id": "Qkt8G5Bnw1Ga",
   "metadata": {
    "id": "Qkt8G5Bnw1Ga"
   },
   "source": [
    "### 1.3.2. Checking the 'sessions.csv' dataset"
   ]
  },
  {
   "cell_type": "code",
   "execution_count": null,
   "id": "_JtOMSG6LL-f",
   "metadata": {
    "ExecuteTime": {
     "end_time": "2022-03-17T15:49:23.220124Z",
     "start_time": "2022-03-17T15:49:23.220083Z"
    },
    "colab": {
     "base_uri": "https://localhost:8080/"
    },
    "executionInfo": {
     "elapsed": 2710,
     "status": "ok",
     "timestamp": 1647529357768,
     "user": {
      "displayName": "Renan Pacheco",
      "photoUrl": "https://lh3.googleusercontent.com/a-/AOh14GiRv7UuC3atWqKJu9tdNt8L6TW4viUyBcgTc6e1sw=s64",
      "userId": "12718092000337794607"
     },
     "user_tz": 180
    },
    "id": "_JtOMSG6LL-f",
    "outputId": "cac0af31-0148-4c3e-ca4a-4d66c2a009f0"
   },
   "outputs": [],
   "source": [
    "df_sessions.isna().sum() / len(df_sessions)"
   ]
  },
  {
   "cell_type": "markdown",
   "id": "-d8PpzeaLMCA",
   "metadata": {
    "id": "-d8PpzeaLMCA"
   },
   "source": [
    " Checking the above dataset, it' possible to make a few assumptions:\n",
    "\n",
    "- Even though the 'user_id' has only 3% of missing data, it is key for connecting both datasets 'users.csv' and 'sessions.csv' and thus, it cannot be replaced by any other data. It has to be dropped out.\n",
    "\n",
    "- Both features 'action_type' and 'action_detail' has the same amount of missing data, which could be presumed that both are intrinsically correlated. It thus needs to be further analysed."
   ]
  },
  {
   "cell_type": "code",
   "execution_count": null,
   "id": "KrcxkiDiLllc",
   "metadata": {
    "ExecuteTime": {
     "end_time": "2022-03-17T15:49:23.222454Z",
     "start_time": "2022-03-17T15:49:23.222416Z"
    },
    "colab": {
     "base_uri": "https://localhost:8080/"
    },
    "executionInfo": {
     "elapsed": 8357,
     "status": "ok",
     "timestamp": 1647527013839,
     "user": {
      "displayName": "Renan Pacheco",
      "photoUrl": "https://lh3.googleusercontent.com/a-/AOh14GiRv7UuC3atWqKJu9tdNt8L6TW4viUyBcgTc6e1sw=s64",
      "userId": "12718092000337794607"
     },
     "user_tz": 180
    },
    "id": "KrcxkiDiLllc",
    "outputId": "b9e8dfa6-5857-449b-d055-e0359e25dbdb"
   },
   "outputs": [],
   "source": [
    "# user_id (0.3%)\n",
    "df_sessions = df_sessions[~df_sessions['user_id'].isna()]\n",
    "\n",
    "# action (0.7%)\n",
    "df_sessions = df_sessions[~df_sessions['action'].isna()]\n",
    "\n",
    "# action_type (11%)\n",
    "df_sessions = df_sessions[~df_sessions['action_type'].isna()]\n",
    "\n",
    "# action_detail (11%)\n",
    "df_sessions = df_sessions[~df_sessions['action_detail'].isna()]\n",
    "\n",
    "df_sessions.isna().sum() / len(df_sessions)"
   ]
  },
  {
   "cell_type": "markdown",
   "id": "uEYBK4vJO3gX",
   "metadata": {
    "id": "uEYBK4vJO3gX"
   },
   "source": [
    "For the 'time_elapsed' feature, an analysis could be done..."
   ]
  },
  {
   "cell_type": "code",
   "execution_count": null,
   "id": "kZc9PmtWOOnY",
   "metadata": {
    "ExecuteTime": {
     "end_time": "2022-03-17T15:49:23.225371Z",
     "start_time": "2022-03-17T15:49:23.225334Z"
    },
    "colab": {
     "base_uri": "https://localhost:8080/",
     "height": 520
    },
    "executionInfo": {
     "elapsed": 3709,
     "status": "ok",
     "timestamp": 1647527228738,
     "user": {
      "displayName": "Renan Pacheco",
      "photoUrl": "https://lh3.googleusercontent.com/a-/AOh14GiRv7UuC3atWqKJu9tdNt8L6TW4viUyBcgTc6e1sw=s64",
      "userId": "12718092000337794607"
     },
     "user_tz": 180
    },
    "id": "kZc9PmtWOOnY",
    "outputId": "c518388a-3627-40bb-b51b-6a6d8dd6c3db"
   },
   "outputs": [],
   "source": [
    "# sns.distplot( df_sessions['secs_elapsed'].sample(100000) );\n",
    "\n",
    "aux = df_sessions[df_sessions['secs_elapsed'] < 0.25e6]\n",
    "\n",
    "sns.distplot( aux['secs_elapsed'].sample(100000) )"
   ]
  },
  {
   "cell_type": "code",
   "execution_count": null,
   "id": "outWn5ZHPu_p",
   "metadata": {
    "ExecuteTime": {
     "end_time": "2022-03-17T15:49:23.228094Z",
     "start_time": "2022-03-17T15:49:23.228058Z"
    },
    "colab": {
     "base_uri": "https://localhost:8080/"
    },
    "executionInfo": {
     "elapsed": 313,
     "status": "ok",
     "timestamp": 1647527232816,
     "user": {
      "displayName": "Renan Pacheco",
      "photoUrl": "https://lh3.googleusercontent.com/a-/AOh14GiRv7UuC3atWqKJu9tdNt8L6TW4viUyBcgTc6e1sw=s64",
      "userId": "12718092000337794607"
     },
     "user_tz": 180
    },
    "id": "outWn5ZHPu_p",
    "outputId": "a0565a9a-ae59-45a0-d7b4-2db77c7a7d00"
   },
   "outputs": [],
   "source": [
    "aux['secs_elapsed'].mean()"
   ]
  },
  {
   "cell_type": "code",
   "execution_count": null,
   "id": "pK6h0pCxLloX",
   "metadata": {
    "ExecuteTime": {
     "end_time": "2022-03-17T15:49:23.232048Z",
     "start_time": "2022-03-17T15:49:23.231998Z"
    },
    "colab": {
     "base_uri": "https://localhost:8080/"
    },
    "executionInfo": {
     "elapsed": 3207,
     "status": "ok",
     "timestamp": 1647527241433,
     "user": {
      "displayName": "Renan Pacheco",
      "photoUrl": "https://lh3.googleusercontent.com/a-/AOh14GiRv7UuC3atWqKJu9tdNt8L6TW4viUyBcgTc6e1sw=s64",
      "userId": "12718092000337794607"
     },
     "user_tz": 180
    },
    "id": "pK6h0pCxLloX",
    "outputId": "e00d5081-b5b5-4bd8-d60b-99ffc24514a9"
   },
   "outputs": [],
   "source": [
    "# secs_elapsed (1.2%)\n",
    "df_sessions = df_sessions[~df_sessions['secs_elapsed'].isna()]\n",
    "\n",
    "df_sessions.isna().sum() / len(df_sessions)"
   ]
  },
  {
   "cell_type": "markdown",
   "id": "SPfP7Y144CME",
   "metadata": {
    "id": "SPfP7Y144CME"
   },
   "source": [
    "## 1.4. Changing the Data Types"
   ]
  },
  {
   "cell_type": "code",
   "execution_count": null,
   "id": "q-v01Nj28RCL",
   "metadata": {
    "ExecuteTime": {
     "end_time": "2022-03-17T15:49:23.235286Z",
     "start_time": "2022-03-17T15:49:23.235249Z"
    },
    "colab": {
     "base_uri": "https://localhost:8080/"
    },
    "executionInfo": {
     "elapsed": 313,
     "status": "ok",
     "timestamp": 1647529366326,
     "user": {
      "displayName": "Renan Pacheco",
      "photoUrl": "https://lh3.googleusercontent.com/a-/AOh14GiRv7UuC3atWqKJu9tdNt8L6TW4viUyBcgTc6e1sw=s64",
      "userId": "12718092000337794607"
     },
     "user_tz": 180
    },
    "id": "q-v01Nj28RCL",
    "outputId": "a00a224e-b5a4-42ae-9d3c-bf1e57a41392"
   },
   "outputs": [],
   "source": [
    "## Num primeiro momento (1º ciclo CRISP), valores NA não serão considerados durante a análise do modelo. Isso porque o objetivo é atingir velocidade \n",
    "## na apresentação dos resultados iniciais. Caso as variáveis 'date_first_booking', 'age' e 'first_affliate_tracked', em um 2º ciclo do projeto, sejam interessante \n",
    "## para a modelagem, então estes serão introduzidos como features relevantes para a análise.\n",
    "\n",
    "# Shape of dataframe containing NA data:\n",
    "print( 'Number of total columns before NA dropping: {}'.format( df_users.shape[1] ) )\n",
    "print( 'Number of total rows before NA dropping: {}'.format( df_users.shape[0] ) )\n",
    "\n",
    "# Removing missing values (Containing NA):\n",
    "df1 = df1.dropna()\n",
    "\n",
    "# Shape of dataframe after removing NA data:\n",
    "print( '\\nNumber of total columns after NA dropping: {}'.format( df1.shape[1] ) )\n",
    "print( 'Number of total rows after NA dropping: {}'.format( df1.shape[0] ) )"
   ]
  },
  {
   "cell_type": "code",
   "execution_count": null,
   "id": "5_BCIcvK-BF7",
   "metadata": {
    "ExecuteTime": {
     "end_time": "2022-03-17T15:49:23.237744Z",
     "start_time": "2022-03-17T15:49:23.237710Z"
    },
    "colab": {
     "base_uri": "https://localhost:8080/"
    },
    "executionInfo": {
     "elapsed": 450,
     "status": "ok",
     "timestamp": 1647529417459,
     "user": {
      "displayName": "Renan Pacheco",
      "photoUrl": "https://lh3.googleusercontent.com/a-/AOh14GiRv7UuC3atWqKJu9tdNt8L6TW4viUyBcgTc6e1sw=s64",
      "userId": "12718092000337794607"
     },
     "user_tz": 180
    },
    "id": "5_BCIcvK-BF7",
    "outputId": "9a1bd220-b59b-45e6-a372-49765d595f24"
   },
   "outputs": [],
   "source": [
    "df1.dtypes"
   ]
  },
  {
   "cell_type": "code",
   "execution_count": null,
   "id": "T33twBvk4CPo",
   "metadata": {
    "ExecuteTime": {
     "end_time": "2022-03-17T15:49:23.240037Z",
     "start_time": "2022-03-17T15:49:23.240002Z"
    },
    "executionInfo": {
     "elapsed": 1127,
     "status": "ok",
     "timestamp": 1647529432166,
     "user": {
      "displayName": "Renan Pacheco",
      "photoUrl": "https://lh3.googleusercontent.com/a-/AOh14GiRv7UuC3atWqKJu9tdNt8L6TW4viUyBcgTc6e1sw=s64",
      "userId": "12718092000337794607"
     },
     "user_tz": 180
    },
    "id": "T33twBvk4CPo"
   },
   "outputs": [],
   "source": [
    "# Date which the account was created ('date_account_created'):\n",
    "df1['date_account_created'] = pd.to_datetime( df1['date_account_created'] )\n",
    "\n",
    "# Timestamp that the user was active the first time ('timestamp_first_active'):\n",
    "df1['timestamp_first_active'] = pd.to_datetime( df1['timestamp_first_active'], format = '%Y%m%d%H%M%S' )\n",
    "\n",
    "## (In this case, it'll be necessary to not only change from 'int64' to 'datetime', but also to divide into an actual date pattern)\n",
    "\n",
    "# Date for when the user booked the first time ('date_first_booking'):\n",
    "df1['date_first_booking'] = pd.to_datetime( df1['date_first_booking'] )\n",
    "\n",
    "# Age:\n",
    "df1['age'] = df1['age'].astype( int )\n"
   ]
  },
  {
   "cell_type": "code",
   "execution_count": null,
   "id": "MGp12gvU_MfC",
   "metadata": {
    "ExecuteTime": {
     "end_time": "2022-03-17T15:49:23.243647Z",
     "start_time": "2022-03-17T15:49:23.243600Z"
    },
    "colab": {
     "base_uri": "https://localhost:8080/"
    },
    "executionInfo": {
     "elapsed": 327,
     "status": "ok",
     "timestamp": 1647529434420,
     "user": {
      "displayName": "Renan Pacheco",
      "photoUrl": "https://lh3.googleusercontent.com/a-/AOh14GiRv7UuC3atWqKJu9tdNt8L6TW4viUyBcgTc6e1sw=s64",
      "userId": "12718092000337794607"
     },
     "user_tz": 180
    },
    "id": "MGp12gvU_MfC",
    "outputId": "6d42e4f6-823a-4a63-fb36-f6b40331df5a"
   },
   "outputs": [],
   "source": [
    "df1.dtypes"
   ]
  },
  {
   "cell_type": "markdown",
   "id": "zDlQrOMY4T5M",
   "metadata": {
    "id": "zDlQrOMY4T5M"
   },
   "source": [
    "## 1.5. Checking of Balanced Data"
   ]
  },
  {
   "cell_type": "code",
   "execution_count": null,
   "id": "WNb5L-zh4Up3",
   "metadata": {
    "ExecuteTime": {
     "end_time": "2022-03-17T15:49:23.246420Z",
     "start_time": "2022-03-17T15:49:23.246385Z"
    },
    "colab": {
     "base_uri": "https://localhost:8080/"
    },
    "executionInfo": {
     "elapsed": 512,
     "status": "ok",
     "timestamp": 1647529439849,
     "user": {
      "displayName": "Renan Pacheco",
      "photoUrl": "https://lh3.googleusercontent.com/a-/AOh14GiRv7UuC3atWqKJu9tdNt8L6TW4viUyBcgTc6e1sw=s64",
      "userId": "12718092000337794607"
     },
     "user_tz": 180
    },
    "id": "WNb5L-zh4Up3",
    "outputId": "82c5a11d-0b62-422c-d067-d6e423e1287d"
   },
   "outputs": [],
   "source": [
    "df1['country_destination'].value_counts( normalize=True )"
   ]
  },
  {
   "cell_type": "markdown",
   "id": "12ac874b",
   "metadata": {
    "id": "12ac874b"
   },
   "source": [
    "# 2. Data Filtering and Cleansing"
   ]
  },
  {
   "cell_type": "code",
   "execution_count": null,
   "id": "1AQE4LlgA7LC",
   "metadata": {
    "ExecuteTime": {
     "end_time": "2022-03-17T15:49:23.249732Z",
     "start_time": "2022-03-17T15:49:23.249633Z"
    },
    "executionInfo": {
     "elapsed": 514,
     "status": "ok",
     "timestamp": 1647529471390,
     "user": {
      "displayName": "Renan Pacheco",
      "photoUrl": "https://lh3.googleusercontent.com/a-/AOh14GiRv7UuC3atWqKJu9tdNt8L6TW4viUyBcgTc6e1sw=s64",
      "userId": "12718092000337794607"
     },
     "user_tz": 180
    },
    "id": "1AQE4LlgA7LC"
   },
   "outputs": [],
   "source": [
    "df2 = df1.copy()"
   ]
  },
  {
   "cell_type": "markdown",
   "id": "e2f21ed6",
   "metadata": {
    "id": "e2f21ed6"
   },
   "source": [
    "## 2.1 Filtering Rows"
   ]
  },
  {
   "cell_type": "code",
   "execution_count": null,
   "id": "4ezZTjn3A0Of",
   "metadata": {
    "executionInfo": {
     "elapsed": 6,
     "status": "ok",
     "timestamp": 1647529471391,
     "user": {
      "displayName": "Renan Pacheco",
      "photoUrl": "https://lh3.googleusercontent.com/a-/AOh14GiRv7UuC3atWqKJu9tdNt8L6TW4viUyBcgTc6e1sw=s64",
      "userId": "12718092000337794607"
     },
     "user_tz": 180
    },
    "id": "4ezZTjn3A0Of"
   },
   "outputs": [],
   "source": []
  },
  {
   "cell_type": "markdown",
   "id": "e4e90dd9",
   "metadata": {
    "id": "e4e90dd9"
   },
   "source": [
    "## 2.2 Columns Selection"
   ]
  },
  {
   "cell_type": "code",
   "execution_count": null,
   "id": "6a_0GRaNA3UE",
   "metadata": {
    "executionInfo": {
     "elapsed": 6,
     "status": "ok",
     "timestamp": 1647529471392,
     "user": {
      "displayName": "Renan Pacheco",
      "photoUrl": "https://lh3.googleusercontent.com/a-/AOh14GiRv7UuC3atWqKJu9tdNt8L6TW4viUyBcgTc6e1sw=s64",
      "userId": "12718092000337794607"
     },
     "user_tz": 180
    },
    "id": "6a_0GRaNA3UE"
   },
   "outputs": [],
   "source": []
  },
  {
   "cell_type": "markdown",
   "id": "b8b18734",
   "metadata": {
    "id": "b8b18734"
   },
   "source": [
    "# 3. Data Preparation"
   ]
  },
  {
   "cell_type": "code",
   "execution_count": null,
   "id": "11062705",
   "metadata": {
    "ExecuteTime": {
     "end_time": "2022-03-17T15:49:23.251917Z",
     "start_time": "2022-03-17T15:49:23.251882Z"
    },
    "executionInfo": {
     "elapsed": 513,
     "status": "ok",
     "timestamp": 1647531226529,
     "user": {
      "displayName": "Renan Pacheco",
      "photoUrl": "https://lh3.googleusercontent.com/a-/AOh14GiRv7UuC3atWqKJu9tdNt8L6TW4viUyBcgTc6e1sw=s64",
      "userId": "12718092000337794607"
     },
     "user_tz": 180
    },
    "id": "11062705"
   },
   "outputs": [],
   "source": [
    "df3 = df2.copy()"
   ]
  },
  {
   "cell_type": "code",
   "execution_count": null,
   "id": "2fGXh99I9hIo",
   "metadata": {
    "ExecuteTime": {
     "end_time": "2022-03-17T15:49:23.254011Z",
     "start_time": "2022-03-17T15:49:23.253985Z"
    },
    "colab": {
     "base_uri": "https://localhost:8080/"
    },
    "executionInfo": {
     "elapsed": 251,
     "status": "ok",
     "timestamp": 1647531228586,
     "user": {
      "displayName": "Renan Pacheco",
      "photoUrl": "https://lh3.googleusercontent.com/a-/AOh14GiRv7UuC3atWqKJu9tdNt8L6TW4viUyBcgTc6e1sw=s64",
      "userId": "12718092000337794607"
     },
     "user_tz": 180
    },
    "id": "2fGXh99I9hIo",
    "outputId": "25edfc3f-7f3d-4c20-f3f1-b9517fd23ca9"
   },
   "outputs": [],
   "source": [
    "df3.shape"
   ]
  },
  {
   "cell_type": "code",
   "execution_count": null,
   "id": "sOja90Fo33fU",
   "metadata": {
    "ExecuteTime": {
     "end_time": "2022-03-17T15:49:23.256577Z",
     "start_time": "2022-03-17T15:49:23.256548Z"
    },
    "executionInfo": {
     "elapsed": 310,
     "status": "ok",
     "timestamp": 1647531209940,
     "user": {
      "displayName": "Renan Pacheco",
      "photoUrl": "https://lh3.googleusercontent.com/a-/AOh14GiRv7UuC3atWqKJu9tdNt8L6TW4viUyBcgTc6e1sw=s64",
      "userId": "12718092000337794607"
     },
     "user_tz": 180
    },
    "id": "sOja90Fo33fU"
   },
   "outputs": [],
   "source": [
    "# # dummy variable:\n",
    "# df3_dummy = pd.get_dummies( df3.drop( ['id', 'country_destination'], axis=1 ) )\n",
    "\n",
    "# # Joining again 'id' and 'country_destination' with dummy variable:\n",
    "# df3 = pd.concat( [ df3[['id', 'country_destination']], df3_dummy ], axis=1 )\n",
    "\n",
    "# df3.shape"
   ]
  },
  {
   "cell_type": "markdown",
   "id": "bccc74c0",
   "metadata": {
    "id": "bccc74c0"
   },
   "source": [
    "# 4. Feature Selection of Variables"
   ]
  },
  {
   "cell_type": "code",
   "execution_count": null,
   "id": "8ef73f12",
   "metadata": {
    "ExecuteTime": {
     "end_time": "2022-03-17T15:49:23.258486Z",
     "start_time": "2022-03-17T15:49:23.258462Z"
    },
    "executionInfo": {
     "elapsed": 310,
     "status": "ok",
     "timestamp": 1647531232058,
     "user": {
      "displayName": "Renan Pacheco",
      "photoUrl": "https://lh3.googleusercontent.com/a-/AOh14GiRv7UuC3atWqKJu9tdNt8L6TW4viUyBcgTc6e1sw=s64",
      "userId": "12718092000337794607"
     },
     "user_tz": 180
    },
    "id": "8ef73f12"
   },
   "outputs": [],
   "source": [
    "# Dropping original dates due to lack of further information that could be used by the model:\n",
    "cols_drop = [ 'date_account_created', 'timestamp_first_active', 'date_first_booking' ]\n",
    "\n",
    "df4 = df3.drop( cols_drop, axis = 1 )"
   ]
  },
  {
   "cell_type": "code",
   "execution_count": null,
   "id": "oFnCqoWdX4CX",
   "metadata": {
    "ExecuteTime": {
     "end_time": "2022-03-17T15:49:23.260386Z",
     "start_time": "2022-03-17T15:49:23.260352Z"
    },
    "colab": {
     "base_uri": "https://localhost:8080/"
    },
    "executionInfo": {
     "elapsed": 313,
     "status": "ok",
     "timestamp": 1647531234826,
     "user": {
      "displayName": "Renan Pacheco",
      "photoUrl": "https://lh3.googleusercontent.com/a-/AOh14GiRv7UuC3atWqKJu9tdNt8L6TW4viUyBcgTc6e1sw=s64",
      "userId": "12718092000337794607"
     },
     "user_tz": 180
    },
    "id": "oFnCqoWdX4CX",
    "outputId": "d7776e22-7a16-4193-f61e-a089a8c315f6"
   },
   "outputs": [],
   "source": [
    "df4.shape"
   ]
  },
  {
   "cell_type": "markdown",
   "id": "dSBBsGwFBXU_",
   "metadata": {
    "id": "dSBBsGwFBXU_"
   },
   "source": [
    "# 5.0 Machine Learning Model"
   ]
  },
  {
   "cell_type": "code",
   "execution_count": null,
   "id": "T2bUuF1MavOm",
   "metadata": {
    "ExecuteTime": {
     "end_time": "2022-03-17T15:49:23.262461Z",
     "start_time": "2022-03-17T15:49:23.262426Z"
    },
    "colab": {
     "base_uri": "https://localhost:8080/"
    },
    "executionInfo": {
     "elapsed": 358,
     "status": "ok",
     "timestamp": 1647531239033,
     "user": {
      "displayName": "Renan Pacheco",
      "photoUrl": "https://lh3.googleusercontent.com/a-/AOh14GiRv7UuC3atWqKJu9tdNt8L6TW4viUyBcgTc6e1sw=s64",
      "userId": "12718092000337794607"
     },
     "user_tz": 180
    },
    "id": "T2bUuF1MavOm",
    "outputId": "e71f0e76-d974-48c5-b1a2-bf6c27420b5c"
   },
   "outputs": [],
   "source": [
    "print(df_users.shape)\n",
    "print(df1.shape)\n",
    "print(df2.shape)\n",
    "print(df3.shape)\n",
    "print(df4.shape)"
   ]
  },
  {
   "cell_type": "code",
   "execution_count": null,
   "id": "ly_COQAEC6Fs",
   "metadata": {
    "ExecuteTime": {
     "end_time": "2022-03-17T15:49:23.265345Z",
     "start_time": "2022-03-17T15:49:23.265307Z"
    },
    "colab": {
     "base_uri": "https://localhost:8080/"
    },
    "executionInfo": {
     "elapsed": 308,
     "status": "ok",
     "timestamp": 1647531356780,
     "user": {
      "displayName": "Renan Pacheco",
      "photoUrl": "https://lh3.googleusercontent.com/a-/AOh14GiRv7UuC3atWqKJu9tdNt8L6TW4viUyBcgTc6e1sw=s64",
      "userId": "12718092000337794607"
     },
     "user_tz": 180
    },
    "id": "ly_COQAEC6Fs",
    "outputId": "58e8ff9c-2919-4507-e66f-a7175235877a"
   },
   "outputs": [],
   "source": [
    "X = df4.drop( 'country_destination', axis=1 )\n",
    "print(X.shape)\n",
    "\n",
    "y = df4['country_destination'].copy()\n",
    "print(y.shape)"
   ]
  },
  {
   "cell_type": "code",
   "execution_count": null,
   "id": "tnJYAKuhBfc7",
   "metadata": {
    "ExecuteTime": {
     "end_time": "2022-03-17T15:49:23.268191Z",
     "start_time": "2022-03-17T15:49:23.268154Z"
    },
    "executionInfo": {
     "elapsed": 344,
     "status": "ok",
     "timestamp": 1647531358755,
     "user": {
      "displayName": "Renan Pacheco",
      "photoUrl": "https://lh3.googleusercontent.com/a-/AOh14GiRv7UuC3atWqKJu9tdNt8L6TW4viUyBcgTc6e1sw=s64",
      "userId": "12718092000337794607"
     },
     "user_tz": 180
    },
    "id": "tnJYAKuhBfc7"
   },
   "outputs": [],
   "source": [
    "# Split of prepared dataset into training and test datasets:\n",
    "X_train, X_test, y_train, y_test = ms.train_test_split( X, y, test_size=0.2, random_state=32 )"
   ]
  },
  {
   "cell_type": "code",
   "execution_count": null,
   "id": "E2OAFuHNKnp8",
   "metadata": {
    "ExecuteTime": {
     "end_time": "2022-03-17T15:49:23.270868Z",
     "start_time": "2022-03-17T15:49:23.270836Z"
    },
    "colab": {
     "base_uri": "https://localhost:8080/"
    },
    "executionInfo": {
     "elapsed": 350,
     "status": "ok",
     "timestamp": 1647531361022,
     "user": {
      "displayName": "Renan Pacheco",
      "photoUrl": "https://lh3.googleusercontent.com/a-/AOh14GiRv7UuC3atWqKJu9tdNt8L6TW4viUyBcgTc6e1sw=s64",
      "userId": "12718092000337794607"
     },
     "user_tz": 180
    },
    "id": "E2OAFuHNKnp8",
    "outputId": "80d8524f-1176-4d93-c4df-6ddb7f92bf23"
   },
   "outputs": [],
   "source": [
    "x_train = X_train.drop( 'id', axis=1 )\n",
    "x_test = X_test.drop( 'id', axis=1 )\n",
    "\n",
    "print( 'Shape for training set: {}'.format( x_train.shape ) )\n",
    "print( 'Shape for test set: {}'.format( x_test.shape ) )"
   ]
  },
  {
   "cell_type": "markdown",
   "id": "tuxtW0B__K0O",
   "metadata": {
    "id": "tuxtW0B__K0O"
   },
   "source": [
    "## 5.1. Baseline Model"
   ]
  },
  {
   "cell_type": "markdown",
   "id": "ijuLV6hXcttb",
   "metadata": {
    "id": "ijuLV6hXcttb"
   },
   "source": [
    "### 5.1.1. Building the baseline"
   ]
  },
  {
   "cell_type": "code",
   "execution_count": null,
   "id": "jvDqN-AyEYJe",
   "metadata": {
    "ExecuteTime": {
     "end_time": "2022-03-17T15:49:23.272871Z",
     "start_time": "2022-03-17T15:49:23.272836Z"
    },
    "colab": {
     "base_uri": "https://localhost:8080/"
    },
    "executionInfo": {
     "elapsed": 346,
     "status": "ok",
     "timestamp": 1647531388766,
     "user": {
      "displayName": "Renan Pacheco",
      "photoUrl": "https://lh3.googleusercontent.com/a-/AOh14GiRv7UuC3atWqKJu9tdNt8L6TW4viUyBcgTc6e1sw=s64",
      "userId": "12718092000337794607"
     },
     "user_tz": 180
    },
    "id": "jvDqN-AyEYJe",
    "outputId": "d11a7320-13ba-459a-e867-0397aaf0807e"
   },
   "outputs": [],
   "source": [
    "df1['country_destination'].value_counts(normalize=True).sort_index().tolist()"
   ]
  },
  {
   "cell_type": "code",
   "execution_count": null,
   "id": "jb62xjWx_LAK",
   "metadata": {
    "ExecuteTime": {
     "end_time": "2022-03-17T15:49:23.274868Z",
     "start_time": "2022-03-17T15:49:23.274832Z"
    },
    "colab": {
     "base_uri": "https://localhost:8080/"
    },
    "executionInfo": {
     "elapsed": 577,
     "status": "ok",
     "timestamp": 1647531393341,
     "user": {
      "displayName": "Renan Pacheco",
      "photoUrl": "https://lh3.googleusercontent.com/a-/AOh14GiRv7UuC3atWqKJu9tdNt8L6TW4viUyBcgTc6e1sw=s64",
      "userId": "12718092000337794607"
     },
     "user_tz": 180
    },
    "id": "jb62xjWx_LAK",
    "outputId": "9982d159-bf95-4a4a-81be-790c5b09e5d3"
   },
   "outputs": [],
   "source": [
    "# For a regression analysis, the baseline model is the average of the data. For this particular case in which\n",
    "# the problem is based on a classification analysis, the baseline model must be one that *randomly chooses the\n",
    "# baseline prediction*:\n",
    "\n",
    "# (https://docs.python.org/3/library/random.html)\n",
    "\n",
    "country_destination_list = df1['country_destination'].drop_duplicates().sort_values().tolist()\n",
    "\n",
    "k_num = y_test.shape[0]\n",
    "\n",
    "country_destination_weights = df1['country_destination'].value_counts(normalize=True).sort_index().tolist()\n",
    "\n",
    "yhat_random = random.choices(population=country_destination_list,\n",
    "                             weights=country_destination_weights, \n",
    "                             k=k_num)\n",
    "\n",
    "len(yhat_random)"
   ]
  },
  {
   "cell_type": "markdown",
   "id": "u5dw0OLXCAWB",
   "metadata": {
    "id": "u5dw0OLXCAWB"
   },
   "source": [
    "### 5.1.2. Evaluation of baseline model performance"
   ]
  },
  {
   "cell_type": "code",
   "execution_count": null,
   "id": "T9v8rG5dAdqb",
   "metadata": {
    "ExecuteTime": {
     "end_time": "2022-03-17T15:49:23.282465Z",
     "start_time": "2022-03-17T15:49:23.282420Z"
    },
    "colab": {
     "base_uri": "https://localhost:8080/"
    },
    "executionInfo": {
     "elapsed": 300,
     "status": "ok",
     "timestamp": 1647531400512,
     "user": {
      "displayName": "Renan Pacheco",
      "photoUrl": "https://lh3.googleusercontent.com/a-/AOh14GiRv7UuC3atWqKJu9tdNt8L6TW4viUyBcgTc6e1sw=s64",
      "userId": "12718092000337794607"
     },
     "user_tz": 180
    },
    "id": "T9v8rG5dAdqb",
    "outputId": "8807221a-40fa-4eb9-e4ad-2ebfc5b418bc"
   },
   "outputs": [],
   "source": [
    "# Accuracy\n",
    "accur_random = m.accuracy_score( y_test, yhat_random )\n",
    "print( 'Accuracy from model: {}%'.format( accur_random*100 ) )"
   ]
  },
  {
   "cell_type": "code",
   "execution_count": null,
   "id": "jhVDyf8-FiE7",
   "metadata": {
    "ExecuteTime": {
     "end_time": "2022-03-17T15:49:23.285695Z",
     "start_time": "2022-03-17T15:49:23.285650Z"
    },
    "colab": {
     "base_uri": "https://localhost:8080/",
     "height": 689
    },
    "executionInfo": {
     "elapsed": 2973,
     "status": "ok",
     "timestamp": 1647531412693,
     "user": {
      "displayName": "Renan Pacheco",
      "photoUrl": "https://lh3.googleusercontent.com/a-/AOh14GiRv7UuC3atWqKJu9tdNt8L6TW4viUyBcgTc6e1sw=s64",
      "userId": "12718092000337794607"
     },
     "user_tz": 180
    },
    "id": "jhVDyf8-FiE7",
    "outputId": "d5b8677f-1788-498f-9480-90f2da3114cb"
   },
   "outputs": [],
   "source": [
    "# Confusion matrix\n",
    "mt.plot_confusion_matrix( y_test, yhat_random, normalize=False, figsize=(12, 12) );"
   ]
  },
  {
   "cell_type": "code",
   "execution_count": null,
   "id": "4Yj8HQiaFieO",
   "metadata": {
    "ExecuteTime": {
     "end_time": "2022-03-17T15:49:23.288269Z",
     "start_time": "2022-03-17T15:49:23.288239Z"
    },
    "colab": {
     "base_uri": "https://localhost:8080/"
    },
    "executionInfo": {
     "elapsed": 270,
     "status": "ok",
     "timestamp": 1647531415404,
     "user": {
      "displayName": "Renan Pacheco",
      "photoUrl": "https://lh3.googleusercontent.com/a-/AOh14GiRv7UuC3atWqKJu9tdNt8L6TW4viUyBcgTc6e1sw=s64",
      "userId": "12718092000337794607"
     },
     "user_tz": 180
    },
    "id": "4Yj8HQiaFieO",
    "outputId": "7ec43fea-4ee0-45f1-c0b4-290827db4082"
   },
   "outputs": [],
   "source": [
    "# Balanced Accuracy\n",
    "balanced_accur_random = m.balanced_accuracy_score(y_test, yhat_random)\n",
    "print( '\\nBalanced accuracy for NN: {}%\\n'.format(balanced_accur_random*100) )"
   ]
  },
  {
   "cell_type": "code",
   "execution_count": null,
   "id": "ER4zhABBFini",
   "metadata": {
    "ExecuteTime": {
     "end_time": "2022-03-17T15:49:23.290093Z",
     "start_time": "2022-03-17T15:49:23.290069Z"
    },
    "colab": {
     "base_uri": "https://localhost:8080/"
    },
    "executionInfo": {
     "elapsed": 1442,
     "status": "ok",
     "timestamp": 1647531420172,
     "user": {
      "displayName": "Renan Pacheco",
      "photoUrl": "https://lh3.googleusercontent.com/a-/AOh14GiRv7UuC3atWqKJu9tdNt8L6TW4viUyBcgTc6e1sw=s64",
      "userId": "12718092000337794607"
     },
     "user_tz": 180
    },
    "id": "ER4zhABBFini",
    "outputId": "6e2f5b92-b9e3-461d-93f7-cc45d505310e"
   },
   "outputs": [],
   "source": [
    "# Classification Report:\n",
    "print( m.classification_report(y_test, yhat_random) )"
   ]
  },
  {
   "cell_type": "code",
   "execution_count": null,
   "id": "rTeHfqUhFir7",
   "metadata": {
    "ExecuteTime": {
     "end_time": "2022-03-17T15:49:23.291729Z",
     "start_time": "2022-03-17T15:49:23.291705Z"
    },
    "colab": {
     "base_uri": "https://localhost:8080/"
    },
    "executionInfo": {
     "elapsed": 424,
     "status": "ok",
     "timestamp": 1647531425527,
     "user": {
      "displayName": "Renan Pacheco",
      "photoUrl": "https://lh3.googleusercontent.com/a-/AOh14GiRv7UuC3atWqKJu9tdNt8L6TW4viUyBcgTc6e1sw=s64",
      "userId": "12718092000337794607"
     },
     "user_tz": 180
    },
    "id": "rTeHfqUhFir7",
    "outputId": "19ca95a5-a51c-40c4-8ddd-b09d73f0b74e"
   },
   "outputs": [],
   "source": [
    "# Kappa Metrics:\n",
    "kappa_random = m.cohen_kappa_score(y_test, yhat_random)\n",
    "print( '\\nKappa Score for NN: {}%'.format(kappa_random*100) )"
   ]
  },
  {
   "cell_type": "markdown",
   "id": "Bxt0X_0RKnPr",
   "metadata": {
    "id": "Bxt0X_0RKnPr"
   },
   "source": [
    "## 5.2. Transformation of categorical variables"
   ]
  },
  {
   "cell_type": "code",
   "execution_count": null,
   "id": "TzAQ-_1IK69_",
   "metadata": {
    "ExecuteTime": {
     "end_time": "2022-03-17T15:49:23.294535Z",
     "start_time": "2022-03-17T15:49:23.294507Z"
    },
    "executionInfo": {
     "elapsed": 3,
     "status": "ok",
     "timestamp": 1647531430819,
     "user": {
      "displayName": "Renan Pacheco",
      "photoUrl": "https://lh3.googleusercontent.com/a-/AOh14GiRv7UuC3atWqKJu9tdNt8L6TW4viUyBcgTc6e1sw=s64",
      "userId": "12718092000337794607"
     },
     "user_tz": 180
    },
    "id": "TzAQ-_1IK69_"
   },
   "outputs": [],
   "source": [
    "ohe = pp.OneHotEncoder()\n",
    "\n",
    "# While transforming the categorical attributes (i.e. y_train) by using the One Hot Encoding transformation method, one needs\n",
    "# to perform it within the Neural Network (NN):\n",
    "y_train_nn = ohe.fit_transform( y_train.values.reshape( -1, 1 ) ).toarray()"
   ]
  },
  {
   "cell_type": "code",
   "execution_count": null,
   "id": "OEWux9Oa2Cej",
   "metadata": {
    "ExecuteTime": {
     "end_time": "2022-03-17T15:49:23.296399Z",
     "start_time": "2022-03-17T15:49:23.296374Z"
    },
    "colab": {
     "base_uri": "https://localhost:8080/"
    },
    "executionInfo": {
     "elapsed": 452,
     "status": "ok",
     "timestamp": 1647531433113,
     "user": {
      "displayName": "Renan Pacheco",
      "photoUrl": "https://lh3.googleusercontent.com/a-/AOh14GiRv7UuC3atWqKJu9tdNt8L6TW4viUyBcgTc6e1sw=s64",
      "userId": "12718092000337794607"
     },
     "user_tz": 180
    },
    "id": "OEWux9Oa2Cej",
    "outputId": "70ab8dd2-58eb-4bb4-b50a-cb92681e4e0b"
   },
   "outputs": [],
   "source": [
    "y_train_nn"
   ]
  },
  {
   "cell_type": "markdown",
   "id": "T61EDkNrcj8D",
   "metadata": {
    "id": "T61EDkNrcj8D"
   },
   "source": [
    "### 5.1.2. Data dimensions for the constructed datasets (Report)"
   ]
  },
  {
   "cell_type": "code",
   "execution_count": null,
   "id": "05yb3V42cEjq",
   "metadata": {
    "ExecuteTime": {
     "end_time": "2022-03-17T15:49:23.299059Z",
     "start_time": "2022-03-17T15:49:23.299023Z"
    },
    "colab": {
     "base_uri": "https://localhost:8080/"
    },
    "executionInfo": {
     "elapsed": 726,
     "status": "ok",
     "timestamp": 1647531438298,
     "user": {
      "displayName": "Renan Pacheco",
      "photoUrl": "https://lh3.googleusercontent.com/a-/AOh14GiRv7UuC3atWqKJu9tdNt8L6TW4viUyBcgTc6e1sw=s64",
      "userId": "12718092000337794607"
     },
     "user_tz": 180
    },
    "id": "05yb3V42cEjq",
    "outputId": "f9492eda-ddfc-4b9d-aecc-0e0971503eb7"
   },
   "outputs": [],
   "source": [
    "print(X_train.shape)\n",
    "print(X_test.shape)\n",
    "print(y_train.shape)\n",
    "print(y_test.shape)\n",
    "\n",
    "print('\\n')\n",
    "print(y_train_nn.shape)\n",
    "\n",
    "# Analysing the datasets to be used in the NN:\n",
    "print('\\n')\n",
    "print('x_train:')\n",
    "print(x_train.shape)\n",
    "print('\\ny_train for NN:')\n",
    "print(y_train_nn.shape)"
   ]
  },
  {
   "cell_type": "markdown",
   "id": "z9KYIwkGDuun",
   "metadata": {
    "id": "z9KYIwkGDuun"
   },
   "source": [
    "## 5.3. Building up the Neural Network - NN MLP"
   ]
  },
  {
   "cell_type": "code",
   "execution_count": null,
   "id": "qBjLgwt4FUQc",
   "metadata": {
    "ExecuteTime": {
     "end_time": "2022-03-17T15:49:23.302462Z",
     "start_time": "2022-03-17T15:49:23.302426Z"
    },
    "colab": {
     "base_uri": "https://localhost:8080/",
     "height": 380
    },
    "executionInfo": {
     "elapsed": 12632,
     "status": "error",
     "timestamp": 1647531457890,
     "user": {
      "displayName": "Renan Pacheco",
      "photoUrl": "https://lh3.googleusercontent.com/a-/AOh14GiRv7UuC3atWqKJu9tdNt8L6TW4viUyBcgTc6e1sw=s64",
      "userId": "12718092000337794607"
     },
     "user_tz": 180
    },
    "id": "qBjLgwt4FUQc",
    "outputId": "7bddc7e8-9595-4856-d7b1-e7fd454181bd"
   },
   "outputs": [],
   "source": [
    "# Model definition:\n",
    "model = ml.Sequential()\n",
    "\n",
    "# First layer of neural network:\n",
    "model.add( l.Dense( 128, input_dim=x_train.shape[1], activation='relu' ) )  \n",
    "\n",
    "# Second or exit layer for neural network:\n",
    "model.add( l.Dense( 11, activation='softmax' ) )\n",
    "\n",
    "# Compiling the model:\n",
    "model.compile( loss='categorical_crossentropy', optimizer='adam', metrics=['accuracy'] )\n",
    "\n",
    "# Training the model:\n",
    "model.fit( x_train, y_train_nn, epochs=100 )\n",
    "\n",
    "  \n"
   ]
  },
  {
   "cell_type": "markdown",
   "id": "b8afdd40",
   "metadata": {
    "id": "b8afdd40"
   },
   "source": [
    "# 6. Neural Network (NN) Performance"
   ]
  },
  {
   "cell_type": "markdown",
   "id": "-y6BxoQxEmoS",
   "metadata": {
    "id": "-y6BxoQxEmoS"
   },
   "source": [
    "## 6.1. Evaluating the prediction performance"
   ]
  },
  {
   "cell_type": "code",
   "execution_count": null,
   "id": "634115c8",
   "metadata": {
    "ExecuteTime": {
     "end_time": "2022-03-17T15:49:23.304876Z",
     "start_time": "2022-03-17T15:49:23.304836Z"
    },
    "colab": {
     "base_uri": "https://localhost:8080/",
     "height": 380
    },
    "executionInfo": {
     "elapsed": 3475,
     "status": "error",
     "timestamp": 1647531536704,
     "user": {
      "displayName": "Renan Pacheco",
      "photoUrl": "https://lh3.googleusercontent.com/a-/AOh14GiRv7UuC3atWqKJu9tdNt8L6TW4viUyBcgTc6e1sw=s64",
      "userId": "12718092000337794607"
     },
     "user_tz": 180
    },
    "id": "634115c8",
    "outputId": "e439faaa-9383-4c6d-f41c-f7886d49aa79"
   },
   "outputs": [],
   "source": [
    "# Evaluating the prediction after testing:\n",
    "pred_nn = model.predict( x_test )\n",
    "\n",
    "# Evaluating the inverted prediction:\n",
    "yhat_nn = ohe.inverse_transform( pred_nn )\n",
    "\n",
    "# Prediction prepare:\n",
    "y_test_nn = y_test.to_numpy()\n",
    "\n",
    "yhat_nn = yhat_nn.reshape( 1, -1 )[0]"
   ]
  },
  {
   "cell_type": "markdown",
   "id": "49d15b26",
   "metadata": {
    "id": "49d15b26"
   },
   "source": [
    "## 6.2. Post-Evaluation of Metrics"
   ]
  },
  {
   "cell_type": "code",
   "execution_count": null,
   "id": "zKRaBMExW3JX",
   "metadata": {
    "ExecuteTime": {
     "end_time": "2022-03-17T15:49:23.307351Z",
     "start_time": "2022-03-17T15:49:23.307317Z"
    },
    "executionInfo": {
     "elapsed": 44,
     "status": "aborted",
     "timestamp": 1647515940998,
     "user": {
      "displayName": "Renan Pacheco",
      "photoUrl": "https://lh3.googleusercontent.com/a-/AOh14GiRv7UuC3atWqKJu9tdNt8L6TW4viUyBcgTc6e1sw=s64",
      "userId": "12718092000337794607"
     },
     "user_tz": 180
    },
    "id": "zKRaBMExW3JX"
   },
   "outputs": [],
   "source": [
    "# Accuracy\n",
    "accur_nn = m.accuracy_score( y_test_nn, yhat_nn )\n",
    "\n",
    "print( 'Accuracy from model: {}%'.format( accur_nn*100 ) )"
   ]
  },
  {
   "cell_type": "code",
   "execution_count": null,
   "id": "zaqh5E05W3Q1",
   "metadata": {
    "ExecuteTime": {
     "end_time": "2022-03-17T15:49:23.310410Z",
     "start_time": "2022-03-17T15:49:23.310375Z"
    },
    "executionInfo": {
     "elapsed": 44,
     "status": "aborted",
     "timestamp": 1647515940999,
     "user": {
      "displayName": "Renan Pacheco",
      "photoUrl": "https://lh3.googleusercontent.com/a-/AOh14GiRv7UuC3atWqKJu9tdNt8L6TW4viUyBcgTc6e1sw=s64",
      "userId": "12718092000337794607"
     },
     "user_tz": 180
    },
    "id": "zaqh5E05W3Q1"
   },
   "outputs": [],
   "source": [
    "# Confusion matrix\n",
    "mt.plot_confusion_matrix( y_test_nn, yhat_nn, normalize=False, figsize=(12, 12) );"
   ]
  },
  {
   "cell_type": "code",
   "execution_count": null,
   "id": "zjlITP0LW3ZG",
   "metadata": {
    "ExecuteTime": {
     "end_time": "2022-03-17T15:49:23.313706Z",
     "start_time": "2022-03-17T15:49:23.313664Z"
    },
    "executionInfo": {
     "elapsed": 71489,
     "status": "aborted",
     "timestamp": 1647515940999,
     "user": {
      "displayName": "Renan Pacheco",
      "photoUrl": "https://lh3.googleusercontent.com/a-/AOh14GiRv7UuC3atWqKJu9tdNt8L6TW4viUyBcgTc6e1sw=s64",
      "userId": "12718092000337794607"
     },
     "user_tz": 180
    },
    "id": "zjlITP0LW3ZG"
   },
   "outputs": [],
   "source": [
    "# Balanced Accuracy\n",
    "balanced_accur_nn = m.balanced_accuracy_score(y_test_nn, yhat_nn)\n",
    "\n",
    "print( 'Balanced accuracy for NN: {}%'.format(balanced_accur_nn*100) )"
   ]
  },
  {
   "cell_type": "code",
   "execution_count": null,
   "id": "U_qJJzqkcyZm",
   "metadata": {
    "ExecuteTime": {
     "end_time": "2022-03-17T15:49:23.317218Z",
     "start_time": "2022-03-17T15:49:23.317177Z"
    },
    "executionInfo": {
     "elapsed": 71482,
     "status": "aborted",
     "timestamp": 1647515941001,
     "user": {
      "displayName": "Renan Pacheco",
      "photoUrl": "https://lh3.googleusercontent.com/a-/AOh14GiRv7UuC3atWqKJu9tdNt8L6TW4viUyBcgTc6e1sw=s64",
      "userId": "12718092000337794607"
     },
     "user_tz": 180
    },
    "id": "U_qJJzqkcyZm"
   },
   "outputs": [],
   "source": [
    "# Classification Report:\n",
    "print( m.classification_report(y_test_nn, yhat_nn) )"
   ]
  },
  {
   "cell_type": "code",
   "execution_count": null,
   "id": "7SSq_1KiE0Cd",
   "metadata": {
    "ExecuteTime": {
     "end_time": "2022-03-17T15:49:23.320558Z",
     "start_time": "2022-03-17T15:49:23.320521Z"
    },
    "executionInfo": {
     "elapsed": 71472,
     "status": "aborted",
     "timestamp": 1647515941001,
     "user": {
      "displayName": "Renan Pacheco",
      "photoUrl": "https://lh3.googleusercontent.com/a-/AOh14GiRv7UuC3atWqKJu9tdNt8L6TW4viUyBcgTc6e1sw=s64",
      "userId": "12718092000337794607"
     },
     "user_tz": 180
    },
    "id": "7SSq_1KiE0Cd"
   },
   "outputs": [],
   "source": [
    "# Kappa Metrics:\n",
    "kappa_nn = m.cohen_kappa_score(y_test_nn, yhat_nn)\n",
    "\n",
    "print( 'Kappa Score for NN: {}%'.format(kappa_nn*100) )"
   ]
  },
  {
   "cell_type": "markdown",
   "id": "XSEh2YnxE0eb",
   "metadata": {
    "id": "XSEh2YnxE0eb"
   },
   "source": [
    "## 6.3. Implementing Cross Validation for NN Performance"
   ]
  },
  {
   "cell_type": "code",
   "execution_count": null,
   "id": "V70rph0SZ17Y",
   "metadata": {
    "ExecuteTime": {
     "end_time": "2022-03-17T15:49:23.323244Z",
     "start_time": "2022-03-17T15:49:23.323219Z"
    },
    "executionInfo": {
     "elapsed": 71464,
     "status": "aborted",
     "timestamp": 1647515941002,
     "user": {
      "displayName": "Renan Pacheco",
      "photoUrl": "https://lh3.googleusercontent.com/a-/AOh14GiRv7UuC3atWqKJu9tdNt8L6TW4viUyBcgTc6e1sw=s64",
      "userId": "12718092000337794607"
     },
     "user_tz": 180
    },
    "id": "V70rph0SZ17Y"
   },
   "outputs": [],
   "source": [
    "# Generating k-fold:\n",
    "num_folds = 5\n",
    "kfold = ms.StratifiedKFold( n_splits=num_folds, shuffle=True, random_state=32 )\n",
    "\n",
    "balanced_accur_list = []\n",
    "kappa_accur_list = []\n",
    "\n",
    "i = 1\n",
    "\n",
    "for train_ix, val_ix in kfold.split( x_train, y_train ):    #Neste caso, a cada nova iteracao, a proporcao entre os dados de treino \n",
    "                                                            #e os dados de teste é mantida.\n",
    "  \n",
    "  # Print out of current fold in iteration:\n",
    "  print( 'Fold Number: {}/{}'.format(i, num_folds) )\n",
    "  \n",
    "  # Getting the folds for...\n",
    "\n",
    "  ## the training dataset:\n",
    "  x_train_fold = x_train.iloc[train_ix]\n",
    "  y_train_fold = y_train.iloc[train_ix]\n",
    "\n",
    "  ## the validation ('testing') dataset:\n",
    "  x_val_fold = x_train.iloc[val_ix]\n",
    "  y_val_fold = y_train.iloc[val_ix]\n",
    "\n",
    "\n",
    "  # Target one-hot-encoding for transforming the categorical variables from both the training and \n",
    "  # the validation dataset:\n",
    "  ohe =  pp.OneHotEncoder()\n",
    "  y_train_fold_nn = ohe.fit_transform( y_train_fold.values.reshape(-1, 1) ).toarray()\n",
    "\n",
    "\n",
    "  # Model definition:\n",
    "  ## (https://keras.io/api/layers/core_layers/dense/)\n",
    "  model = ml.Sequential()\n",
    "  model.add( l.Dense(256, input_dim=x_train.shape[1], activation='relu') )\n",
    "  model.add( l.Dense(11, activation='softmax') )\n",
    "\n",
    "  # Compiling the model:\n",
    "  model.compile( loss='categorical_crossentropy', optimizer='adam', metrics=['accuracy'] )\n",
    "\n",
    "  # Training the model:\n",
    "  model.fit( x_train_fold, y_train_fold_nn, epochs=100, batch_size=32, verbose=0 )\n",
    "\n",
    "  # Predictions:\n",
    "  pred_nn = model.predict(x_val_fold)\n",
    "\n",
    "  ## The 'pred_nn' variable is inherently encoded by the 'x_val_fold' variable, which came from 'x_train'. Due to this, \n",
    "  ## the 'pred_nn' must be \"de-encoded\":\n",
    "  yhat_nn = ohe.inverse_transform(pred_nn)\n",
    "\n",
    "\n",
    "  # Preparing the data after the prediction built-up:\n",
    "  y_test_nn = y_val_fold.to_numpy()   #The idea of converting a list of classes (in this case, 'y_val_fold') into \n",
    "                                      #an array to_numpy() is due to how the keras, from tensorflow, operates; from a list of \n",
    "                                      #classes into an array of encoded dummies.\n",
    "  yhat_nn = yhat_nn.reshape(1, -1)[0]\n",
    "\n",
    "\n",
    "  # Metrics:\n",
    "\n",
    "  ## Balanced Accuracy Metrics:\n",
    "  balanced_accur_nn = m.balanced_accuracy_score(y_test_nn, yhat_nn)\n",
    "  balanced_accur_list.append(balanced_accur_nn) \n",
    "\n",
    "  ## Kappa Metrics:\n",
    "  kappa_accur_nn = m.cohen_kappa_score(y_test_nn, yhat_nn)\n",
    "  kappa_accur_list.append(kappa_accur_nn) \n",
    "\n",
    "  i += 1"
   ]
  },
  {
   "cell_type": "code",
   "execution_count": null,
   "id": "2nLlkW6AZ1_Z",
   "metadata": {
    "ExecuteTime": {
     "end_time": "2022-03-17T15:49:23.325608Z",
     "start_time": "2022-03-17T15:49:23.325573Z"
    },
    "executionInfo": {
     "elapsed": 71456,
     "status": "aborted",
     "timestamp": 1647515941003,
     "user": {
      "displayName": "Renan Pacheco",
      "photoUrl": "https://lh3.googleusercontent.com/a-/AOh14GiRv7UuC3atWqKJu9tdNt8L6TW4viUyBcgTc6e1sw=s64",
      "userId": "12718092000337794607"
     },
     "user_tz": 180
    },
    "id": "2nLlkW6AZ1_Z"
   },
   "outputs": [],
   "source": [
    "# List for balanced accuracy, in which each position refers to the specific value of accuracy at \n",
    "# the current iterated fold.\n",
    "\n",
    "# print(type(balanced_accur_list))\n",
    "\n",
    "# Statistical Description for the balanced accuracy metric (Mean value + standard deviation):\n",
    "\n",
    "print( 'Average value for Balanced Accuracy: {} +/- {:,.10f}'.format(np.mean(balanced_accur_list), np.std(balanced_accur_list)) )\n",
    "print( 'Average value for Kapppa Accuracy: {} +/- {:,.10f}'.format(np.mean(kappa_accur_list), np.std(kappa_accur_list)) )\n",
    "\n"
   ]
  },
  {
   "cell_type": "code",
   "execution_count": null,
   "id": "liHlnm5jgkQ4",
   "metadata": {
    "executionInfo": {
     "elapsed": 71453,
     "status": "aborted",
     "timestamp": 1647515941004,
     "user": {
      "displayName": "Renan Pacheco",
      "photoUrl": "https://lh3.googleusercontent.com/a-/AOh14GiRv7UuC3atWqKJu9tdNt8L6TW4viUyBcgTc6e1sw=s64",
      "userId": "12718092000337794607"
     },
     "user_tz": 180
    },
    "id": "liHlnm5jgkQ4"
   },
   "outputs": [],
   "source": []
  },
  {
   "cell_type": "markdown",
   "id": "UDCZEo9kaAzR",
   "metadata": {
    "id": "UDCZEo9kaAzR"
   },
   "source": [
    "CONTINUAR LIVE NO TEMPO -1:16:50 (RESTANTES) -> https://membro.comunidadedatascience.com/38233-pa000-previsao-de-agendamento-do-airbnb/841683-live-003-cross-validation-para-dados-desbalanceados"
   ]
  },
  {
   "cell_type": "code",
   "execution_count": null,
   "id": "NjXtgXv0aA3K",
   "metadata": {
    "executionInfo": {
     "elapsed": 71449,
     "status": "aborted",
     "timestamp": 1647515941005,
     "user": {
      "displayName": "Renan Pacheco",
      "photoUrl": "https://lh3.googleusercontent.com/a-/AOh14GiRv7UuC3atWqKJu9tdNt8L6TW4viUyBcgTc6e1sw=s64",
      "userId": "12718092000337794607"
     },
     "user_tz": 180
    },
    "id": "NjXtgXv0aA3K"
   },
   "outputs": [],
   "source": []
  },
  {
   "cell_type": "code",
   "execution_count": null,
   "id": "lf3TKXosaA6I",
   "metadata": {
    "executionInfo": {
     "elapsed": 71446,
     "status": "aborted",
     "timestamp": 1647515941005,
     "user": {
      "displayName": "Renan Pacheco",
      "photoUrl": "https://lh3.googleusercontent.com/a-/AOh14GiRv7UuC3atWqKJu9tdNt8L6TW4viUyBcgTc6e1sw=s64",
      "userId": "12718092000337794607"
     },
     "user_tz": 180
    },
    "id": "lf3TKXosaA6I"
   },
   "outputs": [],
   "source": []
  }
 ],
 "metadata": {
  "colab": {
   "collapsed_sections": [
    "858f8c8e",
    "40ced25d",
    "062cb119",
    "da94f7e7",
    "ffb4afbf",
    "nbyckuCX3557",
    "Krf_KZMQ4CAe",
    "Qkt8G5Bnw1Ga",
    "SPfP7Y144CME",
    "12ac874b"
   ],
   "name": "Ciclo01_v03-Imbalanced_Metrics.ipynb",
   "provenance": []
  },
  "kernelspec": {
   "display_name": "Python 3 (ipykernel)",
   "language": "python",
   "name": "python3"
  },
  "language_info": {
   "codemirror_mode": {
    "name": "ipython",
    "version": 3
   },
   "file_extension": ".py",
   "mimetype": "text/x-python",
   "name": "python",
   "nbconvert_exporter": "python",
   "pygments_lexer": "ipython3",
   "version": "3.9.2"
  },
  "varInspector": {
   "cols": {
    "lenName": 16,
    "lenType": 16,
    "lenVar": 40
   },
   "kernels_config": {
    "python": {
     "delete_cmd_postfix": "",
     "delete_cmd_prefix": "del ",
     "library": "var_list.py",
     "varRefreshCmd": "print(var_dic_list())"
    },
    "r": {
     "delete_cmd_postfix": ") ",
     "delete_cmd_prefix": "rm(",
     "library": "var_list.r",
     "varRefreshCmd": "cat(var_dic_list()) "
    }
   },
   "types_to_exclude": [
    "module",
    "function",
    "builtin_function_or_method",
    "instance",
    "_Feature"
   ],
   "window_display": false
  }
 },
 "nbformat": 4,
 "nbformat_minor": 5
}
